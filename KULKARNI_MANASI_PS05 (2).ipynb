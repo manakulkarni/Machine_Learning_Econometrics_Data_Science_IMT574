{
 "cells": [
  {
   "cell_type": "markdown",
   "metadata": {},
   "source": [
    "## Problem Set 5: Manasi Sanjay Kulkarni\n",
    "### Collaborators: Pratik Damania, Aditya Wakade, Gaurav Gohil, Prem Shah"
   ]
  },
  {
   "cell_type": "code",
   "execution_count": 48,
   "metadata": {},
   "outputs": [
    {
     "name": "stderr",
     "output_type": "stream",
     "text": [
      "/Users/manasi/anaconda3/lib/python3.6/site-packages/sklearn/cross_validation.py:41: DeprecationWarning: This module was deprecated in version 0.18 in favor of the model_selection module into which all the refactored classes and functions are moved. Also note that the interface of the new CV iterators are different from that of this module. This module will be removed in 0.20.\n",
      "  \"This module will be removed in 0.20.\", DeprecationWarning)\n"
     ]
    }
   ],
   "source": [
    "#importing all the necessary packages\n",
    "import numpy as np\n",
    "import pandas as pd\n",
    "import scipy as sp\n",
    "import matplotlib\n",
    "import sklearn\n",
    "\n",
    "%matplotlib inline  \n",
    "import matplotlib.pyplot as plt  \n",
    "import statsmodels.api as sm\n",
    "from sklearn.linear_model import LinearRegression\n",
    "from sklearn.metrics import mean_squared_error\n",
    "import statsmodels.formula.api as smf\n",
    "import seaborn as sns\n",
    "from sklearn.cross_validation import train_test_split,cross_val_score"
   ]
  },
  {
   "cell_type": "markdown",
   "metadata": {},
   "source": [
    "I have loaded the initial data set and converted it to dataframe. Also given labels to the dataset."
   ]
  },
  {
   "cell_type": "code",
   "execution_count": 489,
   "metadata": {},
   "outputs": [],
   "source": [
    "#Loading the initial data and converting it to dataframe\n",
    "from sklearn.datasets import load_boston\n",
    "bdata=load_boston()\n",
    "data=pd.DataFrame(bdata.data)\n",
    "#target=pd.DataFrame(bdata.target)\n",
    "#data=pd.concat((data,target),axis=1)\n",
    "cols=bdata.feature_names\n",
    "#cols=np.append(bdata.feature_names,'MEDV')\n",
    "data.columns=cols"
   ]
  },
  {
   "cell_type": "code",
   "execution_count": 491,
   "metadata": {},
   "outputs": [
    {
     "data": {
      "text/html": [
       "<div>\n",
       "<style>\n",
       "    .dataframe thead tr:only-child th {\n",
       "        text-align: right;\n",
       "    }\n",
       "\n",
       "    .dataframe thead th {\n",
       "        text-align: left;\n",
       "    }\n",
       "\n",
       "    .dataframe tbody tr th {\n",
       "        vertical-align: top;\n",
       "    }\n",
       "</style>\n",
       "<table border=\"1\" class=\"dataframe\">\n",
       "  <thead>\n",
       "    <tr style=\"text-align: right;\">\n",
       "      <th></th>\n",
       "      <th>CRIM</th>\n",
       "      <th>ZN</th>\n",
       "      <th>INDUS</th>\n",
       "      <th>CHAS</th>\n",
       "      <th>NOX</th>\n",
       "      <th>RM</th>\n",
       "      <th>AGE</th>\n",
       "      <th>DIS</th>\n",
       "      <th>RAD</th>\n",
       "      <th>TAX</th>\n",
       "      <th>PTRATIO</th>\n",
       "      <th>B</th>\n",
       "      <th>LSTAT</th>\n",
       "    </tr>\n",
       "  </thead>\n",
       "  <tbody>\n",
       "    <tr>\n",
       "      <th>0</th>\n",
       "      <td>0.00632</td>\n",
       "      <td>18.0</td>\n",
       "      <td>2.31</td>\n",
       "      <td>0.0</td>\n",
       "      <td>0.538</td>\n",
       "      <td>6.575</td>\n",
       "      <td>65.2</td>\n",
       "      <td>4.0900</td>\n",
       "      <td>1.0</td>\n",
       "      <td>296.0</td>\n",
       "      <td>15.3</td>\n",
       "      <td>396.90</td>\n",
       "      <td>4.98</td>\n",
       "    </tr>\n",
       "    <tr>\n",
       "      <th>1</th>\n",
       "      <td>0.02731</td>\n",
       "      <td>0.0</td>\n",
       "      <td>7.07</td>\n",
       "      <td>0.0</td>\n",
       "      <td>0.469</td>\n",
       "      <td>6.421</td>\n",
       "      <td>78.9</td>\n",
       "      <td>4.9671</td>\n",
       "      <td>2.0</td>\n",
       "      <td>242.0</td>\n",
       "      <td>17.8</td>\n",
       "      <td>396.90</td>\n",
       "      <td>9.14</td>\n",
       "    </tr>\n",
       "    <tr>\n",
       "      <th>2</th>\n",
       "      <td>0.02729</td>\n",
       "      <td>0.0</td>\n",
       "      <td>7.07</td>\n",
       "      <td>0.0</td>\n",
       "      <td>0.469</td>\n",
       "      <td>7.185</td>\n",
       "      <td>61.1</td>\n",
       "      <td>4.9671</td>\n",
       "      <td>2.0</td>\n",
       "      <td>242.0</td>\n",
       "      <td>17.8</td>\n",
       "      <td>392.83</td>\n",
       "      <td>4.03</td>\n",
       "    </tr>\n",
       "    <tr>\n",
       "      <th>3</th>\n",
       "      <td>0.03237</td>\n",
       "      <td>0.0</td>\n",
       "      <td>2.18</td>\n",
       "      <td>0.0</td>\n",
       "      <td>0.458</td>\n",
       "      <td>6.998</td>\n",
       "      <td>45.8</td>\n",
       "      <td>6.0622</td>\n",
       "      <td>3.0</td>\n",
       "      <td>222.0</td>\n",
       "      <td>18.7</td>\n",
       "      <td>394.63</td>\n",
       "      <td>2.94</td>\n",
       "    </tr>\n",
       "    <tr>\n",
       "      <th>4</th>\n",
       "      <td>0.06905</td>\n",
       "      <td>0.0</td>\n",
       "      <td>2.18</td>\n",
       "      <td>0.0</td>\n",
       "      <td>0.458</td>\n",
       "      <td>7.147</td>\n",
       "      <td>54.2</td>\n",
       "      <td>6.0622</td>\n",
       "      <td>3.0</td>\n",
       "      <td>222.0</td>\n",
       "      <td>18.7</td>\n",
       "      <td>396.90</td>\n",
       "      <td>5.33</td>\n",
       "    </tr>\n",
       "  </tbody>\n",
       "</table>\n",
       "</div>"
      ],
      "text/plain": [
       "      CRIM    ZN  INDUS  CHAS    NOX     RM   AGE     DIS  RAD    TAX  \\\n",
       "0  0.00632  18.0   2.31   0.0  0.538  6.575  65.2  4.0900  1.0  296.0   \n",
       "1  0.02731   0.0   7.07   0.0  0.469  6.421  78.9  4.9671  2.0  242.0   \n",
       "2  0.02729   0.0   7.07   0.0  0.469  7.185  61.1  4.9671  2.0  242.0   \n",
       "3  0.03237   0.0   2.18   0.0  0.458  6.998  45.8  6.0622  3.0  222.0   \n",
       "4  0.06905   0.0   2.18   0.0  0.458  7.147  54.2  6.0622  3.0  222.0   \n",
       "\n",
       "   PTRATIO       B  LSTAT  \n",
       "0     15.3  396.90   4.98  \n",
       "1     17.8  396.90   9.14  \n",
       "2     17.8  392.83   4.03  \n",
       "3     18.7  394.63   2.94  \n",
       "4     18.7  396.90   5.33  "
      ]
     },
     "execution_count": 491,
     "metadata": {},
     "output_type": "execute_result"
    }
   ],
   "source": [
    "#Head of data\n",
    "data1=data\n",
    "data.head(5)"
   ]
  },
  {
   "cell_type": "markdown",
   "metadata": {},
   "source": [
    "## 1.2 Adding engineered features"
   ]
  },
  {
   "cell_type": "code",
   "execution_count": 492,
   "metadata": {
    "collapsed": true
   },
   "outputs": [],
   "source": [
    "#Creating Engineered columns\n",
    "data['ZN_SQ']=data['ZN']**2\n",
    "data['CRIM_ZN']=data['CRIM']*data['ZN']\n",
    "data['INDUS_CHAS']=data['INDUS']*data['CHAS']\n",
    "data['DIS_SQ']=data['DIS']**2\n",
    "data['RAD_SQ']=data['RAD']**2\n",
    "data['DIS_RAD']=data['DIS']*data['RAD']\n",
    "data['CRIM_SQ']=data['CRIM']**2\n",
    "data['RM_SQ']=data['RM']**2\n",
    "data['RM_RAD']=data['RM']*data['RAD']\n",
    "data['LSTAT_SQ']=data['LSTAT']**2"
   ]
  },
  {
   "cell_type": "markdown",
   "metadata": {},
   "source": [
    "## 1.3 Adding Bogus Features"
   ]
  },
  {
   "cell_type": "code",
   "execution_count": 493,
   "metadata": {},
   "outputs": [
    {
     "data": {
      "text/html": [
       "<div>\n",
       "<style>\n",
       "    .dataframe thead tr:only-child th {\n",
       "        text-align: right;\n",
       "    }\n",
       "\n",
       "    .dataframe thead th {\n",
       "        text-align: left;\n",
       "    }\n",
       "\n",
       "    .dataframe tbody tr th {\n",
       "        vertical-align: top;\n",
       "    }\n",
       "</style>\n",
       "<table border=\"1\" class=\"dataframe\">\n",
       "  <thead>\n",
       "    <tr style=\"text-align: right;\">\n",
       "      <th></th>\n",
       "      <th>CRIM</th>\n",
       "      <th>ZN</th>\n",
       "      <th>INDUS</th>\n",
       "      <th>CHAS</th>\n",
       "      <th>NOX</th>\n",
       "      <th>RM</th>\n",
       "      <th>AGE</th>\n",
       "      <th>DIS</th>\n",
       "      <th>RAD</th>\n",
       "      <th>TAX</th>\n",
       "      <th>...</th>\n",
       "      <th>B1</th>\n",
       "      <th>B2</th>\n",
       "      <th>B3</th>\n",
       "      <th>B4</th>\n",
       "      <th>B5</th>\n",
       "      <th>B6</th>\n",
       "      <th>B7</th>\n",
       "      <th>B8</th>\n",
       "      <th>B9</th>\n",
       "      <th>B10</th>\n",
       "    </tr>\n",
       "  </thead>\n",
       "  <tbody>\n",
       "    <tr>\n",
       "      <th>0</th>\n",
       "      <td>0.00632</td>\n",
       "      <td>18.0</td>\n",
       "      <td>2.31</td>\n",
       "      <td>0.0</td>\n",
       "      <td>0.538</td>\n",
       "      <td>6.575</td>\n",
       "      <td>65.2</td>\n",
       "      <td>4.0900</td>\n",
       "      <td>1.0</td>\n",
       "      <td>296.0</td>\n",
       "      <td>...</td>\n",
       "      <td>48</td>\n",
       "      <td>769</td>\n",
       "      <td>818</td>\n",
       "      <td>239</td>\n",
       "      <td>46</td>\n",
       "      <td>411</td>\n",
       "      <td>329</td>\n",
       "      <td>465</td>\n",
       "      <td>437</td>\n",
       "      <td>599</td>\n",
       "    </tr>\n",
       "    <tr>\n",
       "      <th>1</th>\n",
       "      <td>0.02731</td>\n",
       "      <td>0.0</td>\n",
       "      <td>7.07</td>\n",
       "      <td>0.0</td>\n",
       "      <td>0.469</td>\n",
       "      <td>6.421</td>\n",
       "      <td>78.9</td>\n",
       "      <td>4.9671</td>\n",
       "      <td>2.0</td>\n",
       "      <td>242.0</td>\n",
       "      <td>...</td>\n",
       "      <td>545</td>\n",
       "      <td>274</td>\n",
       "      <td>318</td>\n",
       "      <td>462</td>\n",
       "      <td>81</td>\n",
       "      <td>424</td>\n",
       "      <td>364</td>\n",
       "      <td>917</td>\n",
       "      <td>279</td>\n",
       "      <td>630</td>\n",
       "    </tr>\n",
       "    <tr>\n",
       "      <th>2</th>\n",
       "      <td>0.02729</td>\n",
       "      <td>0.0</td>\n",
       "      <td>7.07</td>\n",
       "      <td>0.0</td>\n",
       "      <td>0.469</td>\n",
       "      <td>7.185</td>\n",
       "      <td>61.1</td>\n",
       "      <td>4.9671</td>\n",
       "      <td>2.0</td>\n",
       "      <td>242.0</td>\n",
       "      <td>...</td>\n",
       "      <td>83</td>\n",
       "      <td>13</td>\n",
       "      <td>845</td>\n",
       "      <td>660</td>\n",
       "      <td>356</td>\n",
       "      <td>97</td>\n",
       "      <td>894</td>\n",
       "      <td>944</td>\n",
       "      <td>904</td>\n",
       "      <td>652</td>\n",
       "    </tr>\n",
       "    <tr>\n",
       "      <th>3</th>\n",
       "      <td>0.03237</td>\n",
       "      <td>0.0</td>\n",
       "      <td>2.18</td>\n",
       "      <td>0.0</td>\n",
       "      <td>0.458</td>\n",
       "      <td>6.998</td>\n",
       "      <td>45.8</td>\n",
       "      <td>6.0622</td>\n",
       "      <td>3.0</td>\n",
       "      <td>222.0</td>\n",
       "      <td>...</td>\n",
       "      <td>29</td>\n",
       "      <td>340</td>\n",
       "      <td>426</td>\n",
       "      <td>3</td>\n",
       "      <td>268</td>\n",
       "      <td>124</td>\n",
       "      <td>110</td>\n",
       "      <td>5</td>\n",
       "      <td>585</td>\n",
       "      <td>517</td>\n",
       "    </tr>\n",
       "    <tr>\n",
       "      <th>4</th>\n",
       "      <td>0.06905</td>\n",
       "      <td>0.0</td>\n",
       "      <td>2.18</td>\n",
       "      <td>0.0</td>\n",
       "      <td>0.458</td>\n",
       "      <td>7.147</td>\n",
       "      <td>54.2</td>\n",
       "      <td>6.0622</td>\n",
       "      <td>3.0</td>\n",
       "      <td>222.0</td>\n",
       "      <td>...</td>\n",
       "      <td>864</td>\n",
       "      <td>309</td>\n",
       "      <td>651</td>\n",
       "      <td>816</td>\n",
       "      <td>832</td>\n",
       "      <td>239</td>\n",
       "      <td>158</td>\n",
       "      <td>600</td>\n",
       "      <td>682</td>\n",
       "      <td>698</td>\n",
       "    </tr>\n",
       "  </tbody>\n",
       "</table>\n",
       "<p>5 rows × 33 columns</p>\n",
       "</div>"
      ],
      "text/plain": [
       "      CRIM    ZN  INDUS  CHAS    NOX     RM   AGE     DIS  RAD    TAX ...   \\\n",
       "0  0.00632  18.0   2.31   0.0  0.538  6.575  65.2  4.0900  1.0  296.0 ...    \n",
       "1  0.02731   0.0   7.07   0.0  0.469  6.421  78.9  4.9671  2.0  242.0 ...    \n",
       "2  0.02729   0.0   7.07   0.0  0.469  7.185  61.1  4.9671  2.0  242.0 ...    \n",
       "3  0.03237   0.0   2.18   0.0  0.458  6.998  45.8  6.0622  3.0  222.0 ...    \n",
       "4  0.06905   0.0   2.18   0.0  0.458  7.147  54.2  6.0622  3.0  222.0 ...    \n",
       "\n",
       "    B1   B2   B3   B4   B5   B6   B7   B8   B9  B10  \n",
       "0   48  769  818  239   46  411  329  465  437  599  \n",
       "1  545  274  318  462   81  424  364  917  279  630  \n",
       "2   83   13  845  660  356   97  894  944  904  652  \n",
       "3   29  340  426    3  268  124  110    5  585  517  \n",
       "4  864  309  651  816  832  239  158  600  682  698  \n",
       "\n",
       "[5 rows x 33 columns]"
      ]
     },
     "execution_count": 493,
     "metadata": {},
     "output_type": "execute_result"
    }
   ],
   "source": [
    "#Adding random columns B1-B10\n",
    "import random\n",
    "cols=['B1','B2','B3','B4','B5','B6','B7','B8','B9','B10']\n",
    "for i in cols:\n",
    "    data[i]=random.sample(range(1,1000),506)\n",
    "    \n",
    "data.head(5)"
   ]
  },
  {
   "cell_type": "markdown",
   "metadata": {},
   "source": [
    "## Adding target column in the end"
   ]
  },
  {
   "cell_type": "code",
   "execution_count": 500,
   "metadata": {},
   "outputs": [
    {
     "data": {
      "text/html": [
       "<div>\n",
       "<style>\n",
       "    .dataframe thead tr:only-child th {\n",
       "        text-align: right;\n",
       "    }\n",
       "\n",
       "    .dataframe thead th {\n",
       "        text-align: left;\n",
       "    }\n",
       "\n",
       "    .dataframe tbody tr th {\n",
       "        vertical-align: top;\n",
       "    }\n",
       "</style>\n",
       "<table border=\"1\" class=\"dataframe\">\n",
       "  <thead>\n",
       "    <tr style=\"text-align: right;\">\n",
       "      <th></th>\n",
       "      <th>CRIM</th>\n",
       "      <th>ZN</th>\n",
       "      <th>INDUS</th>\n",
       "      <th>CHAS</th>\n",
       "      <th>NOX</th>\n",
       "      <th>RM</th>\n",
       "      <th>AGE</th>\n",
       "      <th>DIS</th>\n",
       "      <th>RAD</th>\n",
       "      <th>TAX</th>\n",
       "      <th>...</th>\n",
       "      <th>B2</th>\n",
       "      <th>B3</th>\n",
       "      <th>B4</th>\n",
       "      <th>B5</th>\n",
       "      <th>B6</th>\n",
       "      <th>B7</th>\n",
       "      <th>B8</th>\n",
       "      <th>B9</th>\n",
       "      <th>B10</th>\n",
       "      <th>MEDV</th>\n",
       "    </tr>\n",
       "  </thead>\n",
       "  <tbody>\n",
       "    <tr>\n",
       "      <th>0</th>\n",
       "      <td>0.00632</td>\n",
       "      <td>18.0</td>\n",
       "      <td>2.31</td>\n",
       "      <td>0.0</td>\n",
       "      <td>0.538</td>\n",
       "      <td>6.575</td>\n",
       "      <td>65.2</td>\n",
       "      <td>4.0900</td>\n",
       "      <td>1.0</td>\n",
       "      <td>296.0</td>\n",
       "      <td>...</td>\n",
       "      <td>769</td>\n",
       "      <td>818</td>\n",
       "      <td>239</td>\n",
       "      <td>46</td>\n",
       "      <td>411</td>\n",
       "      <td>329</td>\n",
       "      <td>465</td>\n",
       "      <td>437</td>\n",
       "      <td>599</td>\n",
       "      <td>24.0</td>\n",
       "    </tr>\n",
       "    <tr>\n",
       "      <th>1</th>\n",
       "      <td>0.02731</td>\n",
       "      <td>0.0</td>\n",
       "      <td>7.07</td>\n",
       "      <td>0.0</td>\n",
       "      <td>0.469</td>\n",
       "      <td>6.421</td>\n",
       "      <td>78.9</td>\n",
       "      <td>4.9671</td>\n",
       "      <td>2.0</td>\n",
       "      <td>242.0</td>\n",
       "      <td>...</td>\n",
       "      <td>274</td>\n",
       "      <td>318</td>\n",
       "      <td>462</td>\n",
       "      <td>81</td>\n",
       "      <td>424</td>\n",
       "      <td>364</td>\n",
       "      <td>917</td>\n",
       "      <td>279</td>\n",
       "      <td>630</td>\n",
       "      <td>21.6</td>\n",
       "    </tr>\n",
       "    <tr>\n",
       "      <th>2</th>\n",
       "      <td>0.02729</td>\n",
       "      <td>0.0</td>\n",
       "      <td>7.07</td>\n",
       "      <td>0.0</td>\n",
       "      <td>0.469</td>\n",
       "      <td>7.185</td>\n",
       "      <td>61.1</td>\n",
       "      <td>4.9671</td>\n",
       "      <td>2.0</td>\n",
       "      <td>242.0</td>\n",
       "      <td>...</td>\n",
       "      <td>13</td>\n",
       "      <td>845</td>\n",
       "      <td>660</td>\n",
       "      <td>356</td>\n",
       "      <td>97</td>\n",
       "      <td>894</td>\n",
       "      <td>944</td>\n",
       "      <td>904</td>\n",
       "      <td>652</td>\n",
       "      <td>34.7</td>\n",
       "    </tr>\n",
       "    <tr>\n",
       "      <th>3</th>\n",
       "      <td>0.03237</td>\n",
       "      <td>0.0</td>\n",
       "      <td>2.18</td>\n",
       "      <td>0.0</td>\n",
       "      <td>0.458</td>\n",
       "      <td>6.998</td>\n",
       "      <td>45.8</td>\n",
       "      <td>6.0622</td>\n",
       "      <td>3.0</td>\n",
       "      <td>222.0</td>\n",
       "      <td>...</td>\n",
       "      <td>340</td>\n",
       "      <td>426</td>\n",
       "      <td>3</td>\n",
       "      <td>268</td>\n",
       "      <td>124</td>\n",
       "      <td>110</td>\n",
       "      <td>5</td>\n",
       "      <td>585</td>\n",
       "      <td>517</td>\n",
       "      <td>33.4</td>\n",
       "    </tr>\n",
       "    <tr>\n",
       "      <th>4</th>\n",
       "      <td>0.06905</td>\n",
       "      <td>0.0</td>\n",
       "      <td>2.18</td>\n",
       "      <td>0.0</td>\n",
       "      <td>0.458</td>\n",
       "      <td>7.147</td>\n",
       "      <td>54.2</td>\n",
       "      <td>6.0622</td>\n",
       "      <td>3.0</td>\n",
       "      <td>222.0</td>\n",
       "      <td>...</td>\n",
       "      <td>309</td>\n",
       "      <td>651</td>\n",
       "      <td>816</td>\n",
       "      <td>832</td>\n",
       "      <td>239</td>\n",
       "      <td>158</td>\n",
       "      <td>600</td>\n",
       "      <td>682</td>\n",
       "      <td>698</td>\n",
       "      <td>36.2</td>\n",
       "    </tr>\n",
       "  </tbody>\n",
       "</table>\n",
       "<p>5 rows × 34 columns</p>\n",
       "</div>"
      ],
      "text/plain": [
       "      CRIM    ZN  INDUS  CHAS    NOX     RM   AGE     DIS  RAD    TAX  ...   \\\n",
       "0  0.00632  18.0   2.31   0.0  0.538  6.575  65.2  4.0900  1.0  296.0  ...    \n",
       "1  0.02731   0.0   7.07   0.0  0.469  6.421  78.9  4.9671  2.0  242.0  ...    \n",
       "2  0.02729   0.0   7.07   0.0  0.469  7.185  61.1  4.9671  2.0  242.0  ...    \n",
       "3  0.03237   0.0   2.18   0.0  0.458  6.998  45.8  6.0622  3.0  222.0  ...    \n",
       "4  0.06905   0.0   2.18   0.0  0.458  7.147  54.2  6.0622  3.0  222.0  ...    \n",
       "\n",
       "    B2   B3   B4   B5   B6   B7   B8   B9  B10  MEDV  \n",
       "0  769  818  239   46  411  329  465  437  599  24.0  \n",
       "1  274  318  462   81  424  364  917  279  630  21.6  \n",
       "2   13  845  660  356   97  894  944  904  652  34.7  \n",
       "3  340  426    3  268  124  110    5  585  517  33.4  \n",
       "4  309  651  816  832  239  158  600  682  698  36.2  \n",
       "\n",
       "[5 rows x 34 columns]"
      ]
     },
     "execution_count": 500,
     "metadata": {},
     "output_type": "execute_result"
    }
   ],
   "source": [
    "#Adding target in the end\n",
    "target=pd.DataFrame(bdata.target)\n",
    "data['MEDV']=target\n",
    "data.head(5)"
   ]
  },
  {
   "cell_type": "markdown",
   "metadata": {},
   "source": [
    "## 1.4 Creating summary statistics\n",
    "\n",
    "There are no null values in any of the variables"
   ]
  },
  {
   "cell_type": "code",
   "execution_count": 60,
   "metadata": {
    "collapsed": true
   },
   "outputs": [],
   "source": [
    "#Creating summary statistic\n",
    "summary=data.describe()"
   ]
  },
  {
   "cell_type": "code",
   "execution_count": 61,
   "metadata": {
    "collapsed": true
   },
   "outputs": [],
   "source": [
    "#Finding the missing values\n",
    "missing=data.isnull().sum(axis=0)"
   ]
  },
  {
   "cell_type": "code",
   "execution_count": 62,
   "metadata": {},
   "outputs": [
    {
     "data": {
      "text/html": [
       "<div>\n",
       "<style>\n",
       "    .dataframe thead tr:only-child th {\n",
       "        text-align: right;\n",
       "    }\n",
       "\n",
       "    .dataframe thead th {\n",
       "        text-align: left;\n",
       "    }\n",
       "\n",
       "    .dataframe tbody tr th {\n",
       "        vertical-align: top;\n",
       "    }\n",
       "</style>\n",
       "<table border=\"1\" class=\"dataframe\">\n",
       "  <thead>\n",
       "    <tr style=\"text-align: right;\">\n",
       "      <th></th>\n",
       "      <th>CRIM</th>\n",
       "      <th>ZN</th>\n",
       "      <th>INDUS</th>\n",
       "      <th>CHAS</th>\n",
       "      <th>NOX</th>\n",
       "      <th>RM</th>\n",
       "      <th>AGE</th>\n",
       "      <th>DIS</th>\n",
       "      <th>RAD</th>\n",
       "      <th>TAX</th>\n",
       "      <th>...</th>\n",
       "      <th>B4</th>\n",
       "      <th>B5</th>\n",
       "      <th>B6</th>\n",
       "      <th>B7</th>\n",
       "      <th>B8</th>\n",
       "      <th>B9</th>\n",
       "      <th>B10</th>\n",
       "      <th>RM_SQ</th>\n",
       "      <th>RM_RAD</th>\n",
       "      <th>LSTAT_SQ</th>\n",
       "    </tr>\n",
       "  </thead>\n",
       "  <tbody>\n",
       "    <tr>\n",
       "      <th>count</th>\n",
       "      <td>506.000000</td>\n",
       "      <td>506.000000</td>\n",
       "      <td>506.000000</td>\n",
       "      <td>506.000000</td>\n",
       "      <td>506.000000</td>\n",
       "      <td>506.000000</td>\n",
       "      <td>506.000000</td>\n",
       "      <td>506.000000</td>\n",
       "      <td>506.000000</td>\n",
       "      <td>506.000000</td>\n",
       "      <td>...</td>\n",
       "      <td>506.000000</td>\n",
       "      <td>506.000000</td>\n",
       "      <td>506.000000</td>\n",
       "      <td>506.000000</td>\n",
       "      <td>506.000000</td>\n",
       "      <td>506.000000</td>\n",
       "      <td>506.000000</td>\n",
       "      <td>506.000000</td>\n",
       "      <td>506.000000</td>\n",
       "      <td>506.000000</td>\n",
       "    </tr>\n",
       "    <tr>\n",
       "      <th>mean</th>\n",
       "      <td>3.593761</td>\n",
       "      <td>11.363636</td>\n",
       "      <td>11.136779</td>\n",
       "      <td>0.069170</td>\n",
       "      <td>0.554695</td>\n",
       "      <td>6.284634</td>\n",
       "      <td>68.574901</td>\n",
       "      <td>3.795043</td>\n",
       "      <td>9.549407</td>\n",
       "      <td>408.237154</td>\n",
       "      <td>...</td>\n",
       "      <td>498.079051</td>\n",
       "      <td>489.964427</td>\n",
       "      <td>502.867589</td>\n",
       "      <td>511.468379</td>\n",
       "      <td>507.547431</td>\n",
       "      <td>491.055336</td>\n",
       "      <td>490.154150</td>\n",
       "      <td>39.989325</td>\n",
       "      <td>58.733255</td>\n",
       "      <td>210.993989</td>\n",
       "    </tr>\n",
       "    <tr>\n",
       "      <th>std</th>\n",
       "      <td>8.596783</td>\n",
       "      <td>23.322453</td>\n",
       "      <td>6.860353</td>\n",
       "      <td>0.253994</td>\n",
       "      <td>0.115878</td>\n",
       "      <td>0.702617</td>\n",
       "      <td>28.148861</td>\n",
       "      <td>2.105710</td>\n",
       "      <td>8.707259</td>\n",
       "      <td>168.537116</td>\n",
       "      <td>...</td>\n",
       "      <td>289.663105</td>\n",
       "      <td>293.477327</td>\n",
       "      <td>280.253478</td>\n",
       "      <td>293.725190</td>\n",
       "      <td>286.998877</td>\n",
       "      <td>287.834277</td>\n",
       "      <td>288.814058</td>\n",
       "      <td>9.079531</td>\n",
       "      <td>52.720853</td>\n",
       "      <td>236.061920</td>\n",
       "    </tr>\n",
       "    <tr>\n",
       "      <th>min</th>\n",
       "      <td>0.006320</td>\n",
       "      <td>0.000000</td>\n",
       "      <td>0.460000</td>\n",
       "      <td>0.000000</td>\n",
       "      <td>0.385000</td>\n",
       "      <td>3.561000</td>\n",
       "      <td>2.900000</td>\n",
       "      <td>1.129600</td>\n",
       "      <td>1.000000</td>\n",
       "      <td>187.000000</td>\n",
       "      <td>...</td>\n",
       "      <td>1.000000</td>\n",
       "      <td>2.000000</td>\n",
       "      <td>1.000000</td>\n",
       "      <td>2.000000</td>\n",
       "      <td>2.000000</td>\n",
       "      <td>3.000000</td>\n",
       "      <td>1.000000</td>\n",
       "      <td>12.680721</td>\n",
       "      <td>5.706000</td>\n",
       "      <td>2.992900</td>\n",
       "    </tr>\n",
       "    <tr>\n",
       "      <th>25%</th>\n",
       "      <td>0.082045</td>\n",
       "      <td>0.000000</td>\n",
       "      <td>5.190000</td>\n",
       "      <td>0.000000</td>\n",
       "      <td>0.449000</td>\n",
       "      <td>5.885500</td>\n",
       "      <td>45.025000</td>\n",
       "      <td>2.100175</td>\n",
       "      <td>4.000000</td>\n",
       "      <td>279.000000</td>\n",
       "      <td>...</td>\n",
       "      <td>256.500000</td>\n",
       "      <td>226.250000</td>\n",
       "      <td>270.250000</td>\n",
       "      <td>252.250000</td>\n",
       "      <td>269.250000</td>\n",
       "      <td>243.000000</td>\n",
       "      <td>230.500000</td>\n",
       "      <td>34.639111</td>\n",
       "      <td>23.854000</td>\n",
       "      <td>48.303700</td>\n",
       "    </tr>\n",
       "    <tr>\n",
       "      <th>50%</th>\n",
       "      <td>0.256510</td>\n",
       "      <td>0.000000</td>\n",
       "      <td>9.690000</td>\n",
       "      <td>0.000000</td>\n",
       "      <td>0.538000</td>\n",
       "      <td>6.208500</td>\n",
       "      <td>77.500000</td>\n",
       "      <td>3.207450</td>\n",
       "      <td>5.000000</td>\n",
       "      <td>330.000000</td>\n",
       "      <td>...</td>\n",
       "      <td>498.000000</td>\n",
       "      <td>493.500000</td>\n",
       "      <td>496.000000</td>\n",
       "      <td>512.500000</td>\n",
       "      <td>506.000000</td>\n",
       "      <td>491.500000</td>\n",
       "      <td>480.500000</td>\n",
       "      <td>38.545473</td>\n",
       "      <td>31.567500</td>\n",
       "      <td>129.050000</td>\n",
       "    </tr>\n",
       "    <tr>\n",
       "      <th>75%</th>\n",
       "      <td>3.647423</td>\n",
       "      <td>12.500000</td>\n",
       "      <td>18.100000</td>\n",
       "      <td>0.000000</td>\n",
       "      <td>0.624000</td>\n",
       "      <td>6.623500</td>\n",
       "      <td>94.075000</td>\n",
       "      <td>5.188425</td>\n",
       "      <td>24.000000</td>\n",
       "      <td>666.000000</td>\n",
       "      <td>...</td>\n",
       "      <td>738.500000</td>\n",
       "      <td>734.750000</td>\n",
       "      <td>742.750000</td>\n",
       "      <td>762.500000</td>\n",
       "      <td>741.250000</td>\n",
       "      <td>735.750000</td>\n",
       "      <td>742.500000</td>\n",
       "      <td>43.870759</td>\n",
       "      <td>107.550000</td>\n",
       "      <td>287.472100</td>\n",
       "    </tr>\n",
       "    <tr>\n",
       "      <th>max</th>\n",
       "      <td>88.976200</td>\n",
       "      <td>100.000000</td>\n",
       "      <td>27.740000</td>\n",
       "      <td>1.000000</td>\n",
       "      <td>0.871000</td>\n",
       "      <td>8.780000</td>\n",
       "      <td>100.000000</td>\n",
       "      <td>12.126500</td>\n",
       "      <td>24.000000</td>\n",
       "      <td>711.000000</td>\n",
       "      <td>...</td>\n",
       "      <td>999.000000</td>\n",
       "      <td>999.000000</td>\n",
       "      <td>998.000000</td>\n",
       "      <td>999.000000</td>\n",
       "      <td>998.000000</td>\n",
       "      <td>999.000000</td>\n",
       "      <td>994.000000</td>\n",
       "      <td>77.088400</td>\n",
       "      <td>210.720000</td>\n",
       "      <td>1441.720900</td>\n",
       "    </tr>\n",
       "    <tr>\n",
       "      <th>null_values</th>\n",
       "      <td>0.000000</td>\n",
       "      <td>0.000000</td>\n",
       "      <td>0.000000</td>\n",
       "      <td>0.000000</td>\n",
       "      <td>0.000000</td>\n",
       "      <td>0.000000</td>\n",
       "      <td>0.000000</td>\n",
       "      <td>0.000000</td>\n",
       "      <td>0.000000</td>\n",
       "      <td>0.000000</td>\n",
       "      <td>...</td>\n",
       "      <td>0.000000</td>\n",
       "      <td>0.000000</td>\n",
       "      <td>0.000000</td>\n",
       "      <td>0.000000</td>\n",
       "      <td>0.000000</td>\n",
       "      <td>0.000000</td>\n",
       "      <td>0.000000</td>\n",
       "      <td>0.000000</td>\n",
       "      <td>0.000000</td>\n",
       "      <td>0.000000</td>\n",
       "    </tr>\n",
       "  </tbody>\n",
       "</table>\n",
       "<p>9 rows × 34 columns</p>\n",
       "</div>"
      ],
      "text/plain": [
       "                   CRIM          ZN       INDUS        CHAS         NOX  \\\n",
       "count        506.000000  506.000000  506.000000  506.000000  506.000000   \n",
       "mean           3.593761   11.363636   11.136779    0.069170    0.554695   \n",
       "std            8.596783   23.322453    6.860353    0.253994    0.115878   \n",
       "min            0.006320    0.000000    0.460000    0.000000    0.385000   \n",
       "25%            0.082045    0.000000    5.190000    0.000000    0.449000   \n",
       "50%            0.256510    0.000000    9.690000    0.000000    0.538000   \n",
       "75%            3.647423   12.500000   18.100000    0.000000    0.624000   \n",
       "max           88.976200  100.000000   27.740000    1.000000    0.871000   \n",
       "null_values    0.000000    0.000000    0.000000    0.000000    0.000000   \n",
       "\n",
       "                     RM         AGE         DIS         RAD         TAX  \\\n",
       "count        506.000000  506.000000  506.000000  506.000000  506.000000   \n",
       "mean           6.284634   68.574901    3.795043    9.549407  408.237154   \n",
       "std            0.702617   28.148861    2.105710    8.707259  168.537116   \n",
       "min            3.561000    2.900000    1.129600    1.000000  187.000000   \n",
       "25%            5.885500   45.025000    2.100175    4.000000  279.000000   \n",
       "50%            6.208500   77.500000    3.207450    5.000000  330.000000   \n",
       "75%            6.623500   94.075000    5.188425   24.000000  666.000000   \n",
       "max            8.780000  100.000000   12.126500   24.000000  711.000000   \n",
       "null_values    0.000000    0.000000    0.000000    0.000000    0.000000   \n",
       "\n",
       "                ...               B4          B5          B6          B7  \\\n",
       "count           ...       506.000000  506.000000  506.000000  506.000000   \n",
       "mean            ...       498.079051  489.964427  502.867589  511.468379   \n",
       "std             ...       289.663105  293.477327  280.253478  293.725190   \n",
       "min             ...         1.000000    2.000000    1.000000    2.000000   \n",
       "25%             ...       256.500000  226.250000  270.250000  252.250000   \n",
       "50%             ...       498.000000  493.500000  496.000000  512.500000   \n",
       "75%             ...       738.500000  734.750000  742.750000  762.500000   \n",
       "max             ...       999.000000  999.000000  998.000000  999.000000   \n",
       "null_values     ...         0.000000    0.000000    0.000000    0.000000   \n",
       "\n",
       "                     B8          B9         B10       RM_SQ      RM_RAD  \\\n",
       "count        506.000000  506.000000  506.000000  506.000000  506.000000   \n",
       "mean         507.547431  491.055336  490.154150   39.989325   58.733255   \n",
       "std          286.998877  287.834277  288.814058    9.079531   52.720853   \n",
       "min            2.000000    3.000000    1.000000   12.680721    5.706000   \n",
       "25%          269.250000  243.000000  230.500000   34.639111   23.854000   \n",
       "50%          506.000000  491.500000  480.500000   38.545473   31.567500   \n",
       "75%          741.250000  735.750000  742.500000   43.870759  107.550000   \n",
       "max          998.000000  999.000000  994.000000   77.088400  210.720000   \n",
       "null_values    0.000000    0.000000    0.000000    0.000000    0.000000   \n",
       "\n",
       "                LSTAT_SQ  \n",
       "count         506.000000  \n",
       "mean          210.993989  \n",
       "std           236.061920  \n",
       "min             2.992900  \n",
       "25%            48.303700  \n",
       "50%           129.050000  \n",
       "75%           287.472100  \n",
       "max          1441.720900  \n",
       "null_values     0.000000  \n",
       "\n",
       "[9 rows x 34 columns]"
      ]
     },
     "execution_count": 62,
     "metadata": {},
     "output_type": "execute_result"
    }
   ],
   "source": [
    "summary.loc['null_values']=missing\n",
    "summary"
   ]
  },
  {
   "cell_type": "markdown",
   "metadata": {},
   "source": [
    "## 1.5 Graphical Exploration"
   ]
  },
  {
   "cell_type": "code",
   "execution_count": 11,
   "metadata": {},
   "outputs": [
    {
     "data": {
      "text/plain": [
       "array([[<matplotlib.axes._subplots.AxesSubplot object at 0x1c18d0c3c8>,\n",
       "        <matplotlib.axes._subplots.AxesSubplot object at 0x1c18de7208>,\n",
       "        <matplotlib.axes._subplots.AxesSubplot object at 0x1c19007c50>,\n",
       "        <matplotlib.axes._subplots.AxesSubplot object at 0x1c19031e80>,\n",
       "        <matplotlib.axes._subplots.AxesSubplot object at 0x1c1904c710>,\n",
       "        <matplotlib.axes._subplots.AxesSubplot object at 0x1c19063320>,\n",
       "        <matplotlib.axes._subplots.AxesSubplot object at 0x1c1910b470>,\n",
       "        <matplotlib.axes._subplots.AxesSubplot object at 0x1c19142470>],\n",
       "       [<matplotlib.axes._subplots.AxesSubplot object at 0x1c1917d470>,\n",
       "        <matplotlib.axes._subplots.AxesSubplot object at 0x1c19114dd8>,\n",
       "        <matplotlib.axes._subplots.AxesSubplot object at 0x1c191dfe80>,\n",
       "        <matplotlib.axes._subplots.AxesSubplot object at 0x1c19225390>,\n",
       "        <matplotlib.axes._subplots.AxesSubplot object at 0x1c1925e390>,\n",
       "        <matplotlib.axes._subplots.AxesSubplot object at 0x1c19298390>,\n",
       "        <matplotlib.axes._subplots.AxesSubplot object at 0x1c192c0e80>,\n",
       "        <matplotlib.axes._subplots.AxesSubplot object at 0x1c192e1710>],\n",
       "       [<matplotlib.axes._subplots.AxesSubplot object at 0x1c19335e10>,\n",
       "        <matplotlib.axes._subplots.AxesSubplot object at 0x1c1936dd30>,\n",
       "        <matplotlib.axes._subplots.AxesSubplot object at 0x1c193a6400>,\n",
       "        <matplotlib.axes._subplots.AxesSubplot object at 0x1c193dc400>,\n",
       "        <matplotlib.axes._subplots.AxesSubplot object at 0x1c19417470>,\n",
       "        <matplotlib.axes._subplots.AxesSubplot object at 0x1c1944f470>,\n",
       "        <matplotlib.axes._subplots.AxesSubplot object at 0x1c1948b470>,\n",
       "        <matplotlib.axes._subplots.AxesSubplot object at 0x1c194b1ef0>],\n",
       "       [<matplotlib.axes._subplots.AxesSubplot object at 0x1c194ebf60>,\n",
       "        <matplotlib.axes._subplots.AxesSubplot object at 0x1c19527f60>,\n",
       "        <matplotlib.axes._subplots.AxesSubplot object at 0x1c1955bf60>,\n",
       "        <matplotlib.axes._subplots.AxesSubplot object at 0x1c19595be0>,\n",
       "        <matplotlib.axes._subplots.AxesSubplot object at 0x1c195cdc50>,\n",
       "        <matplotlib.axes._subplots.AxesSubplot object at 0x1c19608c50>,\n",
       "        <matplotlib.axes._subplots.AxesSubplot object at 0x1c19642c50>,\n",
       "        <matplotlib.axes._subplots.AxesSubplot object at 0x1c196138d0>],\n",
       "       [<matplotlib.axes._subplots.AxesSubplot object at 0x1c196ae7f0>,\n",
       "        <matplotlib.axes._subplots.AxesSubplot object at 0x1c196e87f0>,\n",
       "        <matplotlib.axes._subplots.AxesSubplot object at 0x1c197227f0>,\n",
       "        <matplotlib.axes._subplots.AxesSubplot object at 0x1c1975bd30>,\n",
       "        <matplotlib.axes._subplots.AxesSubplot object at 0x1c1978f2b0>,\n",
       "        <matplotlib.axes._subplots.AxesSubplot object at 0x1c197c92b0>,\n",
       "        <matplotlib.axes._subplots.AxesSubplot object at 0x1c198042b0>,\n",
       "        <matplotlib.axes._subplots.AxesSubplot object at 0x1c1983d7f0>],\n",
       "       [<matplotlib.axes._subplots.AxesSubplot object at 0x1c19862be0>,\n",
       "        <matplotlib.axes._subplots.AxesSubplot object at 0x1c198a3b00>,\n",
       "        <matplotlib.axes._subplots.AxesSubplot object at 0x1c198dcb00>,\n",
       "        <matplotlib.axes._subplots.AxesSubplot object at 0x1c1991e080>,\n",
       "        <matplotlib.axes._subplots.AxesSubplot object at 0x1c1991ec18>,\n",
       "        <matplotlib.axes._subplots.AxesSubplot object at 0x1c199826a0>,\n",
       "        <matplotlib.axes._subplots.AxesSubplot object at 0x1c199bc6a0>,\n",
       "        <matplotlib.axes._subplots.AxesSubplot object at 0x1c199f5be0>],\n",
       "       [<matplotlib.axes._subplots.AxesSubplot object at 0x1c19a2cb70>,\n",
       "        <matplotlib.axes._subplots.AxesSubplot object at 0x1c19a64080>,\n",
       "        <matplotlib.axes._subplots.AxesSubplot object at 0x1c19a9e080>,\n",
       "        <matplotlib.axes._subplots.AxesSubplot object at 0x1c19ad8080>,\n",
       "        <matplotlib.axes._subplots.AxesSubplot object at 0x1c19b09f60>,\n",
       "        <matplotlib.axes._subplots.AxesSubplot object at 0x1c19abbe48>,\n",
       "        <matplotlib.axes._subplots.AxesSubplot object at 0x1c19b74c50>,\n",
       "        <matplotlib.axes._subplots.AxesSubplot object at 0x1c19bb0c50>],\n",
       "       [<matplotlib.axes._subplots.AxesSubplot object at 0x1c19be7be0>,\n",
       "        <matplotlib.axes._subplots.AxesSubplot object at 0x1c19c2c160>,\n",
       "        <matplotlib.axes._subplots.AxesSubplot object at 0x1c19c566a0>,\n",
       "        <matplotlib.axes._subplots.AxesSubplot object at 0x1c19c8f5c0>,\n",
       "        <matplotlib.axes._subplots.AxesSubplot object at 0x1c19ccb5c0>,\n",
       "        <matplotlib.axes._subplots.AxesSubplot object at 0x1c19d03b00>,\n",
       "        <matplotlib.axes._subplots.AxesSubplot object at 0x1c19d29fd0>,\n",
       "        <matplotlib.axes._subplots.AxesSubplot object at 0x1c19d68ef0>]], dtype=object)"
      ]
     },
     "execution_count": 11,
     "metadata": {},
     "output_type": "execute_result"
    },
    {
     "data": {
      "image/png": "[encoded data removed]",
      "text/plain": [
       "<matplotlib.figure.Figure at 0x1c189f5c18>"
      ]
     },
     "metadata": {},
     "output_type": "display_data"
    }
   ],
   "source": [
    "#Making a coorelation matrix. Adding some relevant features and some irrelevant ones. \n",
    "#from pandas.tools.plotting import scatter_matrix\n",
    "pd.plotting.scatter_matrix(data[data.columns[:8]],figsize=(16,9),c='blue',alpha=0.4)"
   ]
  },
  {
   "cell_type": "code",
   "execution_count": 33,
   "metadata": {},
   "outputs": [],
   "source": [
    "#Computing the RMSE function:\n",
    "#def compute_rmse(beta,x_test,y_pred):\n",
    "    #eq=(np.transpose(y_pred-x_test*beta)*(y_pred-x_test*beta)).mean()\n",
    "    #return eq\n"
   ]
  },
  {
   "cell_type": "markdown",
   "metadata": {},
   "source": [
    "## 2.1 Loss Function"
   ]
  },
  {
   "cell_type": "code",
   "execution_count": 34,
   "metadata": {
    "collapsed": true
   },
   "outputs": [],
   "source": [
    "#Computing the RMSE function:\n",
    "def compute_rmse(model,test_data,target_output):\n",
    "    \n",
    "    predicted = test_data@model.coef_ + model.intercept_\n",
    "    difference = (target_output - predicted)\n",
    "    difference_transpose = (target_output - predicted).T\n",
    "    mse = np.dot(difference_transpose,difference).mean()/len(predicted)\n",
    "    return mse"
   ]
  },
  {
   "cell_type": "code",
   "execution_count": 36,
   "metadata": {},
   "outputs": [],
   "source": [
    "#Testing the function with random values of arrays\n",
    "#compute_rmse(0.8,np.array([2, 2, 3]),np.array([0, 2, 6]))"
   ]
  },
  {
   "cell_type": "markdown",
   "metadata": {},
   "source": [
    "## 2.2 A few simple regressions"
   ]
  },
  {
   "cell_type": "code",
   "execution_count": 136,
   "metadata": {},
   "outputs": [],
   "source": [
    "def kfold_cross_val(data,model,folds):\n",
    "    \n",
    "    rows=len(data)\n",
    "    #Setting the division\n",
    "    set_rows=np.floor(rows/folds)\n",
    "    #Randomness on data\n",
    "    indexes=np.array(data.index)\n",
    "    np.random.shuffle(indexes)\n",
    "    \n",
    "    #Empty list for Mean Squared Error\n",
    "    mse=[]\n",
    "    \n",
    "    #Iterating through the folds\n",
    "    for i in range(0,folds):\n",
    "        start_index=int(i*set_rows)\n",
    "        end_index=int(start_index+set_rows)\n",
    "    \n",
    "    #Dividing the data into test and train data\n",
    "        test_indexes=indexes[start_index:end_index]\n",
    "        test_data=data.ix[test_indexes,:]\n",
    "        train_data=data.ix[~data.index.isin(test_indexes)]\n",
    "    \n",
    "    #Seperating the target\n",
    "        train_x = train_data.drop('MEDV',axis=1)\n",
    "        train_y=train_data['MEDV']\n",
    "        test_x = test_data.drop('MEDV', axis=1)\n",
    "        test_y=test_data['MEDV']\n",
    "\n",
    "    #Fitting it on the model as specified by the user in the function arguements\n",
    "        model.fit(train_x,train_y)\n",
    "    #Predict\n",
    "        pred=model.predict(test_x)\n",
    "    #Calculating\n",
    "        mse.append(compute_rmse(model,test_x,test_y))\n",
    "    \n",
    "    average_mse = np.mean(mse)\n",
    "    return average_mse,mse"
   ]
  },
  {
   "cell_type": "markdown",
   "metadata": {},
   "source": [
    "## 2.2.1 A small model including 1-2 variables "
   ]
  },
  {
   "cell_type": "markdown",
   "metadata": {},
   "source": [
    "I have chosen the INDUS and DIS columns assuming they are related to the Price column"
   ]
  },
  {
   "cell_type": "code",
   "execution_count": 137,
   "metadata": {},
   "outputs": [],
   "source": [
    "columns = ['INDUS','DIS']\n",
    "#Split the input data into training and testing\n",
    "X_train, X_test, y_train, y_test = train_test_split (data[columns],bdata.target, train_size = 0.75)\n",
    "\n",
    "#Check the shapes of the train and test data\n",
    "#print(np.shape(X_train))\n",
    "#print(np.shape(y_train))\n",
    "#print(np.shape(X_test))\n",
    "#print(np.shape(y_test))"
   ]
  },
  {
   "cell_type": "markdown",
   "metadata": {},
   "source": [
    "### Model Fit"
   ]
  },
  {
   "cell_type": "code",
   "execution_count": 138,
   "metadata": {
    "collapsed": true
   },
   "outputs": [],
   "source": [
    "#Fitting a model to pass it through the function\n",
    "model = LinearRegression(n_jobs=10,normalize=True)\n",
    "model.fit(X_train,y_train)\n",
    "predictions = model.predict(X_test)\n",
    "coefficients = model.coef_"
   ]
  },
  {
   "cell_type": "markdown",
   "metadata": {},
   "source": [
    "### RMSE and Accuracy of the model"
   ]
  },
  {
   "cell_type": "code",
   "execution_count": 139,
   "metadata": {},
   "outputs": [
    {
     "name": "stdout",
     "output_type": "stream",
     "text": [
      "69.1370101204\n",
      "69.1370101204\n",
      "The accuracy of the model is 0.159341867476\n"
     ]
    }
   ],
   "source": [
    "#Comparing the values with the in built function\n",
    "print(compute_rmse(model,X_test,y_test))\n",
    "print(mean_squared_error(predictions,y_test))\n",
    "print('The accuracy of the model is', model.score(X_test,y_test))"
   ]
  },
  {
   "cell_type": "markdown",
   "metadata": {},
   "source": [
    "### Cross Validation of the model"
   ]
  },
  {
   "cell_type": "code",
   "execution_count": 140,
   "metadata": {},
   "outputs": [
    {
     "name": "stdout",
     "output_type": "stream",
     "text": [
      "For run 1 MSE is 7.2128549461\n",
      "For run 2 MSE is 22.1160171978\n",
      "For run 3 MSE is 24.7363530034\n",
      "For run 4 MSE is 46.8169174008\n",
      "For run 5 MSE is 16.4157898094\n",
      "For run 6 MSE is 13.5179776838\n",
      "For run 7 MSE is 11.413260787\n",
      "For run 8 MSE is 13.9662252069\n",
      "For run 9 MSE is 10.0968337986\n",
      "For run 10 MSE is 10.9364328625\n",
      "The average MSE for 10 cross validation using the 2 feature model is 17.7228662696\n"
     ]
    }
   ],
   "source": [
    "#10-fold cross-validate this model to get the average MSE score (the value of your loss function).\n",
    "average_mse,mse_all = kfold_cross_val(data,model,10)\n",
    "count=1\n",
    "for i in mse_all:\n",
    "    print('For run',count, 'MSE is', i)\n",
    "    count=count+1\n",
    "print('The average MSE for 10 cross validation using the 2 feature model is',average_mse)\n",
    "\n"
   ]
  },
  {
   "cell_type": "markdown",
   "metadata": {},
   "source": [
    "## Full Model"
   ]
  },
  {
   "cell_type": "code",
   "execution_count": 151,
   "metadata": {},
   "outputs": [],
   "source": [
    "#Now build the next model with 10 features. Add more features you consider relevant but also those\n",
    "#you consider irrelevant. Compute 10-fold MSE for this model.\n",
    "\n",
    "#X and Y data segregation\n",
    "boston_data_wo_target=data.drop('MEDV', axis=1)\n",
    "boston_data_only_target=data['MEDV']"
   ]
  },
  {
   "cell_type": "code",
   "execution_count": 152,
   "metadata": {},
   "outputs": [],
   "source": [
    "#Splitting the data into train and test\n",
    "X_train, X_test, y_train, y_test = train_test_split (boston_data_wo_target,boston_data_only_target, train_size = 0.75)\n",
    "#y_train"
   ]
  },
  {
   "cell_type": "markdown",
   "metadata": {},
   "source": [
    "### Model Fitting"
   ]
  },
  {
   "cell_type": "code",
   "execution_count": 153,
   "metadata": {
    "collapsed": true
   },
   "outputs": [],
   "source": [
    "#Fitting a model to pass it through thr function\n",
    "model = LinearRegression(n_jobs=10,normalize=True)\n",
    "model.fit(X_train,y_train)\n",
    "predictions = model.predict(X_test)\n",
    "coefficients = model.coef_"
   ]
  },
  {
   "cell_type": "markdown",
   "metadata": {},
   "source": [
    "### RMSE and Accuracy of Full model"
   ]
  },
  {
   "cell_type": "code",
   "execution_count": 154,
   "metadata": {},
   "outputs": [
    {
     "name": "stdout",
     "output_type": "stream",
     "text": [
      "19.2356207315\n",
      "19.2356207315\n",
      "The accuracy of the model is 0.76805760677\n"
     ]
    }
   ],
   "source": [
    "#Comparing the values with the in built function\n",
    "print(compute_rmse(model,X_test,y_test))\n",
    "print(mean_squared_error(predictions,y_test))\n",
    "print('The accuracy of the model is', model.score(X_test,y_test))"
   ]
  },
  {
   "cell_type": "markdown",
   "metadata": {},
   "source": [
    "### Cross Validation of Full Model"
   ]
  },
  {
   "cell_type": "code",
   "execution_count": 155,
   "metadata": {},
   "outputs": [
    {
     "name": "stdout",
     "output_type": "stream",
     "text": [
      "For run 1 MSE is 8.9894571415\n",
      "For run 2 MSE is 10.2135855454\n",
      "For run 3 MSE is 11.7088169509\n",
      "For run 4 MSE is 15.1941544007\n",
      "For run 5 MSE is 23.7681004735\n",
      "For run 6 MSE is 15.1071859007\n",
      "For run 7 MSE is 26.826414299\n",
      "For run 8 MSE is 15.4138455706\n",
      "For run 9 MSE is 15.0189340266\n",
      "For run 10 MSE is 33.2457010562\n",
      "The average MSE for 10 cross validation using the full feature model is 17.5486195365\n"
     ]
    }
   ],
   "source": [
    "#10-fold cross-validate this model to get the average MSE score (the value of your loss function).\n",
    "average_mse,mse_all = kfold_cross_val(data,model,10)\n",
    "count=1\n",
    "for i in mse_all:\n",
    "    print('For run',count, 'MSE is', i)\n",
    "    count=count+1\n",
    "print('The average MSE for 10 cross validation using the full feature model is',average_mse)"
   ]
  },
  {
   "cell_type": "markdown",
   "metadata": {},
   "source": [
    "### Which model is better?"
   ]
  },
  {
   "cell_type": "markdown",
   "metadata": {},
   "source": [
    "Full model is better in terms of higher accuracy as well as lesser average Mean Squared Error"
   ]
  },
  {
   "cell_type": "markdown",
   "metadata": {},
   "source": [
    "## 3. Finding the best model"
   ]
  },
  {
   "cell_type": "markdown",
   "metadata": {},
   "source": [
    "### 3.1.1. Total number of features"
   ]
  },
  {
   "cell_type": "markdown",
   "metadata": {},
   "source": [
    "The total number of features we have are 34. For a linear model, we need minimum of two features. So if the arrangement of features is considered, we would have 34!(factorial) ways to select features. However, the different arrangement of the same features would mean selecting the same model. "
   ]
  },
  {
   "cell_type": "code",
   "execution_count": 156,
   "metadata": {},
   "outputs": [
    {
     "data": {
      "text/plain": [
       "17179869183"
      ]
     },
     "execution_count": 156,
     "metadata": {},
     "output_type": "execute_result"
    }
   ],
   "source": [
    "#How many different linear regression models can you build based on the features you have (including\n",
    "#the ones you generated)?\n",
    "\n",
    "#Total possible combinations\n",
    "combinations = pow(2,34) - 1\n",
    "combinations"
   ]
  },
  {
   "cell_type": "code",
   "execution_count": 161,
   "metadata": {
    "collapsed": true
   },
   "outputs": [],
   "source": [
    "def random_feature_selection(data):\n",
    "    i=0\n",
    "    for i in range(0,110):\n",
    "        number = np.random.randint(22)\n",
    "        #print(number+1)\n",
    "        temp_data = data.sample(number+1,axis=1)\n",
    "        temp_data['MEDV'] = bdata.target\n",
    "        model = LinearRegression(n_jobs=10,normalize=True)\n",
    "        aver_mse, mse = kfold_cross_val(temp_data,model,10)\n",
    "        #print(aver_mse)\n",
    "        i=i+1\n",
    "    return 'Done'"
   ]
  },
  {
   "cell_type": "code",
   "execution_count": 162,
   "metadata": {},
   "outputs": [
    {
     "name": "stderr",
     "output_type": "stream",
     "text": [
      "/Users/manasi/anaconda3/lib/python3.6/site-packages/ipykernel_launcher.py:20: DeprecationWarning: \n",
      ".ix is deprecated. Please use\n",
      ".loc for label based indexing or\n",
      ".iloc for positional indexing\n",
      "\n",
      "See the documentation here:\n",
      "http://pandas.pydata.org/pandas-docs/stable/indexing.html#ix-indexer-is-deprecated\n"
     ]
    }
   ],
   "source": [
    "import time\n",
    "timings = []\n",
    "i=0\n",
    "for i in range(0,10):\n",
    "    start_time = time.time()\n",
    "    random_feature_selection(boston_data_wo_target)\n",
    "    time_taken = time.time() - start_time\n",
    "    timings.append(time_taken)\n",
    "    \n",
    "    i+=1"
   ]
  },
  {
   "cell_type": "code",
   "execution_count": 166,
   "metadata": {},
   "outputs": [
    {
     "data": {
      "text/plain": [
       "6.637061667442322"
      ]
     },
     "execution_count": 166,
     "metadata": {},
     "output_type": "execute_result"
    }
   ],
   "source": [
    "np.mean(timings)"
   ]
  },
  {
   "cell_type": "code",
   "execution_count": 164,
   "metadata": {},
   "outputs": [
    {
     "name": "stdout",
     "output_type": "stream",
     "text": [
      "Total time taken for all possible combinations will be 1036580465.51 seconds\n"
     ]
    }
   ],
   "source": [
    "total_time = (combinations/110)*np.mean(timings)\n",
    "print(\"Total time taken for all possible combinations will be\",total_time,\"seconds\")"
   ]
  },
  {
   "cell_type": "markdown",
   "metadata": {},
   "source": [
    "Considering the number of features and the possible number of models that can go for this massive data, our system would crash and storing in the memory would not be possible. Hence, we need a method to optimize and perform reduction in dimensions. A PCA hence, seems like an ideal option. "
   ]
  },
  {
   "cell_type": "markdown",
   "metadata": {},
   "source": [
    "## 3.2 Forward Selection"
   ]
  },
  {
   "cell_type": "code",
   "execution_count": 523,
   "metadata": {
    "collapsed": true
   },
   "outputs": [],
   "source": [
    "from sklearn.metrics import r2_score as r2\n",
    "\n",
    "def loss_func(model, data_test, target):\n",
    "    pred = model.predict(data_test)\n",
    "    diff = pred - target\n",
    "    err = np.dot(diff.T,diff).mean()/len(pred)\n",
    "    return(err)\n",
    "\n",
    "\n",
    "def sampler(i,j,data):\n",
    "    x = data[i:j]\n",
    "    y = data.drop(data.index[range(i,j)])\n",
    "    return(x,y) \n",
    "\n",
    "from sklearn.linear_model import LinearRegression\n",
    "def kfoldcv(k, data, ml):\n",
    "    results = pd.DataFrame(columns = [\"LOSS\", 'FOLD NO.', 'r sq'])\n",
    "    i = 0\n",
    "    d = int(np.floor(len(data)/k))\n",
    "    j = d\n",
    "    for y in range(0,k):\n",
    "            test, train = sampler(i, j, data)\n",
    "            x_train = train.drop(\"MEDV\", axis = 1)\n",
    "            y_train = train.MEDV\n",
    "            x_test = test.drop(\"MEDV\", axis = 1)\n",
    "            y_test = test.MEDV\n",
    "            # Enter the model that needs to be fit\n",
    "            model = ml.fit(x_train, y_train)\n",
    "            er = loss_func(model, x_test, y_test)\n",
    "            idx = len(results) + 1\n",
    "            results.loc[idx] = [er,y+1, r2(y_test, model.predict(x_test))]\n",
    "            i = i+ d\n",
    "            j = j + d\n",
    "    return(results)"
   ]
  },
  {
   "cell_type": "code",
   "execution_count": 524,
   "metadata": {
    "collapsed": true
   },
   "outputs": [],
   "source": [
    "def for_sel(added, to_add):\n",
    "    res = pd.DataFrame(columns = ['loss', 'feature', 'r sq'])\n",
    "    for elem in to_add:\n",
    "        r = kfoldcv(10, data[added + [elem] +['MEDV']], LinearRegression())\n",
    "        idx = len(res) + 1\n",
    "        res.loc[idx] = [r['LOSS'].mean(), elem, r['r sq'].mean()]\n",
    "    \n",
    "    # We select the best model based on minimizing the loss of the model\n",
    "    return(res[res['loss'] == (res['loss']).min()])"
   ]
  },
  {
   "cell_type": "code",
   "execution_count": 527,
   "metadata": {},
   "outputs": [
    {
     "name": "stdout",
     "output_type": "stream",
     "text": [
      " The existing features are []\n",
      "Not added features are ['CRIM', 'ZN', 'INDUS', 'CHAS', 'NOX', 'RM', 'AGE', 'DIS', 'RAD', 'TAX', 'PTRATIO', 'B', 'LSTAT', 'ZN_SQ', 'CRIM_ZN', 'INDUS_CHAS', 'DIS_SQ', 'RAD_SQ', 'DIS_RAD', 'CRIM_SQ', 'RM_SQ', 'RM_RAD', 'LSTAT_SQ', 'B1', 'B2', 'B3', 'B4', 'B5', 'B6', 'B7', 'B8', 'B9', 'B10']\n",
      "NEXT BEST FEATURE\n"
     ]
    },
    {
     "ename": "NameError",
     "evalue": "name 'boston_data' is not defined",
     "output_type": "error",
     "traceback": [
      "\u001b[0;31m---------------------------------------------------------------------------\u001b[0m",
      "\u001b[0;31mNameError\u001b[0m                                 Traceback (most recent call last)",
      "\u001b[0;32m<ipython-input-527-e419dfcb82e3>\u001b[0m in \u001b[0;36m<module>\u001b[0;34m()\u001b[0m\n\u001b[1;32m     10\u001b[0m     \u001b[0mprint\u001b[0m\u001b[0;34m(\u001b[0m\u001b[0;34m\"Not added features are\"\u001b[0m\u001b[0;34m,\u001b[0m \u001b[0mall_cols\u001b[0m\u001b[0;34m)\u001b[0m\u001b[0;34m\u001b[0m\u001b[0m\n\u001b[1;32m     11\u001b[0m     \u001b[0mprint\u001b[0m\u001b[0;34m(\u001b[0m\u001b[0;34m\"NEXT BEST FEATURE\"\u001b[0m\u001b[0;34m)\u001b[0m\u001b[0;34m\u001b[0m\u001b[0m\n\u001b[0;32m---> 12\u001b[0;31m     \u001b[0mf\u001b[0m \u001b[0;34m=\u001b[0m \u001b[0mfor_sel\u001b[0m\u001b[0;34m(\u001b[0m\u001b[0mforward_list\u001b[0m\u001b[0;34m,\u001b[0m \u001b[0mall_cols\u001b[0m\u001b[0;34m)\u001b[0m\u001b[0;34m\u001b[0m\u001b[0m\n\u001b[0m\u001b[1;32m     13\u001b[0m \u001b[0;34m\u001b[0m\u001b[0m\n\u001b[1;32m     14\u001b[0m     \u001b[0;31m# Adding f to forward_list\u001b[0m\u001b[0;34m\u001b[0m\u001b[0;34m\u001b[0m\u001b[0m\n",
      "\u001b[0;32m<ipython-input-525-bfac6a448846>\u001b[0m in \u001b[0;36mfor_sel\u001b[0;34m(added, to_add)\u001b[0m\n\u001b[1;32m      2\u001b[0m     \u001b[0mres\u001b[0m \u001b[0;34m=\u001b[0m \u001b[0mpd\u001b[0m\u001b[0;34m.\u001b[0m\u001b[0mDataFrame\u001b[0m\u001b[0;34m(\u001b[0m\u001b[0mcolumns\u001b[0m \u001b[0;34m=\u001b[0m \u001b[0;34m[\u001b[0m\u001b[0;34m'loss'\u001b[0m\u001b[0;34m,\u001b[0m \u001b[0;34m'feature'\u001b[0m\u001b[0;34m,\u001b[0m \u001b[0;34m'r sq'\u001b[0m\u001b[0;34m]\u001b[0m\u001b[0;34m)\u001b[0m\u001b[0;34m\u001b[0m\u001b[0m\n\u001b[1;32m      3\u001b[0m     \u001b[0;32mfor\u001b[0m \u001b[0melem\u001b[0m \u001b[0;32min\u001b[0m \u001b[0mto_add\u001b[0m\u001b[0;34m:\u001b[0m\u001b[0;34m\u001b[0m\u001b[0m\n\u001b[0;32m----> 4\u001b[0;31m         \u001b[0mr\u001b[0m \u001b[0;34m=\u001b[0m \u001b[0mkfoldcv\u001b[0m\u001b[0;34m(\u001b[0m\u001b[0;36m10\u001b[0m\u001b[0;34m,\u001b[0m \u001b[0mboston_data\u001b[0m\u001b[0;34m[\u001b[0m\u001b[0madded\u001b[0m \u001b[0;34m+\u001b[0m \u001b[0;34m[\u001b[0m\u001b[0melem\u001b[0m\u001b[0;34m]\u001b[0m \u001b[0;34m+\u001b[0m\u001b[0;34m[\u001b[0m\u001b[0;34m'target'\u001b[0m\u001b[0;34m]\u001b[0m\u001b[0;34m]\u001b[0m\u001b[0;34m,\u001b[0m \u001b[0mLinearRegression\u001b[0m\u001b[0;34m(\u001b[0m\u001b[0;34m)\u001b[0m\u001b[0;34m)\u001b[0m\u001b[0;34m\u001b[0m\u001b[0m\n\u001b[0m\u001b[1;32m      5\u001b[0m         \u001b[0midx\u001b[0m \u001b[0;34m=\u001b[0m \u001b[0mlen\u001b[0m\u001b[0;34m(\u001b[0m\u001b[0mres\u001b[0m\u001b[0;34m)\u001b[0m \u001b[0;34m+\u001b[0m \u001b[0;36m1\u001b[0m\u001b[0;34m\u001b[0m\u001b[0m\n\u001b[1;32m      6\u001b[0m         \u001b[0mres\u001b[0m\u001b[0;34m.\u001b[0m\u001b[0mloc\u001b[0m\u001b[0;34m[\u001b[0m\u001b[0midx\u001b[0m\u001b[0;34m]\u001b[0m \u001b[0;34m=\u001b[0m \u001b[0;34m[\u001b[0m\u001b[0mr\u001b[0m\u001b[0;34m[\u001b[0m\u001b[0;34m'LOSS'\u001b[0m\u001b[0;34m]\u001b[0m\u001b[0;34m.\u001b[0m\u001b[0mmean\u001b[0m\u001b[0;34m(\u001b[0m\u001b[0;34m)\u001b[0m\u001b[0;34m,\u001b[0m \u001b[0melem\u001b[0m\u001b[0;34m,\u001b[0m \u001b[0mr\u001b[0m\u001b[0;34m[\u001b[0m\u001b[0;34m'r sq'\u001b[0m\u001b[0;34m]\u001b[0m\u001b[0;34m.\u001b[0m\u001b[0mmean\u001b[0m\u001b[0;34m(\u001b[0m\u001b[0;34m)\u001b[0m\u001b[0;34m]\u001b[0m\u001b[0;34m\u001b[0m\u001b[0m\n",
      "\u001b[0;31mNameError\u001b[0m: name 'boston_data' is not defined"
     ]
    }
   ],
   "source": [
    "# Forward selection\n",
    "# First we make a blank list which is not features\n",
    "forward_list = []\n",
    "\n",
    "# we make a list of  all columns\n",
    "all_cols = list(data.drop(\"MEDV\", axis = 1).columns)\n",
    "\n",
    "for i in range(0,33):\n",
    "    print(\" The existing features are\", forward_list)\n",
    "    print(\"Not added features are\", all_cols)\n",
    "    print(\"NEXT BEST FEATURE\")\n",
    "    f = for_sel(forward_list, all_cols)\n",
    "    \n",
    "    # Adding f to forward_list\n",
    "    forward_list.append(f['feature'].item())\n",
    "    # Removing feature from all columns\n",
    "    all_cols.remove(f['feature'].item())\n",
    "    # Feature selection\n",
    "    print(\" feature number:\",i+1, \"is\", f['feature'])\n",
    "    "
   ]
  },
  {
   "cell_type": "code",
   "execution_count": 528,
   "metadata": {},
   "outputs": [],
   "source": [
    "data = pd.DataFrame(data)"
   ]
  },
  {
   "cell_type": "code",
   "execution_count": 534,
   "metadata": {
    "collapsed": true
   },
   "outputs": [],
   "source": [
    "def for_sel(added, to_add):\n",
    "    res = pd.DataFrame(columns = ['loss', 'feature', 'r sq'])\n",
    "    for elem in to_add:\n",
    "        r = kfoldcv(10, data[added + [elem] +['MEDV']], LinearRegression())\n",
    "        idx = len(res) + 1\n",
    "        res.loc[idx] = [r['LOSS'].mean(), elem, r['r sq'].mean()]\n",
    "    \n",
    "    # We select the best model based on maximizing the r squared of the model. Hence in order of better explanation of variability.\n",
    "    return(res[res['r sq'] == (res['r sq']).max()])\n",
    "        "
   ]
  },
  {
   "cell_type": "code",
   "execution_count": 535,
   "metadata": {},
   "outputs": [
    {
     "name": "stdout",
     "output_type": "stream",
     "text": [
      " The existing features are []\n",
      "Not added features are ['CRIM', 'ZN', 'INDUS', 'CHAS', 'NOX', 'RM', 'AGE', 'DIS', 'RAD', 'TAX', 'PTRATIO', 'B', 'LSTAT', 'ZN_SQ', 'CRIM_ZN', 'INDUS_CHAS', 'DIS_SQ', 'RAD_SQ', 'DIS_RAD', 'CRIM_SQ', 'RM_SQ', 'RM_RAD', 'LSTAT_SQ', 'B1', 'B2', 'B3', 'B4', 'B5', 'B6', 'B7', 'B8', 'B9', 'B10']\n",
      "NEXT BEST FEATURE\n",
      " feature number: 1 is 13    LSTAT\n",
      "Name: feature, dtype: object\n",
      " The existing features are ['LSTAT']\n",
      "Not added features are ['CRIM', 'ZN', 'INDUS', 'CHAS', 'NOX', 'RM', 'AGE', 'DIS', 'RAD', 'TAX', 'PTRATIO', 'B', 'ZN_SQ', 'CRIM_ZN', 'INDUS_CHAS', 'DIS_SQ', 'RAD_SQ', 'DIS_RAD', 'CRIM_SQ', 'RM_SQ', 'RM_RAD', 'LSTAT_SQ', 'B1', 'B2', 'B3', 'B4', 'B5', 'B6', 'B7', 'B8', 'B9', 'B10']\n",
      "NEXT BEST FEATURE\n",
      " feature number: 2 is 22    LSTAT_SQ\n",
      "Name: feature, dtype: object\n",
      " The existing features are ['LSTAT', 'LSTAT_SQ']\n",
      "Not added features are ['CRIM', 'ZN', 'INDUS', 'CHAS', 'NOX', 'RM', 'AGE', 'DIS', 'RAD', 'TAX', 'PTRATIO', 'B', 'ZN_SQ', 'CRIM_ZN', 'INDUS_CHAS', 'DIS_SQ', 'RAD_SQ', 'DIS_RAD', 'CRIM_SQ', 'RM_SQ', 'RM_RAD', 'B1', 'B2', 'B3', 'B4', 'B5', 'B6', 'B7', 'B8', 'B9', 'B10']\n",
      "NEXT BEST FEATURE\n",
      " feature number: 3 is 20    RM_SQ\n",
      "Name: feature, dtype: object\n",
      " The existing features are ['LSTAT', 'LSTAT_SQ', 'RM_SQ']\n",
      "Not added features are ['CRIM', 'ZN', 'INDUS', 'CHAS', 'NOX', 'RM', 'AGE', 'DIS', 'RAD', 'TAX', 'PTRATIO', 'B', 'ZN_SQ', 'CRIM_ZN', 'INDUS_CHAS', 'DIS_SQ', 'RAD_SQ', 'DIS_RAD', 'CRIM_SQ', 'RM_RAD', 'B1', 'B2', 'B3', 'B4', 'B5', 'B6', 'B7', 'B8', 'B9', 'B10']\n",
      "NEXT BEST FEATURE\n",
      " feature number: 4 is 6    RM\n",
      "Name: feature, dtype: object\n",
      " The existing features are ['LSTAT', 'LSTAT_SQ', 'RM_SQ', 'RM']\n",
      "Not added features are ['CRIM', 'ZN', 'INDUS', 'CHAS', 'NOX', 'AGE', 'DIS', 'RAD', 'TAX', 'PTRATIO', 'B', 'ZN_SQ', 'CRIM_ZN', 'INDUS_CHAS', 'DIS_SQ', 'RAD_SQ', 'DIS_RAD', 'CRIM_SQ', 'RM_RAD', 'B1', 'B2', 'B3', 'B4', 'B5', 'B6', 'B7', 'B8', 'B9', 'B10']\n",
      "NEXT BEST FEATURE\n",
      " feature number: 5 is 1    CRIM\n",
      "Name: feature, dtype: object\n",
      " The existing features are ['LSTAT', 'LSTAT_SQ', 'RM_SQ', 'RM', 'CRIM']\n",
      "Not added features are ['ZN', 'INDUS', 'CHAS', 'NOX', 'AGE', 'DIS', 'RAD', 'TAX', 'PTRATIO', 'B', 'ZN_SQ', 'CRIM_ZN', 'INDUS_CHAS', 'DIS_SQ', 'RAD_SQ', 'DIS_RAD', 'CRIM_SQ', 'RM_RAD', 'B1', 'B2', 'B3', 'B4', 'B5', 'B6', 'B7', 'B8', 'B9', 'B10']\n",
      "NEXT BEST FEATURE\n",
      " feature number: 6 is 10    B\n",
      "Name: feature, dtype: object\n",
      " The existing features are ['LSTAT', 'LSTAT_SQ', 'RM_SQ', 'RM', 'CRIM', 'B']\n",
      "Not added features are ['ZN', 'INDUS', 'CHAS', 'NOX', 'AGE', 'DIS', 'RAD', 'TAX', 'PTRATIO', 'ZN_SQ', 'CRIM_ZN', 'INDUS_CHAS', 'DIS_SQ', 'RAD_SQ', 'DIS_RAD', 'CRIM_SQ', 'RM_RAD', 'B1', 'B2', 'B3', 'B4', 'B5', 'B6', 'B7', 'B8', 'B9', 'B10']\n",
      "NEXT BEST FEATURE\n",
      " feature number: 7 is 9    PTRATIO\n",
      "Name: feature, dtype: object\n",
      " The existing features are ['LSTAT', 'LSTAT_SQ', 'RM_SQ', 'RM', 'CRIM', 'B', 'PTRATIO']\n",
      "Not added features are ['ZN', 'INDUS', 'CHAS', 'NOX', 'AGE', 'DIS', 'RAD', 'TAX', 'ZN_SQ', 'CRIM_ZN', 'INDUS_CHAS', 'DIS_SQ', 'RAD_SQ', 'DIS_RAD', 'CRIM_SQ', 'RM_RAD', 'B1', 'B2', 'B3', 'B4', 'B5', 'B6', 'B7', 'B8', 'B9', 'B10']\n",
      "NEXT BEST FEATURE\n",
      " feature number: 8 is 12    DIS_SQ\n",
      "Name: feature, dtype: object\n",
      " The existing features are ['LSTAT', 'LSTAT_SQ', 'RM_SQ', 'RM', 'CRIM', 'B', 'PTRATIO', 'DIS_SQ']\n",
      "Not added features are ['ZN', 'INDUS', 'CHAS', 'NOX', 'AGE', 'DIS', 'RAD', 'TAX', 'ZN_SQ', 'CRIM_ZN', 'INDUS_CHAS', 'RAD_SQ', 'DIS_RAD', 'CRIM_SQ', 'RM_RAD', 'B1', 'B2', 'B3', 'B4', 'B5', 'B6', 'B7', 'B8', 'B9', 'B10']\n",
      "NEXT BEST FEATURE\n",
      " feature number: 9 is 4    NOX\n",
      "Name: feature, dtype: object\n",
      " The existing features are ['LSTAT', 'LSTAT_SQ', 'RM_SQ', 'RM', 'CRIM', 'B', 'PTRATIO', 'DIS_SQ', 'NOX']\n",
      "Not added features are ['ZN', 'INDUS', 'CHAS', 'AGE', 'DIS', 'RAD', 'TAX', 'ZN_SQ', 'CRIM_ZN', 'INDUS_CHAS', 'RAD_SQ', 'DIS_RAD', 'CRIM_SQ', 'RM_RAD', 'B1', 'B2', 'B3', 'B4', 'B5', 'B6', 'B7', 'B8', 'B9', 'B10']\n",
      "NEXT BEST FEATURE\n",
      " feature number: 10 is 8    ZN_SQ\n",
      "Name: feature, dtype: object\n",
      " The existing features are ['LSTAT', 'LSTAT_SQ', 'RM_SQ', 'RM', 'CRIM', 'B', 'PTRATIO', 'DIS_SQ', 'NOX', 'ZN_SQ']\n",
      "Not added features are ['ZN', 'INDUS', 'CHAS', 'AGE', 'DIS', 'RAD', 'TAX', 'CRIM_ZN', 'INDUS_CHAS', 'RAD_SQ', 'DIS_RAD', 'CRIM_SQ', 'RM_RAD', 'B1', 'B2', 'B3', 'B4', 'B5', 'B6', 'B7', 'B8', 'B9', 'B10']\n",
      "NEXT BEST FEATURE\n",
      " feature number: 11 is 8    CRIM_ZN\n",
      "Name: feature, dtype: object\n",
      " The existing features are ['LSTAT', 'LSTAT_SQ', 'RM_SQ', 'RM', 'CRIM', 'B', 'PTRATIO', 'DIS_SQ', 'NOX', 'ZN_SQ', 'CRIM_ZN']\n",
      "Not added features are ['ZN', 'INDUS', 'CHAS', 'AGE', 'DIS', 'RAD', 'TAX', 'INDUS_CHAS', 'RAD_SQ', 'DIS_RAD', 'CRIM_SQ', 'RM_RAD', 'B1', 'B2', 'B3', 'B4', 'B5', 'B6', 'B7', 'B8', 'B9', 'B10']\n",
      "NEXT BEST FEATURE\n",
      " feature number: 12 is 3    CHAS\n",
      "Name: feature, dtype: object\n",
      " The existing features are ['LSTAT', 'LSTAT_SQ', 'RM_SQ', 'RM', 'CRIM', 'B', 'PTRATIO', 'DIS_SQ', 'NOX', 'ZN_SQ', 'CRIM_ZN', 'CHAS']\n",
      "Not added features are ['ZN', 'INDUS', 'AGE', 'DIS', 'RAD', 'TAX', 'INDUS_CHAS', 'RAD_SQ', 'DIS_RAD', 'CRIM_SQ', 'RM_RAD', 'B1', 'B2', 'B3', 'B4', 'B5', 'B6', 'B7', 'B8', 'B9', 'B10']\n",
      "NEXT BEST FEATURE\n",
      " feature number: 13 is 2    INDUS\n",
      "Name: feature, dtype: object\n",
      " The existing features are ['LSTAT', 'LSTAT_SQ', 'RM_SQ', 'RM', 'CRIM', 'B', 'PTRATIO', 'DIS_SQ', 'NOX', 'ZN_SQ', 'CRIM_ZN', 'CHAS', 'INDUS']\n",
      "Not added features are ['ZN', 'AGE', 'DIS', 'RAD', 'TAX', 'INDUS_CHAS', 'RAD_SQ', 'DIS_RAD', 'CRIM_SQ', 'RM_RAD', 'B1', 'B2', 'B3', 'B4', 'B5', 'B6', 'B7', 'B8', 'B9', 'B10']\n",
      "NEXT BEST FEATURE\n",
      " feature number: 14 is 18    B8\n",
      "Name: feature, dtype: object\n",
      " The existing features are ['LSTAT', 'LSTAT_SQ', 'RM_SQ', 'RM', 'CRIM', 'B', 'PTRATIO', 'DIS_SQ', 'NOX', 'ZN_SQ', 'CRIM_ZN', 'CHAS', 'INDUS', 'B8']\n",
      "Not added features are ['ZN', 'AGE', 'DIS', 'RAD', 'TAX', 'INDUS_CHAS', 'RAD_SQ', 'DIS_RAD', 'CRIM_SQ', 'RM_RAD', 'B1', 'B2', 'B3', 'B4', 'B5', 'B6', 'B7', 'B9', 'B10']\n",
      "NEXT BEST FEATURE\n",
      " feature number: 15 is 15    B5\n",
      "Name: feature, dtype: object\n",
      " The existing features are ['LSTAT', 'LSTAT_SQ', 'RM_SQ', 'RM', 'CRIM', 'B', 'PTRATIO', 'DIS_SQ', 'NOX', 'ZN_SQ', 'CRIM_ZN', 'CHAS', 'INDUS', 'B8', 'B5']\n",
      "Not added features are ['ZN', 'AGE', 'DIS', 'RAD', 'TAX', 'INDUS_CHAS', 'RAD_SQ', 'DIS_RAD', 'CRIM_SQ', 'RM_RAD', 'B1', 'B2', 'B3', 'B4', 'B6', 'B7', 'B9', 'B10']\n",
      "NEXT BEST FEATURE\n",
      " feature number: 16 is 16    B7\n",
      "Name: feature, dtype: object\n",
      " The existing features are ['LSTAT', 'LSTAT_SQ', 'RM_SQ', 'RM', 'CRIM', 'B', 'PTRATIO', 'DIS_SQ', 'NOX', 'ZN_SQ', 'CRIM_ZN', 'CHAS', 'INDUS', 'B8', 'B5', 'B7']\n",
      "Not added features are ['ZN', 'AGE', 'DIS', 'RAD', 'TAX', 'INDUS_CHAS', 'RAD_SQ', 'DIS_RAD', 'CRIM_SQ', 'RM_RAD', 'B1', 'B2', 'B3', 'B4', 'B6', 'B9', 'B10']\n",
      "NEXT BEST FEATURE\n",
      " feature number: 17 is 14    B4\n",
      "Name: feature, dtype: object\n",
      " The existing features are ['LSTAT', 'LSTAT_SQ', 'RM_SQ', 'RM', 'CRIM', 'B', 'PTRATIO', 'DIS_SQ', 'NOX', 'ZN_SQ', 'CRIM_ZN', 'CHAS', 'INDUS', 'B8', 'B5', 'B7', 'B4']\n",
      "Not added features are ['ZN', 'AGE', 'DIS', 'RAD', 'TAX', 'INDUS_CHAS', 'RAD_SQ', 'DIS_RAD', 'CRIM_SQ', 'RM_RAD', 'B1', 'B2', 'B3', 'B6', 'B9', 'B10']\n",
      "NEXT BEST FEATURE\n",
      " feature number: 18 is 15    B9\n",
      "Name: feature, dtype: object\n",
      " The existing features are ['LSTAT', 'LSTAT_SQ', 'RM_SQ', 'RM', 'CRIM', 'B', 'PTRATIO', 'DIS_SQ', 'NOX', 'ZN_SQ', 'CRIM_ZN', 'CHAS', 'INDUS', 'B8', 'B5', 'B7', 'B4', 'B9']\n",
      "Not added features are ['ZN', 'AGE', 'DIS', 'RAD', 'TAX', 'INDUS_CHAS', 'RAD_SQ', 'DIS_RAD', 'CRIM_SQ', 'RM_RAD', 'B1', 'B2', 'B3', 'B6', 'B10']\n",
      "NEXT BEST FEATURE\n",
      " feature number: 19 is 15    B10\n",
      "Name: feature, dtype: object\n",
      " The existing features are ['LSTAT', 'LSTAT_SQ', 'RM_SQ', 'RM', 'CRIM', 'B', 'PTRATIO', 'DIS_SQ', 'NOX', 'ZN_SQ', 'CRIM_ZN', 'CHAS', 'INDUS', 'B8', 'B5', 'B7', 'B4', 'B9', 'B10']\n",
      "Not added features are ['ZN', 'AGE', 'DIS', 'RAD', 'TAX', 'INDUS_CHAS', 'RAD_SQ', 'DIS_RAD', 'CRIM_SQ', 'RM_RAD', 'B1', 'B2', 'B3', 'B6']\n",
      "NEXT BEST FEATURE\n",
      " feature number: 20 is 11    B1\n",
      "Name: feature, dtype: object\n",
      " The existing features are ['LSTAT', 'LSTAT_SQ', 'RM_SQ', 'RM', 'CRIM', 'B', 'PTRATIO', 'DIS_SQ', 'NOX', 'ZN_SQ', 'CRIM_ZN', 'CHAS', 'INDUS', 'B8', 'B5', 'B7', 'B4', 'B9', 'B10', 'B1']\n",
      "Not added features are ['ZN', 'AGE', 'DIS', 'RAD', 'TAX', 'INDUS_CHAS', 'RAD_SQ', 'DIS_RAD', 'CRIM_SQ', 'RM_RAD', 'B2', 'B3', 'B6']\n",
      "NEXT BEST FEATURE\n"
     ]
    },
    {
     "name": "stdout",
     "output_type": "stream",
     "text": [
      " feature number: 21 is 11    B2\n",
      "Name: feature, dtype: object\n",
      " The existing features are ['LSTAT', 'LSTAT_SQ', 'RM_SQ', 'RM', 'CRIM', 'B', 'PTRATIO', 'DIS_SQ', 'NOX', 'ZN_SQ', 'CRIM_ZN', 'CHAS', 'INDUS', 'B8', 'B5', 'B7', 'B4', 'B9', 'B10', 'B1', 'B2']\n",
      "Not added features are ['ZN', 'AGE', 'DIS', 'RAD', 'TAX', 'INDUS_CHAS', 'RAD_SQ', 'DIS_RAD', 'CRIM_SQ', 'RM_RAD', 'B3', 'B6']\n",
      "NEXT BEST FEATURE\n",
      " feature number: 22 is 11    B3\n",
      "Name: feature, dtype: object\n",
      " The existing features are ['LSTAT', 'LSTAT_SQ', 'RM_SQ', 'RM', 'CRIM', 'B', 'PTRATIO', 'DIS_SQ', 'NOX', 'ZN_SQ', 'CRIM_ZN', 'CHAS', 'INDUS', 'B8', 'B5', 'B7', 'B4', 'B9', 'B10', 'B1', 'B2', 'B3']\n",
      "Not added features are ['ZN', 'AGE', 'DIS', 'RAD', 'TAX', 'INDUS_CHAS', 'RAD_SQ', 'DIS_RAD', 'CRIM_SQ', 'RM_RAD', 'B6']\n",
      "NEXT BEST FEATURE\n",
      " feature number: 23 is 6    INDUS_CHAS\n",
      "Name: feature, dtype: object\n",
      " The existing features are ['LSTAT', 'LSTAT_SQ', 'RM_SQ', 'RM', 'CRIM', 'B', 'PTRATIO', 'DIS_SQ', 'NOX', 'ZN_SQ', 'CRIM_ZN', 'CHAS', 'INDUS', 'B8', 'B5', 'B7', 'B4', 'B9', 'B10', 'B1', 'B2', 'B3', 'INDUS_CHAS']\n",
      "Not added features are ['ZN', 'AGE', 'DIS', 'RAD', 'TAX', 'RAD_SQ', 'DIS_RAD', 'CRIM_SQ', 'RM_RAD', 'B6']\n",
      "NEXT BEST FEATURE\n",
      " feature number: 24 is 10    B6\n",
      "Name: feature, dtype: object\n",
      " The existing features are ['LSTAT', 'LSTAT_SQ', 'RM_SQ', 'RM', 'CRIM', 'B', 'PTRATIO', 'DIS_SQ', 'NOX', 'ZN_SQ', 'CRIM_ZN', 'CHAS', 'INDUS', 'B8', 'B5', 'B7', 'B4', 'B9', 'B10', 'B1', 'B2', 'B3', 'INDUS_CHAS', 'B6']\n",
      "Not added features are ['ZN', 'AGE', 'DIS', 'RAD', 'TAX', 'RAD_SQ', 'DIS_RAD', 'CRIM_SQ', 'RM_RAD']\n",
      "NEXT BEST FEATURE\n",
      " feature number: 25 is 8    CRIM_SQ\n",
      "Name: feature, dtype: object\n",
      " The existing features are ['LSTAT', 'LSTAT_SQ', 'RM_SQ', 'RM', 'CRIM', 'B', 'PTRATIO', 'DIS_SQ', 'NOX', 'ZN_SQ', 'CRIM_ZN', 'CHAS', 'INDUS', 'B8', 'B5', 'B7', 'B4', 'B9', 'B10', 'B1', 'B2', 'B3', 'INDUS_CHAS', 'B6', 'CRIM_SQ']\n",
      "Not added features are ['ZN', 'AGE', 'DIS', 'RAD', 'TAX', 'RAD_SQ', 'DIS_RAD', 'RM_RAD']\n",
      "NEXT BEST FEATURE\n",
      " feature number: 26 is 3    DIS\n",
      "Name: feature, dtype: object\n",
      " The existing features are ['LSTAT', 'LSTAT_SQ', 'RM_SQ', 'RM', 'CRIM', 'B', 'PTRATIO', 'DIS_SQ', 'NOX', 'ZN_SQ', 'CRIM_ZN', 'CHAS', 'INDUS', 'B8', 'B5', 'B7', 'B4', 'B9', 'B10', 'B1', 'B2', 'B3', 'INDUS_CHAS', 'B6', 'CRIM_SQ', 'DIS']\n",
      "Not added features are ['ZN', 'AGE', 'RAD', 'TAX', 'RAD_SQ', 'DIS_RAD', 'RM_RAD']\n",
      "NEXT BEST FEATURE\n",
      " feature number: 27 is 6    DIS_RAD\n",
      "Name: feature, dtype: object\n",
      " The existing features are ['LSTAT', 'LSTAT_SQ', 'RM_SQ', 'RM', 'CRIM', 'B', 'PTRATIO', 'DIS_SQ', 'NOX', 'ZN_SQ', 'CRIM_ZN', 'CHAS', 'INDUS', 'B8', 'B5', 'B7', 'B4', 'B9', 'B10', 'B1', 'B2', 'B3', 'INDUS_CHAS', 'B6', 'CRIM_SQ', 'DIS', 'DIS_RAD']\n",
      "Not added features are ['ZN', 'AGE', 'RAD', 'TAX', 'RAD_SQ', 'RM_RAD']\n",
      "NEXT BEST FEATURE\n",
      " feature number: 28 is 4    TAX\n",
      "Name: feature, dtype: object\n",
      " The existing features are ['LSTAT', 'LSTAT_SQ', 'RM_SQ', 'RM', 'CRIM', 'B', 'PTRATIO', 'DIS_SQ', 'NOX', 'ZN_SQ', 'CRIM_ZN', 'CHAS', 'INDUS', 'B8', 'B5', 'B7', 'B4', 'B9', 'B10', 'B1', 'B2', 'B3', 'INDUS_CHAS', 'B6', 'CRIM_SQ', 'DIS', 'DIS_RAD', 'TAX']\n",
      "Not added features are ['ZN', 'AGE', 'RAD', 'RAD_SQ', 'RM_RAD']\n",
      "NEXT BEST FEATURE\n",
      " feature number: 29 is 1    ZN\n",
      "Name: feature, dtype: object\n",
      " The existing features are ['LSTAT', 'LSTAT_SQ', 'RM_SQ', 'RM', 'CRIM', 'B', 'PTRATIO', 'DIS_SQ', 'NOX', 'ZN_SQ', 'CRIM_ZN', 'CHAS', 'INDUS', 'B8', 'B5', 'B7', 'B4', 'B9', 'B10', 'B1', 'B2', 'B3', 'INDUS_CHAS', 'B6', 'CRIM_SQ', 'DIS', 'DIS_RAD', 'TAX', 'ZN']\n",
      "Not added features are ['AGE', 'RAD', 'RAD_SQ', 'RM_RAD']\n",
      "NEXT BEST FEATURE\n",
      " feature number: 30 is 4    RM_RAD\n",
      "Name: feature, dtype: object\n",
      " The existing features are ['LSTAT', 'LSTAT_SQ', 'RM_SQ', 'RM', 'CRIM', 'B', 'PTRATIO', 'DIS_SQ', 'NOX', 'ZN_SQ', 'CRIM_ZN', 'CHAS', 'INDUS', 'B8', 'B5', 'B7', 'B4', 'B9', 'B10', 'B1', 'B2', 'B3', 'INDUS_CHAS', 'B6', 'CRIM_SQ', 'DIS', 'DIS_RAD', 'TAX', 'ZN', 'RM_RAD']\n",
      "Not added features are ['AGE', 'RAD', 'RAD_SQ']\n",
      "NEXT BEST FEATURE\n",
      " feature number: 31 is 3    RAD_SQ\n",
      "Name: feature, dtype: object\n",
      " The existing features are ['LSTAT', 'LSTAT_SQ', 'RM_SQ', 'RM', 'CRIM', 'B', 'PTRATIO', 'DIS_SQ', 'NOX', 'ZN_SQ', 'CRIM_ZN', 'CHAS', 'INDUS', 'B8', 'B5', 'B7', 'B4', 'B9', 'B10', 'B1', 'B2', 'B3', 'INDUS_CHAS', 'B6', 'CRIM_SQ', 'DIS', 'DIS_RAD', 'TAX', 'ZN', 'RM_RAD', 'RAD_SQ']\n",
      "Not added features are ['AGE', 'RAD']\n",
      "NEXT BEST FEATURE\n",
      " feature number: 32 is 1    AGE\n",
      "Name: feature, dtype: object\n",
      " The existing features are ['LSTAT', 'LSTAT_SQ', 'RM_SQ', 'RM', 'CRIM', 'B', 'PTRATIO', 'DIS_SQ', 'NOX', 'ZN_SQ', 'CRIM_ZN', 'CHAS', 'INDUS', 'B8', 'B5', 'B7', 'B4', 'B9', 'B10', 'B1', 'B2', 'B3', 'INDUS_CHAS', 'B6', 'CRIM_SQ', 'DIS', 'DIS_RAD', 'TAX', 'ZN', 'RM_RAD', 'RAD_SQ', 'AGE']\n",
      "Not added features are ['RAD']\n",
      "NEXT BEST FEATURE\n",
      " feature number: 33 is 1    RAD\n",
      "Name: feature, dtype: object\n"
     ]
    }
   ],
   "source": [
    "# Forward selection\n",
    "# First we make a blank list which is not features\n",
    "forward_list = []\n",
    "\n",
    "# we make a list of  all columns\n",
    "all_cols = list(data.drop(\"MEDV\", axis = 1).columns)\n",
    "\n",
    "for i in range(0,33):\n",
    "    print(\" The existing features are\", forward_list)\n",
    "    print(\"Not added features are\", all_cols)\n",
    "    print(\"NEXT BEST FEATURE\")\n",
    "    f = for_sel(forward_list, all_cols)\n",
    "    \n",
    "    # Adding f to forward_list\n",
    "    forward_list.append(f['feature'].item())\n",
    "    # Removing feature from all columns\n",
    "    all_cols.remove(f['feature'].item())\n",
    "    # Feature selection\n",
    "    print(\" feature number:\",i+1, \"is\", f['feature'])"
   ]
  },
  {
   "cell_type": "markdown",
   "metadata": {},
   "source": [
    "## PCA"
   ]
  },
  {
   "cell_type": "code",
   "execution_count": 471,
   "metadata": {
    "scrolled": true
   },
   "outputs": [
    {
     "name": "stdout",
     "output_type": "stream",
     "text": [
      "The variance explaiained for all the components\n",
      "\n",
      "[  3.33705245e+06   2.76513254e+05   1.03826117e+05   9.60873733e+04\n",
      "   9.16299027e+04   8.88014008e+04   8.76352094e+04   8.12956994e+04\n",
      "   7.89692889e+04   7.78247861e+04   7.46455953e+04   7.24097797e+04\n",
      "   6.63060715e+04   3.38404804e+04   6.24418386e+03   3.33064110e+03\n",
      "   5.34976631e+02   2.01597751e+02   1.39384913e+02   5.70649044e+01\n",
      "   3.76811829e+01   2.09401573e+01   1.41881415e+01   1.03397317e+01\n",
      "   4.35985683e+00   3.21999557e+00   2.05712694e+00   1.70616077e+00\n",
      "   2.53441523e-01   7.15072749e-02   1.05484772e-02   2.69453211e-03\n",
      "   2.40961829e-03]\n",
      "\n",
      "\n",
      "The proportion of variance explained for all the components\n",
      "\n",
      "[  7.29021546e-01   6.04078368e-02   2.26821357e-02   2.09915087e-02\n",
      "   2.00177175e-02   1.93997953e-02   1.91450260e-02   1.77600794e-02\n",
      "   1.72518454e-02   1.70018142e-02   1.63072796e-02   1.58188372e-02\n",
      "   1.44854046e-02   7.39288330e-03   1.36412137e-03   7.27620904e-04\n",
      "   1.16872449e-04   4.40415925e-05   3.04504068e-05   1.24665541e-05\n",
      "   8.23193361e-06   4.57464367e-06   3.09957996e-06   2.25884587e-06\n",
      "   9.52466170e-07   7.03448982e-07   4.49405542e-07   3.72732518e-07\n",
      "   5.53675239e-08   1.56216736e-08   2.30444899e-09   5.88654807e-10\n",
      "   5.26411760e-10]\n",
      "\n",
      "\n",
      "The cumulative variance for all the components\n",
      "\n",
      "{1: 0.72902154553375709, 2: 0.78942938232931437, 3: 0.81211133485700004, 4: 0.83310302665824676, 5: 0.8531207441833486, 6: 0.87252053949596475, 7: 0.89166556548335862, 8: 0.9094256448798933, 9: 0.92667749031498592, 10: 0.94367930456408489, 11: 0.95998658415274651, 12: 0.97580542139620108, 13: 0.99029082595683271, 14: 0.99768370925403504, 15: 0.99904783062872071, 16: 0.99977545153301262, 17: 0.99989232398162131, 18: 0.99993636557409182, 19: 0.99996681598087866, 20: 0.99997928253496537, 21: 0.9999875144685727, 22: 0.99999208911224591, 23: 0.99999518869220216, 24: 0.99999744753807551, 25: 0.99999840000424411, 26: 0.99999910345322607, 27: 0.99999955285876929, 28: 0.99999992559128681, 29: 0.99999998095881071, 30: 0.99999999658048433, 31: 0.99999999888493329, 32: 0.99999999947358797, 33: 0.99999999999999978}\n"
     ]
    }
   ],
   "source": [
    "#PCA\n",
    "from sklearn import preprocessing\n",
    "from sklearn.decomposition import PCA\n",
    "\n",
    "#Creating three empty dictionaries for variance explaines, variance ratio and cumulative variance explained\n",
    "\n",
    "var={}\n",
    "var_ratio={}\n",
    "cum_var={}\n",
    "\n",
    "for p in range(33):\n",
    "    v=0\n",
    "    pca=PCA(n_components=p+1)\n",
    "    #m = pca().fit(boston_data_wo_target\n",
    "    k=pca.fit(boston_data_wo_target)\n",
    "    v=pca.explained_variance_\n",
    "    var_ratio=pca.explained_variance_ratio_\n",
    "    var[p+1]=np.sum(pca.explained_variance_ratio_)\n",
    "#print(\"components:\", k.components_)\n",
    "print('The variance explaiained for all the components\\n')\n",
    "print(v)\n",
    "print('\\n')\n",
    "\n",
    "print('The proportion of variance explained for all the components\\n')\n",
    "print(var_ratio)\n",
    "print('\\n')\n",
    "\n",
    "print('The cumulative variance for all the components\\n')\n",
    "print(var)"
   ]
  },
  {
   "cell_type": "code",
   "execution_count": 221,
   "metadata": {},
   "outputs": [],
   "source": [
    "#Rotate the data\n",
    "dR = boston_data_wo_target @ k.components_"
   ]
  },
  {
   "cell_type": "code",
   "execution_count": 367,
   "metadata": {},
   "outputs": [],
   "source": [
    "#Converting it to a dataframe\n",
    "de=pd.DataFrame(dR)"
   ]
  },
  {
   "cell_type": "code",
   "execution_count": 486,
   "metadata": {},
   "outputs": [
    {
     "name": "stdout",
     "output_type": "stream",
     "text": [
      "93.1127778541\n",
      "84.5274981272\n",
      "61.0074272523\n",
      "77.110317314\n",
      "57.0282012664\n",
      "53.1173591068\n",
      "38.26632838\n",
      "The accuracy of the model is 0.52064938122\n"
     ]
    }
   ],
   "source": [
    "#Estimating the regression model\n",
    "columns=[[0],[0,1],[0,1,2],[0,1,2,3],[0,1,2,3,4],[0,1,2,3,4,5],[0,1,2,3,4,5,6]]\n",
    "res = list()\n",
    "for i in range(0,7):\n",
    "    X_train, X_test, y_train, y_test = train_test_split (de[columns[i]],boston_data_only_target, train_size = 0.75)\n",
    "    model = LinearRegression(n_jobs=10,normalize=True)\n",
    "    model.fit(X_train,y_train)\n",
    "    predictions = model.predict(X_test)\n",
    "    coefficients = model.coef_\n",
    "    print(compute_rmse(model,X_test,y_test))\n",
    "    res.append(compute_rmse(model,X_test,y_test))\n",
    "\n",
    "print('The accuracy of the model is', model.score(X_test,y_test))"
   ]
  },
  {
   "cell_type": "code",
   "execution_count": 487,
   "metadata": {},
   "outputs": [
    {
     "data": {
      "text/plain": [
       "[<matplotlib.lines.Line2D at 0x1c1e80a8d0>]"
      ]
     },
     "execution_count": 487,
     "metadata": {},
     "output_type": "execute_result"
    },
    {
     "data": {
      "image/png": "[encoded data removed]",
      "text/plain": [
       "<matplotlib.figure.Figure at 0x1c1e7af710>"
      ]
     },
     "metadata": {},
     "output_type": "display_data"
    }
   ],
   "source": [
    "fig = plt.figure(figsize=(12, 6))\n",
    "ax1 = fig.add_subplot(221)\n",
    "no_comp=[1,2,3,4,5,6,7]\n",
    "ax1.plot(no_comp, res, color = '#993D3D')"
   ]
  },
  {
   "cell_type": "code",
   "execution_count": 308,
   "metadata": {},
   "outputs": [],
   "source": [
    "def normalize_data(x):\n",
    "    mn=x.mean()\n",
    "    sd=np.std(x)\n",
    "    xn=(x-mn)/sd\n",
    "    return xn"
   ]
  },
  {
   "cell_type": "code",
   "execution_count": 473,
   "metadata": {},
   "outputs": [],
   "source": [
    "dk=normalize_data(boston_data_wo_target)"
   ]
  },
  {
   "cell_type": "code",
   "execution_count": 474,
   "metadata": {},
   "outputs": [
    {
     "name": "stdout",
     "output_type": "stream",
     "text": [
      "The variance explaiained for all the components\n",
      "\n",
      "[  9.31592880e+00   3.03719204e+00   2.47653693e+00   1.70487509e+00\n",
      "   1.60878440e+00   1.30005434e+00   1.20663186e+00   1.14292069e+00\n",
      "   1.08035248e+00   1.03538221e+00   9.92933008e-01   9.63046542e-01\n",
      "   9.41057881e-01   9.04758899e-01   8.86737751e-01   7.92496058e-01\n",
      "   7.70958212e-01   6.87767428e-01   5.97744364e-01   4.07260316e-01\n",
      "   3.63157604e-01   2.72454090e-01   1.75675978e-01   1.36540519e-01\n",
      "   7.94926550e-02   7.49595015e-02   3.59443442e-02   2.58480118e-02\n",
      "   2.36063743e-02   1.18818771e-02   7.26123522e-03   3.65512023e-03\n",
      "   1.44993044e-03]\n",
      "\n",
      "\n",
      "The proportion of variance explained for all the components\n",
      "\n",
      "[  2.81742966e-01   9.18542329e-02   7.48982602e-02   5.15607809e-02\n",
      "   4.86546964e-02   3.93177291e-02   3.64923396e-02   3.45655138e-02\n",
      "   3.26732545e-02   3.13132123e-02   3.00294148e-02   2.91255542e-02\n",
      "   2.84605480e-02   2.73627527e-02   2.68177365e-02   2.39675715e-02\n",
      "   2.33161994e-02   2.08002486e-02   1.80776682e-02   1.23168319e-02\n",
      "   1.09830273e-02   8.23986798e-03   5.31299369e-03   4.12941442e-03\n",
      "   2.40410772e-03   2.26701091e-03   1.08706994e-03   7.81725114e-04\n",
      "   7.13930952e-04   3.59345307e-04   2.19602574e-04   1.10542323e-04\n",
      "   4.38504535e-05]\n",
      "\n",
      "\n",
      "The cumulative variance for all the components\n",
      "\n",
      "{1: 0.28174296582203934, 2: 0.37359719792539425, 3: 0.44849544830525556, 4: 0.50000732104071388, 5: 0.54863275479123108, 6: 0.58780604754400656, 7: 0.62448041074616722, 8: 0.6590061065042252, 9: 0.69174306255389095, 10: 0.72306083719464198, 11: 0.75309747198541221, 12: 0.78222794212709834, 13: 0.8106883587695497, 14: 0.83805125509923806, 15: 0.86486899164351272, 16: 0.88883656318723214, 17: 0.91215276256452948, 18: 0.93295301115219009, 19: 0.95103067937156283, 20: 0.96334751128812601, 21: 0.97433053860567154, 22: 0.98257040658326755, 23: 0.98788340027689259, 24: 0.99201281470104141, 25: 0.99441692242418667, 26: 0.99668393333783811, 27: 0.99777100327572343, 28: 0.99855272838972686, 29: 0.99926665934170988, 30: 0.99962600464890283, 31: 0.99984560722315585, 32: 0.99995614954645573, 33: 1.0}\n"
     ]
    }
   ],
   "source": [
    "#Applying the same process as above to the normalised data\n",
    "from sklearn import preprocessing\n",
    "from sklearn.decomposition import PCA\n",
    "\n",
    "#Creating three empty dictionaries for variance explaines, variance ratio and cumulative variance explained\n",
    "\n",
    "var={}\n",
    "var_ratio={}\n",
    "cum_var={}\n",
    "\n",
    "for p in range(33):\n",
    "    v=0\n",
    "    pca=PCA(n_components=p+1)\n",
    "    #m = pca().fit(boston_data_wo_target\n",
    "    k=pca.fit(dk)\n",
    "    v=pca.explained_variance_\n",
    "    var_ratio=pca.explained_variance_ratio_\n",
    "    var[p+1]=np.sum(pca.explained_variance_ratio_)\n",
    "#print(\"components:\", k.components_)\n",
    "print('The variance explaiained for all the components\\n')\n",
    "print(v)\n",
    "print('\\n')\n",
    "\n",
    "print('The proportion of variance explained for all the components\\n')\n",
    "print(var_ratio)\n",
    "print('\\n')\n",
    "\n",
    "print('The cumulative variance for all the components\\n')\n",
    "print(var)"
   ]
  },
  {
   "cell_type": "code",
   "execution_count": 476,
   "metadata": {
    "collapsed": true
   },
   "outputs": [],
   "source": [
    "#Rotate the data\n",
    "dR = dk @ k.components_"
   ]
  },
  {
   "cell_type": "code",
   "execution_count": 477,
   "metadata": {
    "collapsed": true
   },
   "outputs": [],
   "source": [
    "de=pd.DataFrame(dR)"
   ]
  },
  {
   "cell_type": "code",
   "execution_count": 482,
   "metadata": {},
   "outputs": [
    {
     "name": "stdout",
     "output_type": "stream",
     "text": [
      "100.971476956\n",
      "101.863533234\n",
      "89.0374835204\n",
      "95.5394154491\n",
      "43.1678094977\n",
      "59.6423950732\n",
      "38.5699391589\n",
      "The accuracy of the model is 0.528615281812\n"
     ]
    }
   ],
   "source": [
    "#Estimating the regression model\n",
    "columns=[[0],[0,1],[0,1,2],[0,1,2,3],[0,1,2,3,4],[0,1,2,3,4,5],[0,1,2,3,4,5,6]]\n",
    "res = list()\n",
    "for i in range(0,7):\n",
    "    X_train, X_test, y_train, y_test = train_test_split (de[columns[i]],boston_data_only_target, train_size = 0.75)\n",
    "    model = LinearRegression(n_jobs=10,normalize=True)\n",
    "    model.fit(X_train,y_train)\n",
    "    predictions = model.predict(X_test)\n",
    "    coefficients = model.coef_\n",
    "    print(compute_rmse(model,X_test,y_test))\n",
    "    res.append(compute_rmse(model,X_test,y_test))\n",
    "\n",
    "print('The accuracy of the model is', model.score(X_test,y_test))"
   ]
  },
  {
   "cell_type": "code",
   "execution_count": 481,
   "metadata": {},
   "outputs": [
    {
     "data": {
      "text/plain": [
       "[<matplotlib.lines.Line2D at 0x1c1e691f98>]"
      ]
     },
     "execution_count": 481,
     "metadata": {},
     "output_type": "execute_result"
    },
    {
     "data": {
      "image/png": "[encoded data removed]",
      "text/plain": [
       "<matplotlib.figure.Figure at 0x1c1e464be0>"
      ]
     },
     "metadata": {},
     "output_type": "display_data"
    }
   ],
   "source": [
    "fig = plt.figure(figsize=(12, 6))\n",
    "ax1 = fig.add_subplot(221)\n",
    "no_comp=[1,2,3,4,5,6,7]\n",
    "ax1.plot(no_comp, res, color = '#993D3D')"
   ]
  },
  {
   "cell_type": "markdown",
   "metadata": {},
   "source": [
    "Out of all the models, based on accuracy, performance and speed, Normalised PCA is best of all the models. We also see that MSE is more in terms of lesser components. 1-component PCA produces a poorer prediction performance."
   ]
  },
  {
   "cell_type": "code",
   "execution_count": null,
   "metadata": {
    "collapsed": true
   },
   "outputs": [],
   "source": []
  }
 ],
 "metadata": {
  "kernelspec": {
   "display_name": "Python 3",
   "language": "python",
   "name": "python3"
  },
  "language_info": {
   "codemirror_mode": {
    "name": "ipython",
    "version": 3
   },
   "file_extension": ".py",
   "mimetype": "text/x-python",
   "name": "python",
   "nbconvert_exporter": "python",
   "pygments_lexer": "ipython3",
   "version": "3.6.3"
  }
 },
 "nbformat": 4,
 "nbformat_minor": 2
}
