{
 "cells": [
  {
   "cell_type": "markdown",
   "metadata": {
    "ein.tags": "worksheet-0",
    "slideshow": {
     "slide_type": "-"
    }
   },
   "source": [
    "# Problem Set 3, due Wednesday, May 3rd, 5:30pm."
   ]
  },
  {
   "cell_type": "markdown",
   "metadata": {
    "ein.tags": "worksheet-0",
    "slideshow": {
     "slide_type": "-"
    }
   },
   "source": [
    "## Introduction to the assignment\n",
    "\n",
    "For this assignment, you will be using data from the [Progresa\n",
    "program](http://en.wikipedia.org/wiki/Oportunidades), a government\n",
    "social assistance program in Mexico. This program, as well as the\n",
    "details of its impact, are described in the paper \"[School subsidies\n",
    "for the poor: evaluating the Mexican Progresa poverty\n",
    "program](http://www.sciencedirect.com/science/article/pii/S0304387803001858)\",\n",
    "by Paul Shultz (available on Canvas).  The data\n",
    "(progresa_sample.csv.gz) is available on canvas\n",
    "in files/data.\n",
    "\n",
    "Please read the paper to familiarize yourself with\n",
    "the PROGRESA program before beginning this problem set, so you have a\n",
    "rough sense of where the data come from and how they were\n",
    "generated. If you just proceed into the problem set without\n",
    "understanding Progresa or the data, it will be very difficult!\n",
    "\n",
    "The goal of this problem set is to implement some of the basic\n",
    "econometric techniques that you are learning in class to measure the\n",
    "impact of Progresa on secondary school enrollment rates, in particular\n",
    "differences-in-differences.  Your task is to **estimate the impact of\n",
    "_progresa_ subsidies on the school attendance**.  Note: this asks to\n",
    "estimate a causal effect.\n",
    "\n",
    "The timeline of the program was:\n",
    "\n",
    " * Baseline survey conducted in 1997\n",
    " * Intervention begins in 1998, \"Wave 1\" of data collected in 1998\n",
    " * \"Wave 2 of data\" collected in 1999\n",
    " * Evaluation ends in 2000, at which point the control villages were treated. \n",
    " \n",
    "When you are ready, download the progresa_sample.csv data from\n",
    "Canvas. The data are actual data collected to evaluate the impact of\n",
    "the Progresa program.  In this file, each row corresponds to an\n",
    "observation taken for a given child for a given year. There are two\n",
    "years of data (1997 and 1998), and just under 40,000 children who are\n",
    "surveyed in both years.  For each child-year observation, the\n",
    "following variables are collected:\n",
    "\n",
    "| Variable name | Description|\n",
    "|------|------|\n",
    "|year\t  |year in which data is collected\n",
    "|sex\t  |male = 1|\n",
    "|indig\t  |indigenous = 1|\n",
    "|dist_sec |nearest distance to a secondary school|\n",
    "|sc\t      |enrolled in school in year of survey (=1)|\n",
    "|grc      |grade enrolled|\n",
    "|fam_n    |family size|\n",
    "|min_dist |\tmin distance to an urban center|\n",
    "|dist_cap |\tmin distance to the capital|\n",
    "|poor     |\tpoor = \"pobre\", not poor = \"no pobre\"|\n",
    "|progresa |treatment = \"basal\", control = \"0\"|\n",
    "|hohedu\t  |years of schooling of head of household|\n",
    "|hohwag\t  |monthly wages of head of household|\n",
    "|welfare_index|\twelfare index used to classify poor|\n",
    "|hohsex\t|gender of head of household (male=1)|\n",
    "|hohage\t|age of head of household|\n",
    "|age\t|years old|\n",
    "|folnum\t|individual id|\n",
    "|village|\tvillage id|\n",
    "|sc97\t|enrolled in school in 1997 (=1) |"
   ]
  },
  {
   "cell_type": "code",
   "execution_count": 1,
   "metadata": {},
   "outputs": [
    {
     "name": "stdout",
     "output_type": "stream",
     "text": [
      "3.6.3 |Anaconda, Inc.| (default, Oct  6 2017, 12:04:38) \n",
      "[GCC 4.2.1 Compatible Clang 4.0.1 (tags/RELEASE_401/final)]\n"
     ]
    }
   ],
   "source": [
    "#Importing the necessary libraries\n",
    "import pandas as pd\n",
    "import numpy as np\n",
    "import matplotlib.pyplot as plt\n",
    "import scipy as sp\n",
    "from scipy.stats import ttest_ind\n",
    "import statsmodels.formula.api as smf\n",
    "import sys; print(sys.version)"
   ]
  },
  {
   "cell_type": "code",
   "execution_count": 2,
   "metadata": {
    "collapsed": true
   },
   "outputs": [],
   "source": [
    "data = pd.read_csv('/Users/manasi/Desktop/progresa_sample.csv')"
   ]
  },
  {
   "cell_type": "code",
   "execution_count": 3,
   "metadata": {},
   "outputs": [
    {
     "data": {
      "text/plain": [
       "(77250, 21)"
      ]
     },
     "execution_count": 3,
     "metadata": {},
     "output_type": "execute_result"
    }
   ],
   "source": [
    "data.shape"
   ]
  },
  {
   "cell_type": "code",
   "execution_count": 4,
   "metadata": {},
   "outputs": [
    {
     "data": {
      "text/plain": [
       "Index(['year', 'sex', 'indig', 'dist_sec', 'sc', 'grc', 'fam_n', 'min_dist',\n",
       "       'dist_cap', 'poor', 'progresa', 'hohedu', 'hohwag', 'welfare_index',\n",
       "       'hohsex', 'hohage', 'age', 'village', 'folnum', 'grc97', 'sc97'],\n",
       "      dtype='object')"
      ]
     },
     "execution_count": 4,
     "metadata": {},
     "output_type": "execute_result"
    }
   ],
   "source": [
    "#Analyzing the columns of the data to get an idea of the variables\n",
    "data.columns"
   ]
  },
  {
   "cell_type": "code",
   "execution_count": 5,
   "metadata": {},
   "outputs": [
    {
     "name": "stdout",
     "output_type": "stream",
     "text": [
      "[97 98]\n",
      "['pobre' 'no pobre']\n",
      "['0' 'basal']\n"
     ]
    }
   ],
   "source": [
    "print(data.year.unique())\n",
    "print(data.poor.unique())\n",
    "print(data.progresa.unique())"
   ]
  },
  {
   "cell_type": "code",
   "execution_count": 6,
   "metadata": {
    "collapsed": true
   },
   "outputs": [],
   "source": [
    "#Converting the variables to boolean values. Using loc to replace them based on value based indexing.\n",
    "data.loc[data.poor=='pobre','poor']=1\n",
    "data.loc[data.poor=='no pobre','poor']=0\n",
    "data.loc[data.progresa=='basal','progresa']=1\n",
    "data.loc[data.progresa=='0','progresa']=0"
   ]
  },
  {
   "cell_type": "markdown",
   "metadata": {
    "ein.tags": "worksheet-0",
    "slideshow": {
     "slide_type": "-"
    }
   },
   "source": [
    "## Part 1: Descriptive analysis\n",
    "\n",
    "### 1.1\tSummary Statistics\n",
    "\n",
    "Report summary statistics (mean, standard deviation, and number of missings) for all of\n",
    "the demographic variables in the dataset (i.e., everything except\n",
    "year, folnum, village).  Present the actual levels for 'progresa' and\n",
    "'poor'.  Do these fit with the documentation above?\n",
    "\n",
    "Present these in a single table alphabetized\n",
    "by variable name. Do NOT simply expect the grader to scroll through\n",
    "your output!"
   ]
  },
  {
   "cell_type": "code",
   "execution_count": 7,
   "metadata": {},
   "outputs": [
    {
     "data": {
      "text/html": [
       "<div>\n",
       "<style>\n",
       "    .dataframe thead tr:only-child th {\n",
       "        text-align: right;\n",
       "    }\n",
       "\n",
       "    .dataframe thead th {\n",
       "        text-align: left;\n",
       "    }\n",
       "\n",
       "    .dataframe tbody tr th {\n",
       "        vertical-align: top;\n",
       "    }\n",
       "</style>\n",
       "<table border=\"1\" class=\"dataframe\">\n",
       "  <thead>\n",
       "    <tr style=\"text-align: right;\">\n",
       "      <th></th>\n",
       "      <th>mean</th>\n",
       "      <th>std</th>\n",
       "      <th>0</th>\n",
       "    </tr>\n",
       "  </thead>\n",
       "  <tbody>\n",
       "    <tr>\n",
       "      <th>age</th>\n",
       "      <td>11.366460</td>\n",
       "      <td>3.167744</td>\n",
       "      <td>0</td>\n",
       "    </tr>\n",
       "    <tr>\n",
       "      <th>dist_cap</th>\n",
       "      <td>147.674452</td>\n",
       "      <td>76.063134</td>\n",
       "      <td>0</td>\n",
       "    </tr>\n",
       "    <tr>\n",
       "      <th>dist_sec</th>\n",
       "      <td>2.418910</td>\n",
       "      <td>2.234109</td>\n",
       "      <td>0</td>\n",
       "    </tr>\n",
       "    <tr>\n",
       "      <th>fam_n</th>\n",
       "      <td>7.215715</td>\n",
       "      <td>2.352900</td>\n",
       "      <td>0</td>\n",
       "    </tr>\n",
       "    <tr>\n",
       "      <th>grc</th>\n",
       "      <td>3.963537</td>\n",
       "      <td>2.499063</td>\n",
       "      <td>6549</td>\n",
       "    </tr>\n",
       "    <tr>\n",
       "      <th>grc97</th>\n",
       "      <td>3.705372</td>\n",
       "      <td>2.572387</td>\n",
       "      <td>0</td>\n",
       "    </tr>\n",
       "    <tr>\n",
       "      <th>hohage</th>\n",
       "      <td>44.436717</td>\n",
       "      <td>11.620372</td>\n",
       "      <td>10</td>\n",
       "    </tr>\n",
       "    <tr>\n",
       "      <th>hohedu</th>\n",
       "      <td>2.768104</td>\n",
       "      <td>2.656106</td>\n",
       "      <td>0</td>\n",
       "    </tr>\n",
       "    <tr>\n",
       "      <th>hohsex</th>\n",
       "      <td>0.925185</td>\n",
       "      <td>0.263095</td>\n",
       "      <td>20</td>\n",
       "    </tr>\n",
       "    <tr>\n",
       "      <th>hohwag</th>\n",
       "      <td>586.985312</td>\n",
       "      <td>788.133664</td>\n",
       "      <td>0</td>\n",
       "    </tr>\n",
       "    <tr>\n",
       "      <th>indig</th>\n",
       "      <td>0.298324</td>\n",
       "      <td>0.457525</td>\n",
       "      <td>300</td>\n",
       "    </tr>\n",
       "    <tr>\n",
       "      <th>min_dist</th>\n",
       "      <td>103.447520</td>\n",
       "      <td>42.089441</td>\n",
       "      <td>0</td>\n",
       "    </tr>\n",
       "    <tr>\n",
       "      <th>poor</th>\n",
       "      <td>NaN</td>\n",
       "      <td>NaN</td>\n",
       "      <td>0</td>\n",
       "    </tr>\n",
       "    <tr>\n",
       "      <th>progresa</th>\n",
       "      <td>NaN</td>\n",
       "      <td>NaN</td>\n",
       "      <td>0</td>\n",
       "    </tr>\n",
       "    <tr>\n",
       "      <th>sc</th>\n",
       "      <td>0.819818</td>\n",
       "      <td>0.384342</td>\n",
       "      <td>8453</td>\n",
       "    </tr>\n",
       "    <tr>\n",
       "      <th>sc97</th>\n",
       "      <td>0.813922</td>\n",
       "      <td>0.389172</td>\n",
       "      <td>3872</td>\n",
       "    </tr>\n",
       "    <tr>\n",
       "      <th>sex</th>\n",
       "      <td>0.512211</td>\n",
       "      <td>0.499854</td>\n",
       "      <td>24</td>\n",
       "    </tr>\n",
       "    <tr>\n",
       "      <th>welfare_index</th>\n",
       "      <td>690.346564</td>\n",
       "      <td>139.491130</td>\n",
       "      <td>210</td>\n",
       "    </tr>\n",
       "  </tbody>\n",
       "</table>\n",
       "</div>"
      ],
      "text/plain": [
       "                     mean         std     0\n",
       "age             11.366460    3.167744     0\n",
       "dist_cap       147.674452   76.063134     0\n",
       "dist_sec         2.418910    2.234109     0\n",
       "fam_n            7.215715    2.352900     0\n",
       "grc              3.963537    2.499063  6549\n",
       "grc97            3.705372    2.572387     0\n",
       "hohage          44.436717   11.620372    10\n",
       "hohedu           2.768104    2.656106     0\n",
       "hohsex           0.925185    0.263095    20\n",
       "hohwag         586.985312  788.133664     0\n",
       "indig            0.298324    0.457525   300\n",
       "min_dist       103.447520   42.089441     0\n",
       "poor                  NaN         NaN     0\n",
       "progresa              NaN         NaN     0\n",
       "sc               0.819818    0.384342  8453\n",
       "sc97             0.813922    0.389172  3872\n",
       "sex              0.512211    0.499854    24\n",
       "welfare_index  690.346564  139.491130   210"
      ]
     },
     "execution_count": 7,
     "metadata": {},
     "output_type": "execute_result"
    }
   ],
   "source": [
    "#Making a series x by eliminating the year,folnum and village rows. Removing all the other summary statistics\n",
    "#except for mean and SD. Making another series that take in the number of null values\n",
    "#Concatenating both the series\n",
    "x=data[data.columns.difference(['year','folnum','village'])].describe()\n",
    "x = x.loc['mean':'std',:]\n",
    "x=x.T\n",
    "y=data.isnull().sum()\n",
    "y=y.drop(['year','folnum','village'])\n",
    "y=y.sort_index(axis=0, level=None, ascending=True, inplace=False, sort_remaining=True)\n",
    "new = pd.concat([x, y], axis=1)\n",
    "new"
   ]
  },
  {
   "cell_type": "code",
   "execution_count": 8,
   "metadata": {},
   "outputs": [
    {
     "data": {
      "text/html": [
       "<div>\n",
       "<style>\n",
       "    .dataframe thead tr:only-child th {\n",
       "        text-align: right;\n",
       "    }\n",
       "\n",
       "    .dataframe thead th {\n",
       "        text-align: left;\n",
       "    }\n",
       "\n",
       "    .dataframe tbody tr th {\n",
       "        vertical-align: top;\n",
       "    }\n",
       "</style>\n",
       "<table border=\"1\" class=\"dataframe\">\n",
       "  <thead>\n",
       "    <tr style=\"text-align: right;\">\n",
       "      <th></th>\n",
       "      <th>year</th>\n",
       "      <th>sex</th>\n",
       "      <th>indig</th>\n",
       "      <th>dist_sec</th>\n",
       "      <th>sc</th>\n",
       "      <th>grc</th>\n",
       "      <th>fam_n</th>\n",
       "      <th>min_dist</th>\n",
       "      <th>dist_cap</th>\n",
       "      <th>hohedu</th>\n",
       "      <th>hohwag</th>\n",
       "      <th>welfare_index</th>\n",
       "      <th>hohsex</th>\n",
       "      <th>hohage</th>\n",
       "      <th>age</th>\n",
       "      <th>village</th>\n",
       "      <th>folnum</th>\n",
       "      <th>grc97</th>\n",
       "      <th>sc97</th>\n",
       "    </tr>\n",
       "  </thead>\n",
       "  <tbody>\n",
       "    <tr>\n",
       "      <th>count</th>\n",
       "      <td>77250.000000</td>\n",
       "      <td>77226.000000</td>\n",
       "      <td>76950.000000</td>\n",
       "      <td>77250.000000</td>\n",
       "      <td>68797.000000</td>\n",
       "      <td>70701.000000</td>\n",
       "      <td>77250.000000</td>\n",
       "      <td>77250.000000</td>\n",
       "      <td>77250.000000</td>\n",
       "      <td>77250.000000</td>\n",
       "      <td>77250.000000</td>\n",
       "      <td>77040.000000</td>\n",
       "      <td>77230.000000</td>\n",
       "      <td>77240.000000</td>\n",
       "      <td>77250.000000</td>\n",
       "      <td>77250.000000</td>\n",
       "      <td>77250.000000</td>\n",
       "      <td>77250.000000</td>\n",
       "      <td>73378.000000</td>\n",
       "    </tr>\n",
       "    <tr>\n",
       "      <th>mean</th>\n",
       "      <td>97.500000</td>\n",
       "      <td>0.512211</td>\n",
       "      <td>0.298324</td>\n",
       "      <td>2.418910</td>\n",
       "      <td>0.819818</td>\n",
       "      <td>3.963537</td>\n",
       "      <td>7.215715</td>\n",
       "      <td>103.447520</td>\n",
       "      <td>147.674452</td>\n",
       "      <td>2.768104</td>\n",
       "      <td>586.985312</td>\n",
       "      <td>690.346564</td>\n",
       "      <td>0.925185</td>\n",
       "      <td>44.436717</td>\n",
       "      <td>11.366460</td>\n",
       "      <td>253.614964</td>\n",
       "      <td>19313.000000</td>\n",
       "      <td>3.705372</td>\n",
       "      <td>0.813922</td>\n",
       "    </tr>\n",
       "    <tr>\n",
       "      <th>std</th>\n",
       "      <td>0.500003</td>\n",
       "      <td>0.499854</td>\n",
       "      <td>0.457525</td>\n",
       "      <td>2.234109</td>\n",
       "      <td>0.384342</td>\n",
       "      <td>2.499063</td>\n",
       "      <td>2.352900</td>\n",
       "      <td>42.089441</td>\n",
       "      <td>76.063134</td>\n",
       "      <td>2.656106</td>\n",
       "      <td>788.133664</td>\n",
       "      <td>139.491130</td>\n",
       "      <td>0.263095</td>\n",
       "      <td>11.620372</td>\n",
       "      <td>3.167744</td>\n",
       "      <td>149.341967</td>\n",
       "      <td>11150.149239</td>\n",
       "      <td>2.572387</td>\n",
       "      <td>0.389172</td>\n",
       "    </tr>\n",
       "    <tr>\n",
       "      <th>min</th>\n",
       "      <td>97.000000</td>\n",
       "      <td>0.000000</td>\n",
       "      <td>0.000000</td>\n",
       "      <td>0.000000</td>\n",
       "      <td>0.000000</td>\n",
       "      <td>0.000000</td>\n",
       "      <td>1.000000</td>\n",
       "      <td>9.465392</td>\n",
       "      <td>9.465392</td>\n",
       "      <td>0.000000</td>\n",
       "      <td>0.000000</td>\n",
       "      <td>180.000000</td>\n",
       "      <td>0.000000</td>\n",
       "      <td>15.000000</td>\n",
       "      <td>6.000000</td>\n",
       "      <td>1.000000</td>\n",
       "      <td>1.000000</td>\n",
       "      <td>0.000000</td>\n",
       "      <td>0.000000</td>\n",
       "    </tr>\n",
       "    <tr>\n",
       "      <th>25%</th>\n",
       "      <td>97.000000</td>\n",
       "      <td>0.000000</td>\n",
       "      <td>0.000000</td>\n",
       "      <td>0.574000</td>\n",
       "      <td>1.000000</td>\n",
       "      <td>2.000000</td>\n",
       "      <td>6.000000</td>\n",
       "      <td>70.518238</td>\n",
       "      <td>92.327050</td>\n",
       "      <td>0.000000</td>\n",
       "      <td>120.000000</td>\n",
       "      <td>597.000000</td>\n",
       "      <td>1.000000</td>\n",
       "      <td>36.000000</td>\n",
       "      <td>9.000000</td>\n",
       "      <td>126.000000</td>\n",
       "      <td>9657.000000</td>\n",
       "      <td>1.000000</td>\n",
       "      <td>1.000000</td>\n",
       "    </tr>\n",
       "    <tr>\n",
       "      <th>50%</th>\n",
       "      <td>97.500000</td>\n",
       "      <td>1.000000</td>\n",
       "      <td>0.000000</td>\n",
       "      <td>2.279000</td>\n",
       "      <td>1.000000</td>\n",
       "      <td>4.000000</td>\n",
       "      <td>7.000000</td>\n",
       "      <td>111.228612</td>\n",
       "      <td>132.001494</td>\n",
       "      <td>2.000000</td>\n",
       "      <td>500.000000</td>\n",
       "      <td>685.000000</td>\n",
       "      <td>1.000000</td>\n",
       "      <td>43.000000</td>\n",
       "      <td>11.000000</td>\n",
       "      <td>257.000000</td>\n",
       "      <td>19313.000000</td>\n",
       "      <td>4.000000</td>\n",
       "      <td>1.000000</td>\n",
       "    </tr>\n",
       "    <tr>\n",
       "      <th>75%</th>\n",
       "      <td>98.000000</td>\n",
       "      <td>1.000000</td>\n",
       "      <td>1.000000</td>\n",
       "      <td>3.582000</td>\n",
       "      <td>1.000000</td>\n",
       "      <td>6.000000</td>\n",
       "      <td>9.000000</td>\n",
       "      <td>138.446009</td>\n",
       "      <td>184.445225</td>\n",
       "      <td>4.000000</td>\n",
       "      <td>750.000000</td>\n",
       "      <td>770.000000</td>\n",
       "      <td>1.000000</td>\n",
       "      <td>51.000000</td>\n",
       "      <td>14.000000</td>\n",
       "      <td>385.000000</td>\n",
       "      <td>28969.000000</td>\n",
       "      <td>6.000000</td>\n",
       "      <td>1.000000</td>\n",
       "    </tr>\n",
       "    <tr>\n",
       "      <th>max</th>\n",
       "      <td>98.000000</td>\n",
       "      <td>1.000000</td>\n",
       "      <td>1.000000</td>\n",
       "      <td>14.879000</td>\n",
       "      <td>1.000000</td>\n",
       "      <td>14.000000</td>\n",
       "      <td>24.000000</td>\n",
       "      <td>170.457647</td>\n",
       "      <td>359.774457</td>\n",
       "      <td>20.000000</td>\n",
       "      <td>14000.000000</td>\n",
       "      <td>1294.000000</td>\n",
       "      <td>1.000000</td>\n",
       "      <td>98.000000</td>\n",
       "      <td>17.000000</td>\n",
       "      <td>505.000000</td>\n",
       "      <td>38625.000000</td>\n",
       "      <td>14.000000</td>\n",
       "      <td>1.000000</td>\n",
       "    </tr>\n",
       "  </tbody>\n",
       "</table>\n",
       "</div>"
      ],
      "text/plain": [
       "               year           sex         indig      dist_sec            sc  \\\n",
       "count  77250.000000  77226.000000  76950.000000  77250.000000  68797.000000   \n",
       "mean      97.500000      0.512211      0.298324      2.418910      0.819818   \n",
       "std        0.500003      0.499854      0.457525      2.234109      0.384342   \n",
       "min       97.000000      0.000000      0.000000      0.000000      0.000000   \n",
       "25%       97.000000      0.000000      0.000000      0.574000      1.000000   \n",
       "50%       97.500000      1.000000      0.000000      2.279000      1.000000   \n",
       "75%       98.000000      1.000000      1.000000      3.582000      1.000000   \n",
       "max       98.000000      1.000000      1.000000     14.879000      1.000000   \n",
       "\n",
       "                grc         fam_n      min_dist      dist_cap        hohedu  \\\n",
       "count  70701.000000  77250.000000  77250.000000  77250.000000  77250.000000   \n",
       "mean       3.963537      7.215715    103.447520    147.674452      2.768104   \n",
       "std        2.499063      2.352900     42.089441     76.063134      2.656106   \n",
       "min        0.000000      1.000000      9.465392      9.465392      0.000000   \n",
       "25%        2.000000      6.000000     70.518238     92.327050      0.000000   \n",
       "50%        4.000000      7.000000    111.228612    132.001494      2.000000   \n",
       "75%        6.000000      9.000000    138.446009    184.445225      4.000000   \n",
       "max       14.000000     24.000000    170.457647    359.774457     20.000000   \n",
       "\n",
       "             hohwag  welfare_index        hohsex        hohage           age  \\\n",
       "count  77250.000000   77040.000000  77230.000000  77240.000000  77250.000000   \n",
       "mean     586.985312     690.346564      0.925185     44.436717     11.366460   \n",
       "std      788.133664     139.491130      0.263095     11.620372      3.167744   \n",
       "min        0.000000     180.000000      0.000000     15.000000      6.000000   \n",
       "25%      120.000000     597.000000      1.000000     36.000000      9.000000   \n",
       "50%      500.000000     685.000000      1.000000     43.000000     11.000000   \n",
       "75%      750.000000     770.000000      1.000000     51.000000     14.000000   \n",
       "max    14000.000000    1294.000000      1.000000     98.000000     17.000000   \n",
       "\n",
       "            village        folnum         grc97          sc97  \n",
       "count  77250.000000  77250.000000  77250.000000  73378.000000  \n",
       "mean     253.614964  19313.000000      3.705372      0.813922  \n",
       "std      149.341967  11150.149239      2.572387      0.389172  \n",
       "min        1.000000      1.000000      0.000000      0.000000  \n",
       "25%      126.000000   9657.000000      1.000000      1.000000  \n",
       "50%      257.000000  19313.000000      4.000000      1.000000  \n",
       "75%      385.000000  28969.000000      6.000000      1.000000  \n",
       "max      505.000000  38625.000000     14.000000      1.000000  "
      ]
     },
     "execution_count": 8,
     "metadata": {},
     "output_type": "execute_result"
    }
   ],
   "source": [
    "data.describe()"
   ]
  },
  {
   "cell_type": "markdown",
   "metadata": {
    "ein.tags": "worksheet-0",
    "slideshow": {
     "slide_type": "-"
    }
   },
   "source": [
    "### 1.2 Differences at baseline?\n",
    "Now let's investigate the differences in baseline.  Are the baseline (1997) demographic characteristics **for the poor**\n",
    "different in treatment and control villages?\n",
    "\n",
    "I suggest you to use a T-Test to\n",
    "determine whether there is a statistically significant difference in\n",
    "the average values of each of the variables in the dataset. Focus only\n",
    "on the data from 1997 for poor.\n",
    "\n",
    "Present your results in a single table with the following columns and 14 (or so) rows:\n",
    "\n",
    "| Variable name | Average value (Treatment villages) | Average value (Control villages) | Difference (Treat - Control) | p-value |\n",
    "|------|------|------|------|------|\n",
    "|Male|?|?|?|?|\n"
   ]
  },
  {
   "cell_type": "code",
   "execution_count": 70,
   "metadata": {
    "autoscroll": false,
    "collapsed": true,
    "ein.tags": "worksheet-0",
    "slideshow": {
     "slide_type": "-"
    }
   },
   "outputs": [],
   "source": [
    "poor_97 = data[(data.poor==1)&(data.year==97)]\n",
    "#Creating separate treatment and control groups\n",
    "treatment_group=poor_97.loc[poor_97.progresa==1]\n",
    "control_group=poor_97.loc[poor_97.progresa==0]"
   ]
  },
  {
   "cell_type": "code",
   "execution_count": 72,
   "metadata": {
    "collapsed": true
   },
   "outputs": [],
   "source": [
    "#Calculating average values for all variables in Control and Treatment groups\n",
    "x=treatment_group[treatment_group.columns.difference(['year','folnum','village'])].describe()\n",
    "treatment_average=x.loc['mean']\n",
    "y=control_group[control_group.columns.difference(['year','folnum','village'])].describe()\n",
    "control_average=y.loc['mean']"
   ]
  },
  {
   "cell_type": "code",
   "execution_count": 73,
   "metadata": {
    "collapsed": true
   },
   "outputs": [],
   "source": [
    "#Based on the above created two groups, we create a dataframe that contains the index and the values for both the treatment and the control group.\n",
    "df1 = pd.DataFrame({'Variable name':treatment_average.index, 'Average value (Treatment villages)':treatment_average.values},\n",
    "                        columns = ['Variable name','Average value (Treatment villages)'])\n",
    "df2 = pd.DataFrame({'Variable name':control_average.index, 'Average value (Control villages)':control_average.values},\n",
    "                        columns = ['Variable name','Average value (Control villages)'])\n"
   ]
  },
  {
   "cell_type": "code",
   "execution_count": 74,
   "metadata": {},
   "outputs": [
    {
     "data": {
      "text/html": [
       "<div>\n",
       "<style>\n",
       "    .dataframe thead tr:only-child th {\n",
       "        text-align: right;\n",
       "    }\n",
       "\n",
       "    .dataframe thead th {\n",
       "        text-align: left;\n",
       "    }\n",
       "\n",
       "    .dataframe tbody tr th {\n",
       "        vertical-align: top;\n",
       "    }\n",
       "</style>\n",
       "<table border=\"1\" class=\"dataframe\">\n",
       "  <thead>\n",
       "    <tr style=\"text-align: right;\">\n",
       "      <th></th>\n",
       "      <th>Variable name</th>\n",
       "      <th>Average value (Treatment villages)</th>\n",
       "      <th>Average value (Control villages)</th>\n",
       "    </tr>\n",
       "  </thead>\n",
       "  <tbody>\n",
       "    <tr>\n",
       "      <th>0</th>\n",
       "      <td>after</td>\n",
       "      <td>0.000000</td>\n",
       "      <td>0.000000</td>\n",
       "    </tr>\n",
       "    <tr>\n",
       "      <th>1</th>\n",
       "      <td>age</td>\n",
       "      <td>10.716991</td>\n",
       "      <td>10.742023</td>\n",
       "    </tr>\n",
       "    <tr>\n",
       "      <th>2</th>\n",
       "      <td>dist_cap</td>\n",
       "      <td>150.829074</td>\n",
       "      <td>153.769730</td>\n",
       "    </tr>\n",
       "    <tr>\n",
       "      <th>3</th>\n",
       "      <td>dist_sec</td>\n",
       "      <td>2.453122</td>\n",
       "      <td>2.507662</td>\n",
       "    </tr>\n",
       "    <tr>\n",
       "      <th>4</th>\n",
       "      <td>fam_n</td>\n",
       "      <td>7.281327</td>\n",
       "      <td>7.302469</td>\n",
       "    </tr>\n",
       "    <tr>\n",
       "      <th>5</th>\n",
       "      <td>grc</td>\n",
       "      <td>3.531599</td>\n",
       "      <td>3.543050</td>\n",
       "    </tr>\n",
       "    <tr>\n",
       "      <th>6</th>\n",
       "      <td>grc97</td>\n",
       "      <td>3.531599</td>\n",
       "      <td>3.543050</td>\n",
       "    </tr>\n",
       "    <tr>\n",
       "      <th>7</th>\n",
       "      <td>hohage</td>\n",
       "      <td>43.640194</td>\n",
       "      <td>44.273369</td>\n",
       "    </tr>\n",
       "    <tr>\n",
       "      <th>8</th>\n",
       "      <td>hohedu</td>\n",
       "      <td>2.663139</td>\n",
       "      <td>2.590348</td>\n",
       "    </tr>\n",
       "    <tr>\n",
       "      <th>9</th>\n",
       "      <td>hohsex</td>\n",
       "      <td>0.924290</td>\n",
       "      <td>0.922799</td>\n",
       "    </tr>\n",
       "    <tr>\n",
       "      <th>10</th>\n",
       "      <td>hohwag</td>\n",
       "      <td>544.339544</td>\n",
       "      <td>573.163558</td>\n",
       "    </tr>\n",
       "    <tr>\n",
       "      <th>11</th>\n",
       "      <td>indig</td>\n",
       "      <td>0.324696</td>\n",
       "      <td>0.331169</td>\n",
       "    </tr>\n",
       "    <tr>\n",
       "      <th>12</th>\n",
       "      <td>min_dist</td>\n",
       "      <td>107.152915</td>\n",
       "      <td>103.237854</td>\n",
       "    </tr>\n",
       "    <tr>\n",
       "      <th>13</th>\n",
       "      <td>poor</td>\n",
       "      <td>1.000000</td>\n",
       "      <td>1.000000</td>\n",
       "    </tr>\n",
       "    <tr>\n",
       "      <th>14</th>\n",
       "      <td>progresa</td>\n",
       "      <td>1.000000</td>\n",
       "      <td>0.000000</td>\n",
       "    </tr>\n",
       "    <tr>\n",
       "      <th>15</th>\n",
       "      <td>sc</td>\n",
       "      <td>0.779003</td>\n",
       "      <td>0.769440</td>\n",
       "    </tr>\n",
       "    <tr>\n",
       "      <th>16</th>\n",
       "      <td>sc97</td>\n",
       "      <td>0.779003</td>\n",
       "      <td>0.769440</td>\n",
       "    </tr>\n",
       "    <tr>\n",
       "      <th>17</th>\n",
       "      <td>sex</td>\n",
       "      <td>0.519138</td>\n",
       "      <td>0.504890</td>\n",
       "    </tr>\n",
       "    <tr>\n",
       "      <th>18</th>\n",
       "      <td>welfare_index</td>\n",
       "      <td>655.136672</td>\n",
       "      <td>655.772006</td>\n",
       "    </tr>\n",
       "  </tbody>\n",
       "</table>\n",
       "</div>"
      ],
      "text/plain": [
       "    Variable name  Average value (Treatment villages)  \\\n",
       "0           after                            0.000000   \n",
       "1             age                           10.716991   \n",
       "2        dist_cap                          150.829074   \n",
       "3        dist_sec                            2.453122   \n",
       "4           fam_n                            7.281327   \n",
       "5             grc                            3.531599   \n",
       "6           grc97                            3.531599   \n",
       "7          hohage                           43.640194   \n",
       "8          hohedu                            2.663139   \n",
       "9          hohsex                            0.924290   \n",
       "10         hohwag                          544.339544   \n",
       "11          indig                            0.324696   \n",
       "12       min_dist                          107.152915   \n",
       "13           poor                            1.000000   \n",
       "14       progresa                            1.000000   \n",
       "15             sc                            0.779003   \n",
       "16           sc97                            0.779003   \n",
       "17            sex                            0.519138   \n",
       "18  welfare_index                          655.136672   \n",
       "\n",
       "    Average value (Control villages)  \n",
       "0                           0.000000  \n",
       "1                          10.742023  \n",
       "2                         153.769730  \n",
       "3                           2.507662  \n",
       "4                           7.302469  \n",
       "5                           3.543050  \n",
       "6                           3.543050  \n",
       "7                          44.273369  \n",
       "8                           2.590348  \n",
       "9                           0.922799  \n",
       "10                        573.163558  \n",
       "11                          0.331169  \n",
       "12                        103.237854  \n",
       "13                          1.000000  \n",
       "14                          0.000000  \n",
       "15                          0.769440  \n",
       "16                          0.769440  \n",
       "17                          0.504890  \n",
       "18                        655.772006  "
      ]
     },
     "execution_count": 74,
     "metadata": {},
     "output_type": "execute_result"
    }
   ],
   "source": [
    "#Merge df1 and df2 on a common condition of the index which is our variable name.\n",
    "result=pd.merge(df1,df2, on = 'Variable name')\n",
    "result"
   ]
  },
  {
   "cell_type": "code",
   "execution_count": 75,
   "metadata": {
    "collapsed": true
   },
   "outputs": [],
   "source": [
    "#Now that we have to calculate the p value and the t statistic, we fill all the NA's in our treatment and control group by 0\n",
    "treatment_group=treatment_group.fillna(0)\n",
    "control_group=control_group.fillna(0)"
   ]
  },
  {
   "cell_type": "code",
   "execution_count": 76,
   "metadata": {
    "collapsed": true
   },
   "outputs": [],
   "source": [
    "#Having a clean series in hand, we can now calculate the p and t stat values. \n",
    "#Creating an empty dictionary first that will hold the p and t values\n",
    "\n",
    "p={}\n",
    "t={}\n",
    "\n",
    "#Initially creating the first value of the dictionary that includes the pvalue and the t statistic of the first variable\n",
    "p={'age':ttest_ind(treatment_group.age,control_group.age).pvalue}\n",
    "t={'age':ttest_ind(treatment_group.age,control_group.age).statistic}\n",
    "\n",
    "#Updating it with dist_cap\n",
    "p.update({'dist_cap':ttest_ind(treatment_group.dist_cap,control_group.dist_cap).pvalue})\n",
    "t.update({'dist_cap':ttest_ind(treatment_group.dist_cap,control_group.dist_cap).statistic})\n",
    "\n",
    "#Updating it with dist_sec\n",
    "p.update({'dist_sec':ttest_ind(treatment_group.dist_sec,control_group.dist_sec).pvalue})\n",
    "t.update({'dist_sec':ttest_ind(treatment_group.dist_sec,control_group.dist_sec).statistic})\n",
    "\n",
    "#Updating the dictionary with fam_n\n",
    "p.update({'fam_n':ttest_ind(treatment_group.fam_n,control_group.fam_n).pvalue})\n",
    "t.update({'fam_n':ttest_ind(treatment_group.fam_n,control_group.fam_n).statistic})\n",
    "\n",
    "#Updating it with grc\n",
    "p.update({'grc':ttest_ind(treatment_group.grc,control_group.grc).pvalue})\n",
    "t.update({'grc':ttest_ind(treatment_group.grc,control_group.grc).statistic})\n",
    "\n",
    "#Updating it with grc97\n",
    "p.update({'grc97':ttest_ind(treatment_group.grc97,control_group.grc97).pvalue})\n",
    "t.update({'grc97':ttest_ind(treatment_group.grc97,control_group.grc97).statistic})\n",
    "\n",
    "#Updating it with hohage\n",
    "p.update({'hohage':ttest_ind(treatment_group.hohage,control_group.hohage).pvalue})\n",
    "t.update({'hohage':ttest_ind(treatment_group.hohage,control_group.hohage).statistic})\n",
    "\n",
    "# For hohedu hohsex hohwag indig\n",
    "p.update({'hohsex':ttest_ind(treatment_group.hohsex,control_group.hohsex).pvalue})\n",
    "t.update({'hohsex':ttest_ind(treatment_group.hohsex,control_group.hohsex).statistic})\n",
    "\n",
    "p.update({'hohwag':ttest_ind(treatment_group.hohwag,control_group.hohwag).pvalue})\n",
    "t.update({'hohwag':ttest_ind(treatment_group.hohwag,control_group.hohwag).statistic})\n",
    "\n",
    "p.update({'indig':ttest_ind(treatment_group.indig,control_group.indig).pvalue})\n",
    "t.update({'indig':ttest_ind(treatment_group.indig,control_group.indig).statistic})\n",
    "\n",
    "#min_dist sc sc97 sex welfare_index\n",
    "\n",
    "p.update({'min_dist':ttest_ind(treatment_group.min_dist,control_group.min_dist).pvalue})\n",
    "t.update({'min_dist':ttest_ind(treatment_group.min_dist,control_group.min_dist).statistic})\n",
    "\n",
    "p.update({'sc':ttest_ind(treatment_group.sc,control_group.sc).pvalue})\n",
    "t.update({'sc':ttest_ind(treatment_group.sc,control_group.sc).statistic})\n",
    "\n",
    "p.update({'sex':ttest_ind(treatment_group.sex,control_group.sex).pvalue})\n",
    "t.update({'sex':ttest_ind(treatment_group.sex,control_group.sex).statistic})\n",
    "\n",
    "p.update({'welfare_index':ttest_ind(treatment_group.welfare_index,control_group.welfare_index).pvalue})\n",
    "t.update({'welfare_index':ttest_ind(treatment_group.welfare_index,control_group.welfare_index).statistic})"
   ]
  },
  {
   "cell_type": "code",
   "execution_count": 77,
   "metadata": {},
   "outputs": [
    {
     "name": "stdout",
     "output_type": "stream",
     "text": [
      "{'age': 0.47855944566679565, 'dist_cap': 0.00084150052762919339, 'dist_sec': 0.035698428274042397, 'fam_n': 0.42710393275181735, 'grc': 0.68901509486896795, 'grc97': 0.68901509486896795, 'hohage': 1.5159183684285367e-06, 'hohsex': 0.62177374712809086, 'hohwag': 0.00032538351424080483, 'indig': 0.22559994640948516, 'min_dist': 2.3583122755379036e-16, 'sc': 0.044163796408746993, 'sex': 0.012286550586879538, 'welfare_index': 0.63794347354603598}\n"
     ]
    }
   ],
   "source": [
    "print(p)"
   ]
  },
  {
   "cell_type": "code",
   "execution_count": 78,
   "metadata": {
    "collapsed": true
   },
   "outputs": [],
   "source": [
    "#Converting them to dataframes so that we can merge them with the earlier table\n",
    "df3=pd.DataFrame(list(p.items()), columns=['Variable name','p-value'])\n",
    "df4=pd.DataFrame(list(t.items()), columns=['Variable name','Difference(Treatment-Control)'])\n"
   ]
  },
  {
   "cell_type": "code",
   "execution_count": 65,
   "metadata": {},
   "outputs": [
    {
     "data": {
      "text/html": [
       "<div>\n",
       "<style>\n",
       "    .dataframe thead tr:only-child th {\n",
       "        text-align: right;\n",
       "    }\n",
       "\n",
       "    .dataframe thead th {\n",
       "        text-align: left;\n",
       "    }\n",
       "\n",
       "    .dataframe tbody tr th {\n",
       "        vertical-align: top;\n",
       "    }\n",
       "</style>\n",
       "<table border=\"1\" class=\"dataframe\">\n",
       "  <thead>\n",
       "    <tr style=\"text-align: right;\">\n",
       "      <th></th>\n",
       "      <th>Variable name</th>\n",
       "      <th>Average value (Treatment villages)</th>\n",
       "      <th>Average value (Control villages)</th>\n",
       "      <th>Difference(Treatment-Control)</th>\n",
       "      <th>p-value</th>\n",
       "    </tr>\n",
       "  </thead>\n",
       "  <tbody>\n",
       "    <tr>\n",
       "      <th>0</th>\n",
       "      <td>age</td>\n",
       "      <td>10.716991</td>\n",
       "      <td>10.742023</td>\n",
       "      <td>-0.708630</td>\n",
       "      <td>4.785594e-01</td>\n",
       "    </tr>\n",
       "    <tr>\n",
       "      <th>1</th>\n",
       "      <td>dist_cap</td>\n",
       "      <td>150.829074</td>\n",
       "      <td>153.769730</td>\n",
       "      <td>-3.339081</td>\n",
       "      <td>8.415005e-04</td>\n",
       "    </tr>\n",
       "    <tr>\n",
       "      <th>2</th>\n",
       "      <td>dist_sec</td>\n",
       "      <td>2.453122</td>\n",
       "      <td>2.507662</td>\n",
       "      <td>-2.100433</td>\n",
       "      <td>3.569843e-02</td>\n",
       "    </tr>\n",
       "    <tr>\n",
       "      <th>3</th>\n",
       "      <td>fam_n</td>\n",
       "      <td>7.281327</td>\n",
       "      <td>7.302469</td>\n",
       "      <td>-0.794167</td>\n",
       "      <td>4.271039e-01</td>\n",
       "    </tr>\n",
       "    <tr>\n",
       "      <th>4</th>\n",
       "      <td>grc</td>\n",
       "      <td>3.531599</td>\n",
       "      <td>3.543050</td>\n",
       "      <td>-0.400196</td>\n",
       "      <td>6.890151e-01</td>\n",
       "    </tr>\n",
       "    <tr>\n",
       "      <th>5</th>\n",
       "      <td>grc97</td>\n",
       "      <td>3.531599</td>\n",
       "      <td>3.543050</td>\n",
       "      <td>-0.400196</td>\n",
       "      <td>6.890151e-01</td>\n",
       "    </tr>\n",
       "    <tr>\n",
       "      <th>6</th>\n",
       "      <td>hohage</td>\n",
       "      <td>43.648828</td>\n",
       "      <td>44.276918</td>\n",
       "      <td>-4.810013</td>\n",
       "      <td>1.515918e-06</td>\n",
       "    </tr>\n",
       "    <tr>\n",
       "      <th>7</th>\n",
       "      <td>hohsex</td>\n",
       "      <td>0.924656</td>\n",
       "      <td>0.922947</td>\n",
       "      <td>0.493343</td>\n",
       "      <td>6.217737e-01</td>\n",
       "    </tr>\n",
       "    <tr>\n",
       "      <th>8</th>\n",
       "      <td>hohwag</td>\n",
       "      <td>544.339544</td>\n",
       "      <td>573.163558</td>\n",
       "      <td>-3.594588</td>\n",
       "      <td>3.253835e-04</td>\n",
       "    </tr>\n",
       "    <tr>\n",
       "      <th>9</th>\n",
       "      <td>indig</td>\n",
       "      <td>0.325986</td>\n",
       "      <td>0.332207</td>\n",
       "      <td>-1.211794</td>\n",
       "      <td>2.255999e-01</td>\n",
       "    </tr>\n",
       "    <tr>\n",
       "      <th>10</th>\n",
       "      <td>min_dist</td>\n",
       "      <td>107.152915</td>\n",
       "      <td>103.237854</td>\n",
       "      <td>8.206584</td>\n",
       "      <td>2.358312e-16</td>\n",
       "    </tr>\n",
       "    <tr>\n",
       "      <th>11</th>\n",
       "      <td>sc</td>\n",
       "      <td>0.822697</td>\n",
       "      <td>0.815186</td>\n",
       "      <td>2.012611</td>\n",
       "      <td>4.416380e-02</td>\n",
       "    </tr>\n",
       "    <tr>\n",
       "      <th>12</th>\n",
       "      <td>sex</td>\n",
       "      <td>0.519317</td>\n",
       "      <td>0.505052</td>\n",
       "      <td>2.503945</td>\n",
       "      <td>1.228655e-02</td>\n",
       "    </tr>\n",
       "    <tr>\n",
       "      <th>13</th>\n",
       "      <td>welfare_index</td>\n",
       "      <td>655.428377</td>\n",
       "      <td>659.579100</td>\n",
       "      <td>-0.470581</td>\n",
       "      <td>6.379435e-01</td>\n",
       "    </tr>\n",
       "  </tbody>\n",
       "</table>\n",
       "</div>"
      ],
      "text/plain": [
       "    Variable name  Average value (Treatment villages)  \\\n",
       "0             age                           10.716991   \n",
       "1        dist_cap                          150.829074   \n",
       "2        dist_sec                            2.453122   \n",
       "3           fam_n                            7.281327   \n",
       "4             grc                            3.531599   \n",
       "5           grc97                            3.531599   \n",
       "6          hohage                           43.648828   \n",
       "7          hohsex                            0.924656   \n",
       "8          hohwag                          544.339544   \n",
       "9           indig                            0.325986   \n",
       "10       min_dist                          107.152915   \n",
       "11             sc                            0.822697   \n",
       "12            sex                            0.519317   \n",
       "13  welfare_index                          655.428377   \n",
       "\n",
       "    Average value (Control villages)  Difference(Treatment-Control)  \\\n",
       "0                          10.742023                      -0.708630   \n",
       "1                         153.769730                      -3.339081   \n",
       "2                           2.507662                      -2.100433   \n",
       "3                           7.302469                      -0.794167   \n",
       "4                           3.543050                      -0.400196   \n",
       "5                           3.543050                      -0.400196   \n",
       "6                          44.276918                      -4.810013   \n",
       "7                           0.922947                       0.493343   \n",
       "8                         573.163558                      -3.594588   \n",
       "9                           0.332207                      -1.211794   \n",
       "10                        103.237854                       8.206584   \n",
       "11                          0.815186                       2.012611   \n",
       "12                          0.505052                       2.503945   \n",
       "13                        659.579100                      -0.470581   \n",
       "\n",
       "         p-value  \n",
       "0   4.785594e-01  \n",
       "1   8.415005e-04  \n",
       "2   3.569843e-02  \n",
       "3   4.271039e-01  \n",
       "4   6.890151e-01  \n",
       "5   6.890151e-01  \n",
       "6   1.515918e-06  \n",
       "7   6.217737e-01  \n",
       "8   3.253835e-04  \n",
       "9   2.255999e-01  \n",
       "10  2.358312e-16  \n",
       "11  4.416380e-02  \n",
       "12  1.228655e-02  \n",
       "13  6.379435e-01  "
      ]
     },
     "execution_count": 65,
     "metadata": {},
     "output_type": "execute_result"
    }
   ],
   "source": [
    "#Merging the above two dataframes with result\n",
    "result=pd.merge(result,df4, on = 'Variable name')\n",
    "result=pd.merge(result,df3, on = 'Variable name')\n",
    "result"
   ]
  },
  {
   "cell_type": "markdown",
   "metadata": {
    "ein.tags": "worksheet-0",
    "slideshow": {
     "slide_type": "-"
    }
   },
   "source": [
    "### 1.3 Interpretation\n",
    "\n",
    "* A: Are there statistically significant differences between treatment and control villages as baseline? \n",
    "* B: Why does it matter if there are differences at baseline?\n",
    "* C: What does this imply about how to measure the impact of the treatment?"
   ]
  },
  {
   "cell_type": "markdown",
   "metadata": {
    "ein.tags": "worksheet-0",
    "slideshow": {
     "slide_type": "-"
    }
   },
   "source": [
    "A) To be statistically significant, the groups cannot be explained by chance and there has to be another parameter that justifies this significance. Usually, statistical significance is determined when the p value is less than 0.05. Here we see that the fourth column for Difference(Treatment-Control) is significant for variables dist_cap, dist_sec, hohage, hohedu, hohwag, min_dist, sc and sex. This can be confirmed with the p value which is less than 0.05 in the variables mentioned. Hence, there are statistically significant differences between control and treatment village baseline as majority variables tend to be in that criteria.\n",
    "\n",
    "B) The main purpose in creating an experiment is that, factually it is impossible to conduct an experiement on the entire population. In such cases, to determine the conclusion of an experiment we take two samples from the population and they are distributied randomly. This process is called randomization. The main purpose in doing randomization is that the parameters of the population are similar so that fair experiments can be carried out. Here, as we see, from our p values and t test that there is a statistical difference between the variables. Differences at baseline indicate that the process of randomization that aims to make the treatment and control groups similar in all aspects except for the variable under study & to understand its causal effects did not succeed completely for all variables. As there is statistically significant difference between the treatment and control group prior to the treatment, the effect of Progresa cannot be clearly determined through the data from the subsequent surveys.\n",
    "\n",
    "C) We can measure the impact of the treatment by using Double difference as randomization did not give us any similarity between two groups.This is because diff in diff calculates the effect of a treatment on an outcome by comparing the average change over time in the outcome variable for the treatment group, compared to the average change over time for the control group.It is intended to mitigate the effects of extraneous factors and selection bias. "
   ]
  },
  {
   "cell_type": "markdown",
   "metadata": {
    "ein.tags": "worksheet-0",
    "slideshow": {
     "slide_type": "-"
    }
   },
   "source": [
    "### 1.4 Graphical exploration, part 1\n",
    "\n",
    "For each level of household head education, compute the average\n",
    "enrollment rate in 1997. Create a scatterplot that shows this\n",
    "relationship. What do you notice?"
   ]
  },
  {
   "cell_type": "code",
   "execution_count": 17,
   "metadata": {
    "autoscroll": false,
    "ein.tags": "worksheet-0",
    "slideshow": {
     "slide_type": "-"
    }
   },
   "outputs": [
    {
     "data": {
      "text/html": [
       "<div>\n",
       "<style>\n",
       "    .dataframe thead tr:only-child th {\n",
       "        text-align: right;\n",
       "    }\n",
       "\n",
       "    .dataframe thead th {\n",
       "        text-align: left;\n",
       "    }\n",
       "\n",
       "    .dataframe tbody tr th {\n",
       "        vertical-align: top;\n",
       "    }\n",
       "</style>\n",
       "<table border=\"1\" class=\"dataframe\">\n",
       "  <thead>\n",
       "    <tr style=\"text-align: right;\">\n",
       "      <th></th>\n",
       "      <th>hohedu</th>\n",
       "      <th>sc</th>\n",
       "    </tr>\n",
       "  </thead>\n",
       "  <tbody>\n",
       "    <tr>\n",
       "      <th>0</th>\n",
       "      <td>0</td>\n",
       "      <td>0.776137</td>\n",
       "    </tr>\n",
       "    <tr>\n",
       "      <th>1</th>\n",
       "      <td>1</td>\n",
       "      <td>0.768537</td>\n",
       "    </tr>\n",
       "    <tr>\n",
       "      <th>2</th>\n",
       "      <td>2</td>\n",
       "      <td>0.794552</td>\n",
       "    </tr>\n",
       "    <tr>\n",
       "      <th>3</th>\n",
       "      <td>3</td>\n",
       "      <td>0.802956</td>\n",
       "    </tr>\n",
       "    <tr>\n",
       "      <th>4</th>\n",
       "      <td>4</td>\n",
       "      <td>0.842951</td>\n",
       "    </tr>\n",
       "    <tr>\n",
       "      <th>5</th>\n",
       "      <td>5</td>\n",
       "      <td>0.849835</td>\n",
       "    </tr>\n",
       "    <tr>\n",
       "      <th>6</th>\n",
       "      <td>6</td>\n",
       "      <td>0.878469</td>\n",
       "    </tr>\n",
       "    <tr>\n",
       "      <th>7</th>\n",
       "      <td>7</td>\n",
       "      <td>0.889535</td>\n",
       "    </tr>\n",
       "    <tr>\n",
       "      <th>8</th>\n",
       "      <td>8</td>\n",
       "      <td>0.900000</td>\n",
       "    </tr>\n",
       "    <tr>\n",
       "      <th>9</th>\n",
       "      <td>9</td>\n",
       "      <td>0.925023</td>\n",
       "    </tr>\n",
       "    <tr>\n",
       "      <th>10</th>\n",
       "      <td>10</td>\n",
       "      <td>0.865385</td>\n",
       "    </tr>\n",
       "    <tr>\n",
       "      <th>11</th>\n",
       "      <td>11</td>\n",
       "      <td>0.974359</td>\n",
       "    </tr>\n",
       "    <tr>\n",
       "      <th>12</th>\n",
       "      <td>12</td>\n",
       "      <td>0.982955</td>\n",
       "    </tr>\n",
       "    <tr>\n",
       "      <th>13</th>\n",
       "      <td>13</td>\n",
       "      <td>0.959459</td>\n",
       "    </tr>\n",
       "    <tr>\n",
       "      <th>14</th>\n",
       "      <td>14</td>\n",
       "      <td>0.880952</td>\n",
       "    </tr>\n",
       "    <tr>\n",
       "      <th>15</th>\n",
       "      <td>15</td>\n",
       "      <td>0.900000</td>\n",
       "    </tr>\n",
       "    <tr>\n",
       "      <th>16</th>\n",
       "      <td>16</td>\n",
       "      <td>0.941176</td>\n",
       "    </tr>\n",
       "    <tr>\n",
       "      <th>17</th>\n",
       "      <td>17</td>\n",
       "      <td>0.933333</td>\n",
       "    </tr>\n",
       "    <tr>\n",
       "      <th>18</th>\n",
       "      <td>18</td>\n",
       "      <td>1.000000</td>\n",
       "    </tr>\n",
       "    <tr>\n",
       "      <th>19</th>\n",
       "      <td>20</td>\n",
       "      <td>0.500000</td>\n",
       "    </tr>\n",
       "  </tbody>\n",
       "</table>\n",
       "</div>"
      ],
      "text/plain": [
       "    hohedu        sc\n",
       "0        0  0.776137\n",
       "1        1  0.768537\n",
       "2        2  0.794552\n",
       "3        3  0.802956\n",
       "4        4  0.842951\n",
       "5        5  0.849835\n",
       "6        6  0.878469\n",
       "7        7  0.889535\n",
       "8        8  0.900000\n",
       "9        9  0.925023\n",
       "10      10  0.865385\n",
       "11      11  0.974359\n",
       "12      12  0.982955\n",
       "13      13  0.959459\n",
       "14      14  0.880952\n",
       "15      15  0.900000\n",
       "16      16  0.941176\n",
       "17      17  0.933333\n",
       "18      18  1.000000\n",
       "19      20  0.500000"
      ]
     },
     "execution_count": 17,
     "metadata": {},
     "output_type": "execute_result"
    }
   ],
   "source": [
    "#Just like we subsetted the data above, we subset the progresa data based on the year 97\n",
    "progresa_97=data[data.year==97]\n",
    "progresa_97_avg=progresa_97.groupby(['hohedu']).sc.mean()\n",
    "#We adjust the index here because initially the 'hohedu' column was coming as the index and while plotting it couldnt identify a column\n",
    "progresa_97_avg = progresa_97_avg.reset_index()\n",
    "progresa_97_avg"
   ]
  },
  {
   "cell_type": "code",
   "execution_count": 18,
   "metadata": {},
   "outputs": [
    {
     "data": {
      "image/png": "[encoded data removed]",
      "text/plain": [
       "<matplotlib.figure.Figure at 0x103830278>"
      ]
     },
     "metadata": {},
     "output_type": "display_data"
    }
   ],
   "source": [
    "#Plotting the data\n",
    "fig,ax=plt.subplots()\n",
    "threshold = 0.85\n",
    "ax.axhline(y=threshold, color='r', linestyle=':')\n",
    "plt.scatter(progresa_97_avg.hohedu,progresa_97_avg.sc)\n",
    "plt.xlabel(\"Level of Household head education\")\n",
    "plt.ylabel(\"Average Enrollment rate in 1997\")\n",
    "plt.show()"
   ]
  },
  {
   "cell_type": "markdown",
   "metadata": {
    "ein.tags": "worksheet-0",
    "slideshow": {
     "slide_type": "-"
    }
   },
   "source": [
    "Observation: \n",
    "Here I have considered the threshold to 0.85 just to understand the spread and the distribution of the values.\n",
    "The average enrollment rate is seen as a steady increase from 0.75 to 9. It drops a little and again rises as a wave. The same pattern of drop and rise is observed for 15 and 17.5. At 20, it drastically drops. This is a bit unusual behavior. I described the data to see that there were only 2 records available with 1 as enrolled."
   ]
  },
  {
   "cell_type": "markdown",
   "metadata": {
    "ein.tags": "worksheet-0",
    "slideshow": {
     "slide_type": "-"
    }
   },
   "source": [
    "### 1.5 Graphical exploration, part 2\n",
    "\n",
    "Create a histogram of village enrollment rates **among poor households\n",
    "in treated villages**, before and after treatment.  Specifically, for\n",
    "each village, calculate the average rate of enrollment of poor\n",
    "households in treated villages in 1997, then compute the average rate\n",
    "of enrollment of poor households in treated villages in 1998. Create\n",
    "two separate histograms showing the distribution of these average\n",
    "enrollments rates, one histogram for 1997 and one histogram for\n",
    "1998. On each histogram, draw a vertical line that intersects the\n",
    "x-axis at the average value (across all households). Does there appear\n",
    "to be a difference? Is this difference statistically significant?"
   ]
  },
  {
   "cell_type": "code",
   "execution_count": 30,
   "metadata": {
    "autoscroll": false,
    "collapsed": true,
    "ein.tags": "worksheet-0",
    "slideshow": {
     "slide_type": "-"
    }
   },
   "outputs": [],
   "source": [
    "#Subset data\n",
    "avg_treatment_before = data[(data.poor==1)&(data.progresa==1)&(data.year==97)].groupby(['village']).mean()\n",
    "avg_treatment_after = data[(data.poor==1)&(data.progresa==1)&(data.year==98)].groupby(['village']).mean()\n",
    "\n",
    "#Because the village comes as an index, we reset the index\n",
    "avg_treatment_before=avg_treatment_before.reset_index()\n",
    "avg_treatment_before=avg_treatment_before.reset_index()\n"
   ]
  },
  {
   "cell_type": "code",
   "execution_count": 32,
   "metadata": {},
   "outputs": [
    {
     "data": {
      "image/png": "[encoded data removed]",
      "text/plain": [
       "<matplotlib.figure.Figure at 0x1a0ae65710>"
      ]
     },
     "metadata": {},
     "output_type": "display_data"
    }
   ],
   "source": [
    "fig = plt.figure()\n",
    "ax = plt.hist(avg_treatment_before.sc,color=\"cyan\")\n",
    "plt.ylabel(\"Number of villages\")\n",
    "plt.xlabel(\"Average Enrollment in 1997\")\n",
    "plt.axvline(avg_treatment_before.sc.mean(), color='red')\n",
    "plt.show()"
   ]
  },
  {
   "cell_type": "code",
   "execution_count": 33,
   "metadata": {},
   "outputs": [
    {
     "data": {
      "image/png": "[encoded data removed]",
      "text/plain": [
       "<matplotlib.figure.Figure at 0x1a1a62c518>"
      ]
     },
     "metadata": {},
     "output_type": "display_data"
    }
   ],
   "source": [
    "fig = plt.figure()\n",
    "ax = plt.hist(avg_treatment_after.sc,color=\"purple\")\n",
    "plt.ylabel(\"Number of villages\")\n",
    "plt.xlabel(\"Average Enrollment in 1997\")\n",
    "plt.axvline(avg_treatment_after.sc.mean(), color='yellow')\n",
    "plt.show()"
   ]
  },
  {
   "cell_type": "code",
   "execution_count": 69,
   "metadata": {},
   "outputs": [
    {
     "name": "stdout",
     "output_type": "stream",
     "text": [
      "0.8138394110596501\n",
      "0.8295362042630732\n",
      "0.0442487003657\n"
     ]
    }
   ],
   "source": [
    "print (avg_treatment_before.sc.mean())\n",
    "print (avg_treatment_after.sc.mean())\n",
    "print(ttest_ind(avg_treatment_after.sc,avg_treatment_before.sc).pvalue)\n",
    "#t = ttest_ind(avg_treatment_before.sc,avg_treatment_after.sc)\n"
   ]
  },
  {
   "cell_type": "markdown",
   "metadata": {},
   "source": [
    "\n",
    "\n",
    "Looking at the enrollment rates between pre and post treatment villages among poor households reveals a considerable difference between the means (0.81 vs 0.83), and a statistically significant p value of 0.044. Hence we can say that the enrollment rate changed for poor households in treatment villages between 97 and 98."
   ]
  },
  {
   "cell_type": "markdown",
   "metadata": {
    "ein.tags": "worksheet-0",
    "slideshow": {
     "slide_type": "-"
    }
   },
   "source": [
    "## Part 2: Measuring Impact\n",
    "\n",
    "Our goal is to estimate the causal impact of the PROGRESA program on\n",
    "the social and economic outcomes of individuals in Mexico. We will\n",
    "focus on the impact of the program on the poor (those with\n",
    "poor=='pobre'), since only the poor were eligible to receive the\n",
    "PROGRESA assistance.\n",
    "\n",
    "### 2.1 Cross-Sectional Estimator: T-test\n",
    "\n",
    "Begin by estimating the impact of Progresa using \"simple differences.\"\n",
    "Restricting yourself to data from 1998 (after treatment), calculate\n",
    "the average enrollment rate among **poor** households in the Treatment\n",
    "villages and the average enrollment rate among **poor** households in\n",
    "the control villages. Use a t-test to determine if this difference is\n",
    "statistically significant. What do you conclude?"
   ]
  },
  {
   "cell_type": "code",
   "execution_count": 67,
   "metadata": {
    "autoscroll": false,
    "ein.tags": "worksheet-0",
    "slideshow": {
     "slide_type": "-"
    }
   },
   "outputs": [
    {
     "name": "stdout",
     "output_type": "stream",
     "text": [
      "Average enrollment rate in treatment villages in 98 0.8464791213954308\n",
      "Average enrollment rate in control villages in 98 0.807636956730308\n"
     ]
    },
    {
     "data": {
      "text/plain": [
       "Ttest_indResult(statistic=8.3587205674183735, pvalue=6.636344447523235e-17)"
      ]
     },
     "execution_count": 67,
     "metadata": {},
     "output_type": "execute_result"
    }
   ],
   "source": [
    "treatment_group_98=data[(data.poor==1)&(data.progresa==1)&(data.year==98)]\n",
    "control_group_98=data[(data.poor==1)&(data.progresa==0)&(data.year==98)]\n",
    "\n",
    "#Printing the average enrollment rate in treatment and control groups for the year 98\n",
    "print('Average enrollment rate in treatment villages in 98',treatment_group_98.sc.mean())\n",
    "print('Average enrollment rate in control villages in 98', control_group_98.sc.mean())\n",
    "\n",
    "#Using the t-test to determine if this difference is statistically significant\n",
    "#ttest_ind(treatment_group_98.sc,control_group_98.sc)\n",
    "ttest_ind(treatment_group_98.sc[~np.isnan(treatment_group_98.sc)],control_group_98.sc[~np.isnan(control_group_98.sc)])"
   ]
  },
  {
   "cell_type": "markdown",
   "metadata": {
    "ein.tags": "worksheet-0",
    "slideshow": {
     "slide_type": "-"
    }
   },
   "source": [
    "The difference here is statistically significant. It can be observed that the average enrollment rate differs marginally. This can be confirmed from the p value as it is less than 0.05.\n",
    "\n"
   ]
  },
  {
   "cell_type": "markdown",
   "metadata": {
    "ein.tags": "worksheet-0",
    "slideshow": {
     "slide_type": "-"
    }
   },
   "source": [
    "### 2.2 Cross-Sectional Estimator: Regression\n",
    "\n",
    "Estimate the effects of Progresa on enrollment using a regression\n",
    "model, by regressing the 1998 enrollment rates **of the poor** on\n",
    "treatment assignment.  Do not include any additional control\n",
    "variables.\n",
    "Discuss the following:\n",
    "\n",
    "* Based on this model, how much did Progresa increase the likelihood of a child enrolling?\n",
    "* How does your regression estimate compare to your t-test estimate from part 2.1?\n",
    "* Based on this regression model, can we reject the null hypothesis that the treatment effects are zero? \n",
    "* What is the counterfactual assumption underlying this regression?\n",
    "\n",
    "Note: I recommend to use statsmodels.formula.api as this allows to use\n",
    "convenient R-style formulas and provedes nice summaries of the results."
   ]
  },
  {
   "cell_type": "code",
   "execution_count": 24,
   "metadata": {
    "autoscroll": false,
    "ein.tags": "worksheet-0",
    "slideshow": {
     "slide_type": "-"
    }
   },
   "outputs": [
    {
     "name": "stdout",
     "output_type": "stream",
     "text": [
      "                            OLS Regression Results                            \n",
      "==============================================================================\n",
      "Dep. Variable:                     sc   R-squared:                       0.003\n",
      "Model:                            OLS   Adj. R-squared:                  0.003\n",
      "Method:                 Least Squares   F-statistic:                     69.87\n",
      "Date:                Tue, 01 May 2018   Prob (F-statistic):           6.64e-17\n",
      "Time:                        21:55:07   Log-Likelihood:                -11926.\n",
      "No. Observations:               27450   AIC:                         2.386e+04\n",
      "Df Residuals:                   27448   BIC:                         2.387e+04\n",
      "Df Model:                           1                                         \n",
      "Covariance Type:            nonrobust                                         \n",
      "=================================================================================\n",
      "                    coef    std err          t      P>|t|      [0.025      0.975]\n",
      "---------------------------------------------------------------------------------\n",
      "Intercept         0.8076      0.004    220.676      0.000       0.800       0.815\n",
      "progresa[T.1]     0.0388      0.005      8.359      0.000       0.030       0.048\n",
      "==============================================================================\n",
      "Omnibus:                     7638.939   Durbin-Watson:                   1.734\n",
      "Prob(Omnibus):                  0.000   Jarque-Bera (JB):            15767.534\n",
      "Skew:                          -1.767   Prob(JB):                         0.00\n",
      "Kurtosis:                       4.140   Cond. No.                         3.01\n",
      "==============================================================================\n",
      "\n",
      "Warnings:\n",
      "[1] Standard Errors assume that the covariance matrix of the errors is correctly specified.\n"
     ]
    }
   ],
   "source": [
    "\n",
    "progresa_98=data[(data.poor==1)&(data.year==98)]\n",
    "mod = smf.ols(formula='sc~progresa', data=progresa_98)\n",
    "res = mod.fit()\n",
    "print(res.summary())"
   ]
  },
  {
   "cell_type": "markdown",
   "metadata": {
    "ein.tags": "worksheet-0",
    "slideshow": {
     "slide_type": "-"
    }
   },
   "source": [
    "1. The base coefficient for the enrollment is 0.8076. The value of progresa being true in a tuple increases the enrollment odds by a coefficient of 0.0384. \n",
    "2. The regression estimate given to us is 0.8076 which is same as the mean of enrollment in control based villages. The regression increases the likelihood of enrollment by 0.0388 which results in a regression estimate of treatment based villages to 0.8464 which is also same as the mean we found in the previous 2.1 analysis\n",
    "3. Since the P > |t| value is 0 or both intercept and progresa T, we can say that the p value is less than critical value and we can reject the null hypothesis.\n",
    "4. The assumption underlying in the regression is that the other factors like sex, household, distance from school and age do not play unequal roles (make uniformly equal comtribution) to both treatment and non treatment cases. "
   ]
  },
  {
   "cell_type": "markdown",
   "metadata": {
    "ein.tags": "worksheet-0",
    "slideshow": {
     "slide_type": "-"
    }
   },
   "source": [
    "### 2.3 Multiple Regression\n",
    "\n",
    "Re-run the above regression estimated but this time include a set of\n",
    "relevant control variables. Include, for instance, age, distance to a secondary\n",
    "school, gender, education of household head, welfare index,\n",
    "indigenous, etc.\n",
    "\n",
    "* How do the controls affect the point estimate of treatment effect?\n",
    "* How do the controls affect the standard error on the treatment effect? \n",
    "* How do you interpret the differences (or similarities) between your estimates of 2.2 and 2.3?"
   ]
  },
  {
   "cell_type": "code",
   "execution_count": 25,
   "metadata": {
    "autoscroll": false,
    "ein.tags": "worksheet-0",
    "slideshow": {
     "slide_type": "-"
    }
   },
   "outputs": [
    {
     "name": "stdout",
     "output_type": "stream",
     "text": [
      "                            OLS Regression Results                            \n",
      "==============================================================================\n",
      "Dep. Variable:                     sc   R-squared:                       0.272\n",
      "Model:                            OLS   Adj. R-squared:                  0.272\n",
      "Method:                 Least Squares   F-statistic:                     1135.\n",
      "Date:                Tue, 01 May 2018   Prob (F-statistic):               0.00\n",
      "Time:                        21:55:07   Log-Likelihood:                -7590.0\n",
      "No. Observations:               27336   AIC:                         1.520e+04\n",
      "Df Residuals:                   27326   BIC:                         1.528e+04\n",
      "Df Model:                           9                                         \n",
      "Covariance Type:            nonrobust                                         \n",
      "=================================================================================\n",
      "                    coef    std err          t      P>|t|      [0.025      0.975]\n",
      "---------------------------------------------------------------------------------\n",
      "Intercept         1.4609      0.014    103.413      0.000       1.433       1.489\n",
      "progresa[T.1]     0.0330      0.004      8.271      0.000       0.025       0.041\n",
      "age              -0.0657      0.001    -95.117      0.000      -0.067      -0.064\n",
      "dist_sec         -0.0114      0.001    -12.997      0.000      -0.013      -0.010\n",
      "sex               0.0304      0.004      7.862      0.000       0.023       0.038\n",
      "hohedu            0.0086      0.001     10.199      0.000       0.007       0.010\n",
      "indig             0.0289      0.004      6.611      0.000       0.020       0.037\n",
      "fam_n             0.0003      0.001      0.297      0.766      -0.001       0.002\n",
      "min_dist          0.0006    4.9e-05     12.559      0.000       0.001       0.001\n",
      "hohage            0.0001      0.000      0.578      0.563      -0.000       0.000\n",
      "==============================================================================\n",
      "Omnibus:                     2928.292   Durbin-Watson:                   1.727\n",
      "Prob(Omnibus):                  0.000   Jarque-Bera (JB):             3969.033\n",
      "Skew:                          -0.926   Prob(JB):                         0.00\n",
      "Kurtosis:                       3.228   Cond. No.                         894.\n",
      "==============================================================================\n",
      "\n",
      "Warnings:\n",
      "[1] Standard Errors assume that the covariance matrix of the errors is correctly specified.\n"
     ]
    }
   ],
   "source": [
    "progresa_98=data[(data.poor==1)&(data.year==98)]\n",
    "mod = smf.ols(formula='sc~progresa+age+ dist_sec + sex + hohedu + indig + fam_n + min_dist+ hohage + hohedu', data=progresa_98)\n",
    "res = mod.fit()\n",
    "print(res.summary())"
   ]
  },
  {
   "cell_type": "markdown",
   "metadata": {
    "ein.tags": "worksheet-0",
    "slideshow": {
     "slide_type": "-"
    }
   },
   "source": [
    "The controls in the multiple regression model reduced the point estimate of the treatment effect to 0.033 from 0.0388 in the single regression model.\n",
    "\n",
    "The controls reduced the standard error from 0.005 in the single regression model to 0.004 in the multiple regression model.\n",
    "\n",
    "Differences(or similarities) in the estimates - a)The intercept has increased from 0.8076 (Single regression model) to 1.4609 (Multiple regression model) which implies that while controlling for multiple factors, the avg. enrollment would have increased considerabely in the absence of the treatment. b)With the controls in the multiple regression model, the R squared value = 0.272, indicating the model explains the variations in the data better than the single regression model. c)In the multiple regression model, it is observed that with an increase in age by 1 year, the avg. enrollment rate reduces by 0.0657 while holding the other factors constant and similarly with an increase in distance to secondary school by 1 unit, the avg. enrollment rate reduces by 0.0114 while holding the other factors constant."
   ]
  },
  {
   "cell_type": "markdown",
   "metadata": {
    "ein.tags": "worksheet-0",
    "slideshow": {
     "slide_type": "-"
    }
   },
   "source": [
    "### 2.4 Difference-in-Difference, version 1 (tabular)\n",
    "\n",
    "Thus far, we have computed the effects of Progresa by estimating the\n",
    "difference in 1998 enrollment rates across villages. An alternative\n",
    "approach would be to compute the treatment effect using a\n",
    "difference-in-differences framework.\n",
    "\n",
    "Begin by estimating the average treatment effects of the program for poor households using data from 1997 and 1998. Specifically, calculate:\n",
    "\n",
    "a) the difference (between 1997 and 1998) in enrollment rates among poor households in treated villages\n",
    "\n",
    "b) the difference (between 1997 and 1998) in enrollment rates among poor households in control villages.\n",
    "\n",
    "c) The difference between these two differences is your estimate.\n",
    "\n",
    "* What is your estimate of the impact, and how does it compare to your earlier (simple difference) results?\n",
    "\n",
    "* What is the counterfactual assumption underlying this estimate? \n"
   ]
  },
  {
   "cell_type": "code",
   "execution_count": 80,
   "metadata": {
    "autoscroll": false,
    "ein.tags": "worksheet-0",
    "slideshow": {
     "slide_type": "-"
    }
   },
   "outputs": [
    {
     "name": "stdout",
     "output_type": "stream",
     "text": [
      "Difference - in - Difference is:  0.031331280319323085\n"
     ]
    },
    {
     "data": {
      "text/html": [
       "<div>\n",
       "<style>\n",
       "    .dataframe thead tr:only-child th {\n",
       "        text-align: right;\n",
       "    }\n",
       "\n",
       "    .dataframe thead th {\n",
       "        text-align: left;\n",
       "    }\n",
       "\n",
       "    .dataframe tbody tr th {\n",
       "        vertical-align: top;\n",
       "    }\n",
       "</style>\n",
       "<table border=\"1\" class=\"dataframe\">\n",
       "  <thead>\n",
       "    <tr style=\"text-align: right;\">\n",
       "      <th></th>\n",
       "      <th>Average Enrollment - Treatment Group</th>\n",
       "      <th>Average Enrollment - Control Group</th>\n",
       "    </tr>\n",
       "  </thead>\n",
       "  <tbody>\n",
       "    <tr>\n",
       "      <th>1997 (Before Treatment)</th>\n",
       "      <td>0.822697</td>\n",
       "      <td>0.815186</td>\n",
       "    </tr>\n",
       "    <tr>\n",
       "      <th>1998 (After Treatment)</th>\n",
       "      <td>0.846479</td>\n",
       "      <td>0.807637</td>\n",
       "    </tr>\n",
       "  </tbody>\n",
       "</table>\n",
       "</div>"
      ],
      "text/plain": [
       "                         Average Enrollment - Treatment Group  \\\n",
       "1997 (Before Treatment)                              0.822697   \n",
       "1998 (After Treatment)                               0.846479   \n",
       "\n",
       "                         Average Enrollment - Control Group  \n",
       "1997 (Before Treatment)                            0.815186  \n",
       "1998 (After Treatment)                             0.807637  "
      ]
     },
     "execution_count": 80,
     "metadata": {},
     "output_type": "execute_result"
    }
   ],
   "source": [
    "#Subsetting data\n",
    "treatment_97 = data[(data.year==97)&(data.poor==1)&(data.progresa==1)]\n",
    "treatment_98 = data[(data.year==98)&(data.poor==1)&(data.progresa==1)]\n",
    "control_97 = data[(data.year==97)&(data.poor==1)&(data.progresa==0)]\n",
    "control_98 = data[(data.year==98)&(data.poor==1)&(data.progresa==0)]\n",
    "\n",
    "#Average enrollment rate in each\n",
    "avg_enroll_treatment_97 = treatment_97.sc.mean()\n",
    "avg_enroll_treatment_98 = treatment_98.sc.mean()\n",
    "avg_enroll_control_97 = control_97.sc.mean()\n",
    "avg_enroll_control_98 = control_98.sc.mean()\n",
    "\n",
    "dd_df = pd.DataFrame([[avg_enroll_treatment_97,avg_enroll_control_97],[avg_enroll_treatment_98,avg_enroll_control_98]]\n",
    "                    ,columns = ['Average Enrollment - Treatment Group','Average Enrollment - Control Group']\n",
    "                    ,index = ['1997 (Before Treatment)','1998 (After Treatment)'])\n",
    "print (\"Difference - in - Difference is: \", (avg_enroll_treatment_98 - avg_enroll_control_98) - (avg_enroll_treatment_97 - avg_enroll_control_97) )\n",
    "dd_df"
   ]
  },
  {
   "cell_type": "markdown",
   "metadata": {
    "ein.tags": "worksheet-0",
    "slideshow": {
     "slide_type": "-"
    }
   },
   "source": [
    "The estimate of the treatment impact is 0.03133. The impact of the treatment is reduced compared to the simple difference result of 0.0388 obtained in the single regression model. As established previously that the randomization process did not obtain ideal results, the difference in difference model is a better estimate of the treatment impact.\n",
    "The counterfactual assumption is that difference-in-difference value would have been 0, i.e the average enrollment difference between the treatment group and control group would have been the same in 97 and 98, in the absence of the treatment."
   ]
  },
  {
   "cell_type": "markdown",
   "metadata": {
    "ein.tags": "worksheet-0",
    "slideshow": {
     "slide_type": "-"
    }
   },
   "source": [
    "### 2.5 Difference-in-Difference, version 2 (regression)\n",
    "\n",
    "Now use a regression specification to estimate the average treatment\n",
    "effects of the program in a difference-in-differences\n",
    "framework. Include at least 5 control variables.\n",
    "\n",
    "* What is your estimate of the impact of Progresa? Be very specific in\n",
    "  interpreting your coefficients and standard errors, and make sure to\n",
    "  specify exactly what units you are measuring and estimating.\n",
    "\n",
    "* How do these estimates of the treatment effect compare to the\n",
    "  estimates based on the simple difference?\n",
    "\n",
    "* How do these estimates compare to the difference-in-difference\n",
    "  estimates from 2.4 above? What accounts for these differences?\n",
    "\n",
    "* What is the counterfactual assumption underlying this regression? "
   ]
  },
  {
   "cell_type": "code",
   "execution_count": 82,
   "metadata": {
    "autoscroll": false,
    "ein.tags": "worksheet-0",
    "slideshow": {
     "slide_type": "-"
    }
   },
   "outputs": [
    {
     "data": {
      "text/html": [
       "<table class=\"simpletable\">\n",
       "<caption>OLS Regression Results</caption>\n",
       "<tr>\n",
       "  <th>Dep. Variable:</th>           <td>sc</td>        <th>  R-squared:         </th> <td>   0.283</td> \n",
       "</tr>\n",
       "<tr>\n",
       "  <th>Model:</th>                   <td>OLS</td>       <th>  Adj. R-squared:    </th> <td>   0.282</td> \n",
       "</tr>\n",
       "<tr>\n",
       "  <th>Method:</th>             <td>Least Squares</td>  <th>  F-statistic:       </th> <td>   2081.</td> \n",
       "</tr>\n",
       "<tr>\n",
       "  <th>Date:</th>             <td>Tue, 01 May 2018</td> <th>  Prob (F-statistic):</th>  <td>  0.00</td>  \n",
       "</tr>\n",
       "<tr>\n",
       "  <th>Time:</th>                 <td>23:27:10</td>     <th>  Log-Likelihood:    </th> <td> -16562.</td> \n",
       "</tr>\n",
       "<tr>\n",
       "  <th>No. Observations:</th>      <td> 58157</td>      <th>  AIC:               </th> <td>3.315e+04</td>\n",
       "</tr>\n",
       "<tr>\n",
       "  <th>Df Residuals:</th>          <td> 58145</td>      <th>  BIC:               </th> <td>3.326e+04</td>\n",
       "</tr>\n",
       "<tr>\n",
       "  <th>Df Model:</th>              <td>    11</td>      <th>                     </th>     <td> </td>    \n",
       "</tr>\n",
       "<tr>\n",
       "  <th>Covariance Type:</th>      <td>nonrobust</td>    <th>                     </th>     <td> </td>    \n",
       "</tr>\n",
       "</table>\n",
       "<table class=\"simpletable\">\n",
       "<tr>\n",
       "           <td></td>              <th>coef</th>     <th>std err</th>      <th>t</th>      <th>P>|t|</th>  <th>[0.025</th>    <th>0.975]</th>  \n",
       "</tr>\n",
       "<tr>\n",
       "  <th>Intercept</th>           <td>    1.4282</td> <td>    0.010</td> <td>  146.029</td> <td> 0.000</td> <td>    1.409</td> <td>    1.447</td>\n",
       "</tr>\n",
       "<tr>\n",
       "  <th>progresa[T.1]</th>       <td>    0.0020</td> <td>    0.004</td> <td>    0.527</td> <td> 0.598</td> <td>   -0.005</td> <td>    0.009</td>\n",
       "</tr>\n",
       "<tr>\n",
       "  <th>after</th>               <td>    0.0273</td> <td>    0.004</td> <td>    6.279</td> <td> 0.000</td> <td>    0.019</td> <td>    0.036</td>\n",
       "</tr>\n",
       "<tr>\n",
       "  <th>progresa[T.1]:after</th> <td>    0.0313</td> <td>    0.006</td> <td>    5.692</td> <td> 0.000</td> <td>    0.021</td> <td>    0.042</td>\n",
       "</tr>\n",
       "<tr>\n",
       "  <th>age</th>                 <td>   -0.0658</td> <td>    0.000</td> <td> -143.647</td> <td> 0.000</td> <td>   -0.067</td> <td>   -0.065</td>\n",
       "</tr>\n",
       "<tr>\n",
       "  <th>dist_sec</th>            <td>   -0.0103</td> <td>    0.001</td> <td>  -16.679</td> <td> 0.000</td> <td>   -0.011</td> <td>   -0.009</td>\n",
       "</tr>\n",
       "<tr>\n",
       "  <th>sex</th>                 <td>    0.0333</td> <td>    0.003</td> <td>   12.456</td> <td> 0.000</td> <td>    0.028</td> <td>    0.038</td>\n",
       "</tr>\n",
       "<tr>\n",
       "  <th>hohedu</th>              <td>    0.0078</td> <td>    0.001</td> <td>   13.472</td> <td> 0.000</td> <td>    0.007</td> <td>    0.009</td>\n",
       "</tr>\n",
       "<tr>\n",
       "  <th>indig</th>               <td>    0.0329</td> <td>    0.003</td> <td>   10.899</td> <td> 0.000</td> <td>    0.027</td> <td>    0.039</td>\n",
       "</tr>\n",
       "<tr>\n",
       "  <th>fam_n</th>               <td>   -0.0002</td> <td>    0.001</td> <td>   -0.365</td> <td> 0.715</td> <td>   -0.001</td> <td>    0.001</td>\n",
       "</tr>\n",
       "<tr>\n",
       "  <th>min_dist</th>            <td>    0.0006</td> <td> 3.39e-05</td> <td>   16.959</td> <td> 0.000</td> <td>    0.001</td> <td>    0.001</td>\n",
       "</tr>\n",
       "<tr>\n",
       "  <th>hohage</th>              <td>    0.0003</td> <td>    0.000</td> <td>    2.549</td> <td> 0.011</td> <td> 7.65e-05</td> <td>    0.001</td>\n",
       "</tr>\n",
       "</table>\n",
       "<table class=\"simpletable\">\n",
       "<tr>\n",
       "  <th>Omnibus:</th>       <td>5461.777</td> <th>  Durbin-Watson:     </th> <td>   1.491</td>\n",
       "</tr>\n",
       "<tr>\n",
       "  <th>Prob(Omnibus):</th>  <td> 0.000</td>  <th>  Jarque-Bera (JB):  </th> <td>7167.479</td>\n",
       "</tr>\n",
       "<tr>\n",
       "  <th>Skew:</th>           <td>-0.858</td>  <th>  Prob(JB):          </th> <td>    0.00</td>\n",
       "</tr>\n",
       "<tr>\n",
       "  <th>Kurtosis:</th>       <td> 3.108</td>  <th>  Cond. No.          </th> <td>    914.</td>\n",
       "</tr>\n",
       "</table>"
      ],
      "text/plain": [
       "<class 'statsmodels.iolib.summary.Summary'>\n",
       "\"\"\"\n",
       "                            OLS Regression Results                            \n",
       "==============================================================================\n",
       "Dep. Variable:                     sc   R-squared:                       0.283\n",
       "Model:                            OLS   Adj. R-squared:                  0.282\n",
       "Method:                 Least Squares   F-statistic:                     2081.\n",
       "Date:                Tue, 01 May 2018   Prob (F-statistic):               0.00\n",
       "Time:                        23:27:10   Log-Likelihood:                -16562.\n",
       "No. Observations:               58157   AIC:                         3.315e+04\n",
       "Df Residuals:                   58145   BIC:                         3.326e+04\n",
       "Df Model:                          11                                         \n",
       "Covariance Type:            nonrobust                                         \n",
       "=======================================================================================\n",
       "                          coef    std err          t      P>|t|      [0.025      0.975]\n",
       "---------------------------------------------------------------------------------------\n",
       "Intercept               1.4282      0.010    146.029      0.000       1.409       1.447\n",
       "progresa[T.1]           0.0020      0.004      0.527      0.598      -0.005       0.009\n",
       "after                   0.0273      0.004      6.279      0.000       0.019       0.036\n",
       "progresa[T.1]:after     0.0313      0.006      5.692      0.000       0.021       0.042\n",
       "age                    -0.0658      0.000   -143.647      0.000      -0.067      -0.065\n",
       "dist_sec               -0.0103      0.001    -16.679      0.000      -0.011      -0.009\n",
       "sex                     0.0333      0.003     12.456      0.000       0.028       0.038\n",
       "hohedu                  0.0078      0.001     13.472      0.000       0.007       0.009\n",
       "indig                   0.0329      0.003     10.899      0.000       0.027       0.039\n",
       "fam_n                  -0.0002      0.001     -0.365      0.715      -0.001       0.001\n",
       "min_dist                0.0006   3.39e-05     16.959      0.000       0.001       0.001\n",
       "hohage                  0.0003      0.000      2.549      0.011    7.65e-05       0.001\n",
       "==============================================================================\n",
       "Omnibus:                     5461.777   Durbin-Watson:                   1.491\n",
       "Prob(Omnibus):                  0.000   Jarque-Bera (JB):             7167.479\n",
       "Skew:                          -0.858   Prob(JB):                         0.00\n",
       "Kurtosis:                       3.108   Cond. No.                         914.\n",
       "==============================================================================\n",
       "\n",
       "Warnings:\n",
       "[1] Standard Errors assume that the covariance matrix of the errors is correctly specified.\n",
       "\"\"\""
      ]
     },
     "execution_count": 82,
     "metadata": {},
     "output_type": "execute_result"
    }
   ],
   "source": [
    "#Create variable to identify 97 - before treatment and 98 - after treatment\n",
    "data.loc[data.year == 97, 'after'] = 0\n",
    "data.loc[data.year == 98, 'after'] = 1\n",
    "\n",
    "progresa_97_98_poor = data[((data.after == 1) | (data.after == 0)) & (data.poor == 1)]\n",
    "\n",
    "double_diff_lm = smf.ols(formula = 'sc ~ progresa + after + progresa:after + age + dist_sec + sex + hohedu + indig + fam_n + min_dist+ hohage + hohedu',\n",
    "                data=progresa_97_98_poor).fit()\n",
    "double_diff_lm.summary()"
   ]
  },
  {
   "cell_type": "markdown",
   "metadata": {
    "ein.tags": "worksheet-0",
    "slideshow": {
     "slide_type": "-"
    }
   },
   "source": [
    "The estimate of the impact of Progresa is 0.0313. To obtain this result, the year variable was changed to after = 1 (1998) and after = 0 (1997). It is observed that considering the treatment impact in 1998 is the same as the result obtained in 2.5. There is an increase in average enrollment in the treatment group in 1998 with 0.0313 as the new coefficient while controlling for other variables, with a standard error of 0.006.\n",
    "\n",
    "The estimates obtained here are lower than the simple difference as it considers the difference in the treatment and control group prior to the treatment. Hence the estimate is more precise.\n",
    "\n",
    "This estimate is equal to the one obtained in 2.4. A marginal difference in the decimal values can be attributed to the control variables introduced.\n",
    "\n",
    "The counterfactual assumption is that the difference in difference value would have been 0, i.e the average enrollment difference between the treatment group and control group would have been the same in 97 and 98, in the absence of the treatment."
   ]
  },
  {
   "cell_type": "markdown",
   "metadata": {
    "ein.tags": "worksheet-0",
    "slideshow": {
     "slide_type": "-"
    }
   },
   "source": [
    "### 2.6 Summary\n",
    "\n",
    "* Yes, Progresa did have a causal impact on the enrollment rates of poor households in Mexico. The causal impact is not significant but is definetely observed among treatment groups in the poor households. Additional spill-over effects with an increase in avg. enrollment among non-poor households also shows that the Progresa study is having a positive impact on increasing the overall enrollment rate in the community."
   ]
  },
  {
   "cell_type": "markdown",
   "metadata": {
    "ein.tags": "worksheet-0",
    "slideshow": {
     "slide_type": "-"
    }
   },
   "source": [
    "*Discuss your results here*"
   ]
  }
 ],
 "metadata": {
  "kernelspec": {
   "display_name": "Python 3",
   "language": "python",
   "name": "python3"
  },
  "language_info": {
   "codemirror_mode": {
    "name": "ipython",
    "version": 3
   },
   "file_extension": ".py",
   "mimetype": "text/x-python",
   "name": "python",
   "nbconvert_exporter": "python",
   "pygments_lexer": "ipython3",
   "version": "3.6.3"
  },
  "name": "ps03_progresa.ipynb"
 },
 "nbformat": 4,
 "nbformat_minor": 1
}
