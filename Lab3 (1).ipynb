{
 "cells": [
  {
   "cell_type": "code",
   "execution_count": 1,
   "metadata": {
    "collapsed": true
   },
   "outputs": [],
   "source": [
    "import numpy as np\n",
    "import pandas as pd\n",
    "import statsmodels.formula.api as smf\n",
    "import matplotlib.pyplot as plt\n",
    "%matplotlib inline"
   ]
  },
  {
   "cell_type": "markdown",
   "metadata": {},
   "source": [
    "### Task 1\n",
    "Here we are exploring the data, understanding the variables and the coding of the data in general to know the range, unique values and the overview."
   ]
  },
  {
   "cell_type": "code",
   "execution_count": 3,
   "metadata": {},
   "outputs": [
    {
     "name": "stdout",
     "output_type": "stream",
     "text": [
      "   year  age sex  meth  tv state\n",
      "0  2003   13   M     0   1    XX\n",
      "1  2003   13   M     1   1    XX\n",
      "2  2003   13   M     1   1    XX\n",
      "3  2003   13   M     0   1    XX\n",
      "4  2003   13   M     0   0    XX\n",
      "(58077, 6)\n",
      "[2003 2005 2007 2009]\n",
      "[13 14 15 16 17]\n",
      "['M' 'F']\n",
      "[0 1]\n",
      "[1 0]\n",
      "['XX' 'MT']\n"
     ]
    }
   ],
   "source": [
    "yrbs = pd.read_table('/Users/manasi/Desktop/yrbs.tsv.bz2')\n",
    "print(yrbs.head())\n",
    "print(yrbs.shape)\n",
    "print(yrbs.year.unique())\n",
    "print(yrbs.age.unique())\n",
    "print(yrbs.sex.unique())\n",
    "print(yrbs.meth.unique())\n",
    "print(yrbs.tv.unique())\n",
    "print(yrbs.state.unique())\n"
   ]
  },
  {
   "cell_type": "markdown",
   "metadata": {},
   "source": [
    "### 1.1 Computing an additional variable\n",
    "We add an extra column called 'before' that takes in the value 0 based on the year filter of 2003 and 2005 and the value of 1 based on the filter year 2007 and 2009."
   ]
  },
  {
   "cell_type": "code",
   "execution_count": 25,
   "metadata": {},
   "outputs": [
    {
     "name": "stderr",
     "output_type": "stream",
     "text": [
      "/Users/manasi/anaconda3/lib/python3.6/site-packages/ipykernel_launcher.py:2: SettingWithCopyWarning: \n",
      "A value is trying to be set on a copy of a slice from a DataFrame\n",
      "\n",
      "See the caveats in the documentation: http://pandas.pydata.org/pandas-docs/stable/indexing.html#indexing-view-versus-copy\n",
      "  \n"
     ]
    }
   ],
   "source": [
    "yrbs['before'] = 0\n",
    "yrbs['before'][ yrbs['year'].isin([2003,2005]) ] = 0"
   ]
  },
  {
   "cell_type": "code",
   "execution_count": 27,
   "metadata": {},
   "outputs": [
    {
     "name": "stderr",
     "output_type": "stream",
     "text": [
      "/Users/manasi/anaconda3/lib/python3.6/site-packages/ipykernel_launcher.py:1: SettingWithCopyWarning: \n",
      "A value is trying to be set on a copy of a slice from a DataFrame\n",
      "\n",
      "See the caveats in the documentation: http://pandas.pydata.org/pandas-docs/stable/indexing.html#indexing-view-versus-copy\n",
      "  \"\"\"Entry point for launching an IPython kernel.\n"
     ]
    }
   ],
   "source": [
    "yrbs['before'][ yrbs['year'].isin([2007,2009]) ] = 1"
   ]
  },
  {
   "cell_type": "code",
   "execution_count": 28,
   "metadata": {},
   "outputs": [
    {
     "data": {
      "text/html": [
       "<div>\n",
       "<style>\n",
       "    .dataframe thead tr:only-child th {\n",
       "        text-align: right;\n",
       "    }\n",
       "\n",
       "    .dataframe thead th {\n",
       "        text-align: left;\n",
       "    }\n",
       "\n",
       "    .dataframe tbody tr th {\n",
       "        vertical-align: top;\n",
       "    }\n",
       "</style>\n",
       "<table border=\"1\" class=\"dataframe\">\n",
       "  <thead>\n",
       "    <tr style=\"text-align: right;\">\n",
       "      <th></th>\n",
       "      <th>year</th>\n",
       "      <th>age</th>\n",
       "      <th>sex</th>\n",
       "      <th>meth</th>\n",
       "      <th>tv</th>\n",
       "      <th>state</th>\n",
       "      <th>period</th>\n",
       "      <th>before</th>\n",
       "    </tr>\n",
       "  </thead>\n",
       "  <tbody>\n",
       "    <tr>\n",
       "      <th>58072</th>\n",
       "      <td>2009</td>\n",
       "      <td>17</td>\n",
       "      <td>F</td>\n",
       "      <td>0</td>\n",
       "      <td>0</td>\n",
       "      <td>MT</td>\n",
       "      <td>after</td>\n",
       "      <td>1</td>\n",
       "    </tr>\n",
       "    <tr>\n",
       "      <th>58073</th>\n",
       "      <td>2009</td>\n",
       "      <td>17</td>\n",
       "      <td>F</td>\n",
       "      <td>0</td>\n",
       "      <td>0</td>\n",
       "      <td>MT</td>\n",
       "      <td>after</td>\n",
       "      <td>1</td>\n",
       "    </tr>\n",
       "    <tr>\n",
       "      <th>58074</th>\n",
       "      <td>2009</td>\n",
       "      <td>17</td>\n",
       "      <td>F</td>\n",
       "      <td>0</td>\n",
       "      <td>0</td>\n",
       "      <td>MT</td>\n",
       "      <td>after</td>\n",
       "      <td>1</td>\n",
       "    </tr>\n",
       "    <tr>\n",
       "      <th>58075</th>\n",
       "      <td>2009</td>\n",
       "      <td>17</td>\n",
       "      <td>F</td>\n",
       "      <td>0</td>\n",
       "      <td>0</td>\n",
       "      <td>MT</td>\n",
       "      <td>after</td>\n",
       "      <td>1</td>\n",
       "    </tr>\n",
       "    <tr>\n",
       "      <th>58076</th>\n",
       "      <td>2009</td>\n",
       "      <td>17</td>\n",
       "      <td>F</td>\n",
       "      <td>0</td>\n",
       "      <td>0</td>\n",
       "      <td>MT</td>\n",
       "      <td>after</td>\n",
       "      <td>1</td>\n",
       "    </tr>\n",
       "  </tbody>\n",
       "</table>\n",
       "</div>"
      ],
      "text/plain": [
       "       year  age sex  meth  tv state period  before\n",
       "58072  2009   17   F     0   0    MT  after       1\n",
       "58073  2009   17   F     0   0    MT  after       1\n",
       "58074  2009   17   F     0   0    MT  after       1\n",
       "58075  2009   17   F     0   0    MT  after       1\n",
       "58076  2009   17   F     0   0    MT  after       1"
      ]
     },
     "execution_count": 28,
     "metadata": {},
     "output_type": "execute_result"
    }
   ],
   "source": [
    "yrbs.tail()"
   ]
  },
  {
   "cell_type": "code",
   "execution_count": 29,
   "metadata": {},
   "outputs": [
    {
     "data": {
      "text/plain": [
       "<matplotlib.legend.Legend at 0x10971a940>"
      ]
     },
     "execution_count": 29,
     "metadata": {},
     "output_type": "execute_result"
    },
    {
     "data": {
      "image/png": "[encoded data removed]",
      "text/plain": [
       "<matplotlib.figure.Figure at 0x11031c7b8>"
      ]
     },
     "metadata": {},
     "output_type": "display_data"
    }
   ],
   "source": [
    "ym = yrbs.groupby(['year', 'state']).meth.mean().reset_index()\n",
    "plt.plot(ym.year[ym.state=='MT'], ym.meth[ym.state=='MT'], label='MT')\n",
    "plt.plot(ym.year[ym.state=='XX'], ym.meth[ym.state=='XX'], label='National')\n",
    "plt.legend()"
   ]
  },
  {
   "cell_type": "markdown",
   "metadata": {},
   "source": [
    "### Task 2 (above)\n",
    "\n",
    "Looking at the above results we see that the decline is really steep for other parts of the nation. Specifically to Montana, we see that while 2005 to 2007 mark a decrease, the line starts to rise from 2007. This could be an overview to us in terms of understanding the diff-in-diff trends that we are about to explore later in the results. "
   ]
  },
  {
   "cell_type": "markdown",
   "metadata": {},
   "source": [
    "### Task 3 \n",
    "Looking at the table above, the mean usage of meth in Montana before the campaign was 0.07 which could be ball parked from the graph above. After the campaign, the mean meth usage went down to 0.03. This means that the campaign was indeed effective. Looking at the table below, we can say that the campaign was also effective for other parts of the nation considering the value fell down from 0.06 to 0.03. However, this is an outcome considering only one variable into account. "
   ]
  },
  {
   "cell_type": "code",
   "execution_count": 59,
   "metadata": {},
   "outputs": [
    {
     "name": "stdout",
     "output_type": "stream",
     "text": [
      "before\n",
      "0    0.076734\n",
      "1    0.038115\n",
      "Name: meth, dtype: float64\n",
      "before\n",
      "0    0.060319\n",
      "1    0.039923\n",
      "Name: meth, dtype: float64\n"
     ]
    }
   ],
   "source": [
    "print(yrbs[yrbs.state == 'MT'].groupby('before').meth.mean())\n",
    "m = smf.ols(formula = 'meth ~ before', data = yrbs[yrbs.state == 'MT'])\n",
    "print(yrbs[yrbs.state == 'XX'].groupby('before').meth.mean())\n",
    "m1 = smf.ols(formula = 'meth ~ before', data = yrbs[yrbs.state == 'XX'])"
   ]
  },
  {
   "cell_type": "code",
   "execution_count": 39,
   "metadata": {},
   "outputs": [
    {
     "name": "stdout",
     "output_type": "stream",
     "text": [
      "                            OLS Regression Results                            \n",
      "==============================================================================\n",
      "Dep. Variable:                   meth   R-squared:                       0.007\n",
      "Model:                            OLS   Adj. R-squared:                  0.007\n",
      "Method:                 Least Squares   F-statistic:                     67.66\n",
      "Date:                Wed, 18 Apr 2018   Prob (F-statistic):           2.19e-16\n",
      "Time:                        19:02:10   Log-Likelihood:                 417.76\n",
      "No. Observations:                9754   AIC:                            -831.5\n",
      "Df Residuals:                    9752   BIC:                            -817.1\n",
      "Df Model:                           1                                         \n",
      "Covariance Type:            nonrobust                                         \n",
      "==============================================================================\n",
      "                 coef    std err          t      P>|t|      [0.025      0.975]\n",
      "------------------------------------------------------------------------------\n",
      "Intercept      0.0767      0.003     23.106      0.000       0.070       0.083\n",
      "before        -0.0386      0.005     -8.225      0.000      -0.048      -0.029\n",
      "==============================================================================\n",
      "Omnibus:                     7326.455   Durbin-Watson:                   1.957\n",
      "Prob(Omnibus):                  0.000   Jarque-Bera (JB):            84570.020\n",
      "Skew:                           3.765   Prob(JB):                         0.00\n",
      "Kurtosis:                      15.304   Cond. No.                         2.62\n",
      "==============================================================================\n",
      "\n",
      "Warnings:\n",
      "[1] Standard Errors assume that the covariance matrix of the errors is correctly specified.\n"
     ]
    }
   ],
   "source": [
    "\n",
    "res = m.fit()\n",
    "print(res.summary())"
   ]
  },
  {
   "cell_type": "markdown",
   "metadata": {},
   "source": [
    "We can verify this by using regression and observing the intercepts. Here as we see, for Montana, the intercept value relates to before campaign. The value is 0.0767 which matches. The calculated diff-in-diff for above table comes up to 0.038115-0.076734=-0.0386. The 'before' argument below the intercept coincides with our diff-in-diff value. Same goes for the model fit observed for the State 'XX'. "
   ]
  },
  {
   "cell_type": "code",
   "execution_count": 40,
   "metadata": {},
   "outputs": [
    {
     "name": "stdout",
     "output_type": "stream",
     "text": [
      "                            OLS Regression Results                            \n",
      "==============================================================================\n",
      "Dep. Variable:                   meth   R-squared:                       0.002\n",
      "Model:                            OLS   Adj. R-squared:                  0.002\n",
      "Method:                 Least Squares   F-statistic:                     106.3\n",
      "Date:                Wed, 18 Apr 2018   Prob (F-statistic):           6.75e-25\n",
      "Time:                        19:02:33   Log-Likelihood:                 5183.8\n",
      "No. Observations:               48323   AIC:                        -1.036e+04\n",
      "Df Residuals:                   48321   BIC:                        -1.035e+04\n",
      "Df Model:                           1                                         \n",
      "Covariance Type:            nonrobust                                         \n",
      "==============================================================================\n",
      "                 coef    std err          t      P>|t|      [0.025      0.975]\n",
      "------------------------------------------------------------------------------\n",
      "Intercept      0.0603      0.001     42.518      0.000       0.058       0.063\n",
      "before        -0.0204      0.002    -10.310      0.000      -0.024      -0.017\n",
      "==============================================================================\n",
      "Omnibus:                    39335.938   Durbin-Watson:                   1.974\n",
      "Prob(Omnibus):                  0.000   Jarque-Bera (JB):           593239.917\n",
      "Skew:                           4.124   Prob(JB):                         0.00\n",
      "Kurtosis:                      18.054   Cond. No.                         2.65\n",
      "==============================================================================\n",
      "\n",
      "Warnings:\n",
      "[1] Standard Errors assume that the covariance matrix of the errors is correctly specified.\n"
     ]
    }
   ],
   "source": [
    "res1 = m1.fit()\n",
    "print(res1.summary())"
   ]
  },
  {
   "cell_type": "code",
   "execution_count": 43,
   "metadata": {},
   "outputs": [
    {
     "name": "stdout",
     "output_type": "stream",
     "text": [
      "                            OLS Regression Results                            \n",
      "==============================================================================\n",
      "Dep. Variable:                   meth   R-squared:                       0.010\n",
      "Model:                            OLS   Adj. R-squared:                  0.008\n",
      "Method:                 Least Squares   F-statistic:                     6.459\n",
      "Date:                Wed, 18 Apr 2018   Prob (F-statistic):           6.08e-14\n",
      "Time:                        19:08:14   Log-Likelihood:                 432.32\n",
      "No. Observations:                9754   AIC:                            -832.6\n",
      "Df Residuals:                    9738   BIC:                            -717.7\n",
      "Df Model:                          15                                         \n",
      "Covariance Type:            nonrobust                                         \n",
      "==========================================================================================\n",
      "                             coef    std err          t      P>|t|      [0.025      0.975]\n",
      "------------------------------------------------------------------------------------------\n",
      "Intercept                 -0.0797      0.102     -0.781      0.435      -0.280       0.120\n",
      "sex[T.M]                   0.0461      0.155      0.298      0.766      -0.257       0.349\n",
      "before                    -0.1337      0.139     -0.959      0.338      -0.407       0.140\n",
      "before:sex[T.M]            0.0140      0.211      0.067      0.947      -0.399       0.427\n",
      "age                        0.0099      0.006      1.533      0.125      -0.003       0.023\n",
      "age:sex[T.M]              -0.0033      0.010     -0.334      0.738      -0.023       0.016\n",
      "before:age                 0.0059      0.009      0.667      0.505      -0.011       0.023\n",
      "before:age:sex[T.M]       -0.0003      0.013     -0.021      0.983      -0.026       0.026\n",
      "tv                        -0.1016      0.147     -0.691      0.489      -0.390       0.186\n",
      "sex[T.M]:tv                0.0451      0.216      0.209      0.835      -0.378       0.469\n",
      "before:tv                  0.1147      0.206      0.556      0.579      -0.290       0.519\n",
      "before:sex[T.M]:tv         0.0524      0.302      0.173      0.862      -0.540       0.645\n",
      "age:tv                     0.0070      0.009      0.744      0.457      -0.011       0.025\n",
      "age:sex[T.M]:tv           -0.0031      0.014     -0.226      0.822      -0.030       0.024\n",
      "before:age:tv             -0.0075      0.013     -0.571      0.568      -0.033       0.018\n",
      "before:age:sex[T.M]:tv    -0.0036      0.019     -0.186      0.852      -0.041       0.034\n",
      "==============================================================================\n",
      "Omnibus:                     7298.185   Durbin-Watson:                   1.962\n",
      "Prob(Omnibus):                  0.000   Jarque-Bera (JB):            83575.689\n",
      "Skew:                           3.748   Prob(JB):                         0.00\n",
      "Kurtosis:                      15.225   Cond. No.                     4.44e+03\n",
      "==============================================================================\n",
      "\n",
      "Warnings:\n",
      "[1] Standard Errors assume that the covariance matrix of the errors is correctly specified.\n",
      "[2] The condition number is large, 4.44e+03. This might indicate that there are\n",
      "strong multicollinearity or other numerical problems.\n"
     ]
    }
   ],
   "source": [
    "mod3 = smf.ols(formula='meth~before*age*sex*tv', data=yrbs[yrbs.state=='MT'])\n",
    "res3 = mod3.fit()\n",
    "print(res3.summary())"
   ]
  },
  {
   "cell_type": "code",
   "execution_count": 44,
   "metadata": {},
   "outputs": [
    {
     "name": "stdout",
     "output_type": "stream",
     "text": [
      "                            OLS Regression Results                            \n",
      "==============================================================================\n",
      "Dep. Variable:                   meth   R-squared:                       0.004\n",
      "Model:                            OLS   Adj. R-squared:                  0.003\n",
      "Method:                 Least Squares   F-statistic:                     12.16\n",
      "Date:                Wed, 18 Apr 2018   Prob (F-statistic):           9.15e-31\n",
      "Time:                        19:11:22   Log-Likelihood:                 5221.7\n",
      "No. Observations:               48323   AIC:                        -1.041e+04\n",
      "Df Residuals:                   48307   BIC:                        -1.027e+04\n",
      "Df Model:                          15                                         \n",
      "Covariance Type:            nonrobust                                         \n",
      "==========================================================================================\n",
      "                             coef    std err          t      P>|t|      [0.025      0.975]\n",
      "------------------------------------------------------------------------------------------\n",
      "Intercept                 -0.0270      0.053     -0.513      0.608      -0.130       0.076\n",
      "sex[T.M]                  -0.0823      0.079     -1.045      0.296      -0.237       0.072\n",
      "before                    -0.0211      0.070     -0.302      0.763      -0.158       0.116\n",
      "before:sex[T.M]            0.0334      0.105      0.318      0.751      -0.172       0.239\n",
      "age                        0.0057      0.003      1.713      0.087      -0.001       0.012\n",
      "age:sex[T.M]               0.0057      0.005      1.152      0.249      -0.004       0.015\n",
      "before:age                -0.0002      0.004     -0.035      0.972      -0.009       0.008\n",
      "before:age:sex[T.M]       -0.0024      0.007     -0.356      0.722      -0.015       0.011\n",
      "tv                        -0.0056      0.065     -0.086      0.931      -0.133       0.122\n",
      "sex[T.M]:tv                0.0632      0.096      0.656      0.512      -0.126       0.252\n",
      "before:tv                  0.0492      0.089      0.554      0.579      -0.125       0.223\n",
      "before:sex[T.M]:tv        -0.0559      0.131     -0.426      0.670      -0.313       0.201\n",
      "age:tv                    -0.0002      0.004     -0.048      0.962      -0.008       0.008\n",
      "age:sex[T.M]:tv           -0.0041      0.006     -0.676      0.499      -0.016       0.008\n",
      "before:age:tv             -0.0030      0.006     -0.529      0.597      -0.014       0.008\n",
      "before:age:sex[T.M]:tv     0.0042      0.008      0.510      0.610      -0.012       0.020\n",
      "==============================================================================\n",
      "Omnibus:                    39263.310   Durbin-Watson:                   1.976\n",
      "Prob(Omnibus):                  0.000   Jarque-Bera (JB):           589778.350\n",
      "Skew:                           4.114   Prob(JB):                         0.00\n",
      "Kurtosis:                      18.007   Cond. No.                     5.34e+03\n",
      "==============================================================================\n",
      "\n",
      "Warnings:\n",
      "[1] Standard Errors assume that the covariance matrix of the errors is correctly specified.\n",
      "[2] The condition number is large, 5.34e+03. This might indicate that there are\n",
      "strong multicollinearity or other numerical problems.\n"
     ]
    }
   ],
   "source": [
    "mod4 = smf.ols(formula='meth~before*age*sex*tv', data=yrbs[yrbs.state=='XX'])\n",
    "res4 = mod4.fit()\n",
    "print(res4.summary())"
   ]
  },
  {
   "cell_type": "code",
   "execution_count": 50,
   "metadata": {},
   "outputs": [
    {
     "name": "stdout",
     "output_type": "stream",
     "text": [
      "state  before\n",
      "MT     0         0.076734\n",
      "       1         0.038115\n",
      "XX     0         0.060319\n",
      "       1         0.039923\n",
      "Name: meth, dtype: float64\n"
     ]
    }
   ],
   "source": [
    "print(yrbs.groupby(['state','before']).meth.mean())\n"
   ]
  },
  {
   "cell_type": "code",
   "execution_count": 48,
   "metadata": {},
   "outputs": [
    {
     "name": "stdout",
     "output_type": "stream",
     "text": [
      "                            OLS Regression Results                            \n",
      "==============================================================================\n",
      "Dep. Variable:                   meth   R-squared:                       0.000\n",
      "Model:                            OLS   Adj. R-squared:                 -0.000\n",
      "Method:                 Least Squares   F-statistic:                    0.3503\n",
      "Date:                Wed, 18 Apr 2018   Prob (F-statistic):              0.554\n",
      "Time:                        19:16:18   Log-Likelihood:                 6404.0\n",
      "No. Observations:               29728   AIC:                        -1.280e+04\n",
      "Df Residuals:                   29726   BIC:                        -1.279e+04\n",
      "Df Model:                           1                                         \n",
      "Covariance Type:            nonrobust                                         \n",
      "===============================================================================\n",
      "                  coef    std err          t      P>|t|      [0.025      0.975]\n",
      "-------------------------------------------------------------------------------\n",
      "Intercept       0.0381      0.003     13.648      0.000       0.033       0.044\n",
      "state[T.XX]     0.0018      0.003      0.592      0.554      -0.004       0.008\n",
      "==============================================================================\n",
      "Omnibus:                    27196.729   Durbin-Watson:                   1.976\n",
      "Prob(Omnibus):                  0.000   Jarque-Bera (JB):           619647.247\n",
      "Skew:                           4.720   Prob(JB):                         0.00\n",
      "Kurtosis:                      23.277   Cond. No.                         4.75\n",
      "==============================================================================\n",
      "\n",
      "Warnings:\n",
      "[1] Standard Errors assume that the covariance matrix of the errors is correctly specified.\n"
     ]
    }
   ],
   "source": [
    "m = smf.ols(formula='meth~state', data=yrbs[yrbs.before==1])\n",
    "res = m.fit()\n",
    "print(res.summary())"
   ]
  },
  {
   "cell_type": "code",
   "execution_count": 57,
   "metadata": {},
   "outputs": [
    {
     "name": "stdout",
     "output_type": "stream",
     "text": [
      "                            OLS Regression Results                            \n",
      "==============================================================================\n",
      "Dep. Variable:                   meth   R-squared:                       0.002\n",
      "Model:                            OLS   Adj. R-squared:                  0.002\n",
      "Method:                 Least Squares   F-statistic:                     4.184\n",
      "Date:                Wed, 18 Apr 2018   Prob (F-statistic):           8.61e-08\n",
      "Time:                        19:34:20   Log-Likelihood:                 6435.2\n",
      "No. Observations:               29728   AIC:                        -1.284e+04\n",
      "Df Residuals:                   29712   BIC:                        -1.271e+04\n",
      "Df Model:                          15                                         \n",
      "Covariance Type:            nonrobust                                         \n",
      "===============================================================================================\n",
      "                                  coef    std err          t      P>|t|      [0.025      0.975]\n",
      "-----------------------------------------------------------------------------------------------\n",
      "Intercept                      -0.2134      0.080     -2.670      0.008      -0.370      -0.057\n",
      "state[T.XX]                     0.1653      0.090      1.838      0.066      -0.011       0.342\n",
      "sex[T.M]                        0.0601      0.121      0.498      0.618      -0.176       0.296\n",
      "state[T.XX]:sex[T.M]           -0.1090      0.136     -0.803      0.422      -0.375       0.157\n",
      "age                             0.0159      0.005      3.123      0.002       0.006       0.026\n",
      "state[T.XX]:age                -0.0103      0.006     -1.813      0.070      -0.022       0.001\n",
      "age:sex[T.M]                   -0.0036      0.008     -0.466      0.641      -0.019       0.011\n",
      "state[T.XX]:age:sex[T.M]        0.0069      0.009      0.804      0.422      -0.010       0.024\n",
      "tv                              0.0132      0.122      0.108      0.914      -0.226       0.252\n",
      "state[T.XX]:tv                  0.0305      0.134      0.228      0.820      -0.231       0.292\n",
      "tv:sex[T.M]                     0.0975      0.178      0.548      0.584      -0.251       0.446\n",
      "state[T.XX]:tv:sex[T.M]        -0.0902      0.195     -0.463      0.644      -0.472       0.292\n",
      "age:tv                         -0.0005      0.008     -0.070      0.944      -0.016       0.015\n",
      "state[T.XX]:age:tv             -0.0026      0.008     -0.308      0.758      -0.019       0.014\n",
      "age:tv:sex[T.M]                -0.0067      0.011     -0.591      0.555      -0.029       0.015\n",
      "state[T.XX]:age:tv:sex[T.M]     0.0068      0.012      0.549      0.583      -0.017       0.031\n",
      "==============================================================================\n",
      "Omnibus:                    27133.773   Durbin-Watson:                   1.980\n",
      "Prob(Omnibus):                  0.000   Jarque-Bera (JB):           614678.081\n",
      "Skew:                           4.705   Prob(JB):                         0.00\n",
      "Kurtosis:                      23.191   Cond. No.                     8.29e+03\n",
      "==============================================================================\n",
      "\n",
      "Warnings:\n",
      "[1] Standard Errors assume that the covariance matrix of the errors is correctly specified.\n",
      "[2] The condition number is large, 8.29e+03. This might indicate that there are\n",
      "strong multicollinearity or other numerical problems.\n"
     ]
    }
   ],
   "source": [
    "m = smf.ols(formula='meth~state*age*tv*sex*state', data=yrbs[yrbs.before==1])\n",
    "res = m.fit()\n",
    "print(res.summary())"
   ]
  },
  {
   "cell_type": "code",
   "execution_count": 58,
   "metadata": {},
   "outputs": [
    {
     "name": "stdout",
     "output_type": "stream",
     "text": [
      "                            OLS Regression Results                            \n",
      "==============================================================================\n",
      "Dep. Variable:                   meth   R-squared:                       0.003\n",
      "Model:                            OLS   Adj. R-squared:                  0.003\n",
      "Method:                 Least Squares   F-statistic:                     62.92\n",
      "Date:                Wed, 18 Apr 2018   Prob (F-statistic):           1.31e-40\n",
      "Time:                        19:36:44   Log-Likelihood:                 5566.9\n",
      "No. Observations:               58077   AIC:                        -1.113e+04\n",
      "Df Residuals:                   58073   BIC:                        -1.109e+04\n",
      "Df Model:                           3                                         \n",
      "Covariance Type:            nonrobust                                         \n",
      "======================================================================================\n",
      "                         coef    std err          t      P>|t|      [0.025      0.975]\n",
      "--------------------------------------------------------------------------------------\n",
      "Intercept              0.0767      0.003     24.366      0.000       0.071       0.083\n",
      "state[T.XX]           -0.0164      0.003     -4.743      0.000      -0.023      -0.010\n",
      "before                -0.0386      0.004     -8.674      0.000      -0.047      -0.030\n",
      "before:state[T.XX]     0.0182      0.005      3.733      0.000       0.009       0.028\n",
      "==============================================================================\n",
      "Omnibus:                    46583.747   Durbin-Watson:                   1.971\n",
      "Prob(Omnibus):                  0.000   Jarque-Bera (JB):           670089.493\n",
      "Skew:                           4.057   Prob(JB):                         0.00\n",
      "Kurtosis:                      17.528   Cond. No.                         12.4\n",
      "==============================================================================\n",
      "\n",
      "Warnings:\n",
      "[1] Standard Errors assume that the covariance matrix of the errors is correctly specified.\n"
     ]
    }
   ],
   "source": [
    "m = smf.ols(formula='meth~before*state', data=yrbs)\n",
    "res = m.fit()\n",
    "print(res.summary())"
   ]
  },
  {
   "cell_type": "code",
   "execution_count": 56,
   "metadata": {},
   "outputs": [
    {
     "data": {
      "text/plain": [
       "0.016415"
      ]
     },
     "execution_count": 56,
     "metadata": {},
     "output_type": "execute_result"
    }
   ],
   "source": [
    "\n",
    "0.076734-0.060319\n"
   ]
  },
  {
   "cell_type": "code",
   "execution_count": null,
   "metadata": {
    "collapsed": true
   },
   "outputs": [],
   "source": []
  }
 ],
 "metadata": {
  "kernelspec": {
   "display_name": "Python 3",
   "language": "python",
   "name": "python3"
  },
  "language_info": {
   "codemirror_mode": {
    "name": "ipython",
    "version": 3
   },
   "file_extension": ".py",
   "mimetype": "text/x-python",
   "name": "python",
   "nbconvert_exporter": "python",
   "pygments_lexer": "ipython3",
   "version": "3.6.3"
  }
 },
 "nbformat": 4,
 "nbformat_minor": 2
}
